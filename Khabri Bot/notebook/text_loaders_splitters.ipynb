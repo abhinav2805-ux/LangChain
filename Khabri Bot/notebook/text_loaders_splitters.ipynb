{
 "cells": [
  {
   "cell_type": "code",
   "execution_count": 1,
   "id": "e43d6178-21cb-4f92-82d1-d3686986709e",
   "metadata": {},
   "outputs": [
    {
     "name": "stdout",
     "output_type": "stream",
     "text": [
      "Requirement already satisfied: langchain in c:\\users\\gupta\\anaconda3\\lib\\site-packages (0.3.22)\n",
      "Collecting langchain-google-genai\n",
      "  Downloading langchain_google_genai-2.1.2-py3-none-any.whl.metadata (4.7 kB)\n",
      "Collecting google-generativeai\n",
      "  Downloading google_generativeai-0.8.4-py3-none-any.whl.metadata (4.2 kB)\n",
      "Requirement already satisfied: langchain-core<1.0.0,>=0.3.49 in c:\\users\\gupta\\anaconda3\\lib\\site-packages (from langchain) (0.3.49)\n",
      "Requirement already satisfied: langchain-text-splitters<1.0.0,>=0.3.7 in c:\\users\\gupta\\anaconda3\\lib\\site-packages (from langchain) (0.3.7)\n",
      "Requirement already satisfied: langsmith<0.4,>=0.1.17 in c:\\users\\gupta\\anaconda3\\lib\\site-packages (from langchain) (0.1.147)\n",
      "Requirement already satisfied: pydantic<3.0.0,>=2.7.4 in c:\\users\\gupta\\anaconda3\\lib\\site-packages (from langchain) (2.10.3)\n",
      "Requirement already satisfied: SQLAlchemy<3,>=1.4 in c:\\users\\gupta\\anaconda3\\lib\\site-packages (from langchain) (2.0.25)\n",
      "Requirement already satisfied: requests<3,>=2 in c:\\users\\gupta\\anaconda3\\lib\\site-packages (from langchain) (2.31.0)\n",
      "Requirement already satisfied: PyYAML>=5.3 in c:\\users\\gupta\\anaconda3\\lib\\site-packages (from langchain) (6.0.1)\n",
      "Collecting filetype<2.0.0,>=1.2.0 (from langchain-google-genai)\n",
      "  Downloading filetype-1.2.0-py2.py3-none-any.whl.metadata (6.5 kB)\n",
      "Collecting google-ai-generativelanguage<0.7.0,>=0.6.16 (from langchain-google-genai)\n",
      "  Downloading google_ai_generativelanguage-0.6.17-py3-none-any.whl.metadata (9.8 kB)\n",
      "INFO: pip is looking at multiple versions of google-generativeai to determine which version is compatible with other requirements. This could take a while.\n",
      "Collecting google-generativeai\n",
      "  Downloading google_generativeai-0.8.3-py3-none-any.whl.metadata (3.9 kB)\n",
      "  Downloading google_generativeai-0.8.2-py3-none-any.whl.metadata (3.9 kB)\n",
      "  Downloading google_generativeai-0.8.1-py3-none-any.whl.metadata (3.9 kB)\n",
      "  Downloading google_generativeai-0.8.0-py3-none-any.whl.metadata (3.9 kB)\n",
      "  Downloading google_generativeai-0.7.2-py3-none-any.whl.metadata (4.0 kB)\n",
      "  Downloading google_generativeai-0.7.1-py3-none-any.whl.metadata (3.9 kB)\n",
      "  Downloading google_generativeai-0.7.0-py3-none-any.whl.metadata (3.9 kB)\n",
      "INFO: pip is still looking at multiple versions of google-generativeai to determine which version is compatible with other requirements. This could take a while.\n",
      "  Downloading google_generativeai-0.6.0-py3-none-any.whl.metadata (3.9 kB)\n",
      "  Downloading google_generativeai-0.5.4-py3-none-any.whl.metadata (3.9 kB)\n",
      "  Downloading google_generativeai-0.5.3-py3-none-any.whl.metadata (3.9 kB)\n",
      "  Downloading google_generativeai-0.5.2-py3-none-any.whl.metadata (3.9 kB)\n",
      "  Downloading google_generativeai-0.5.1-py3-none-any.whl.metadata (3.9 kB)\n",
      "INFO: This is taking longer than usual. You might need to provide the dependency resolver with stricter constraints to reduce runtime. See https://pip.pypa.io/warnings/backtracking for guidance. If you want to abort this run, press Ctrl + C.\n",
      "  Downloading google_generativeai-0.5.0-py3-none-any.whl.metadata (3.9 kB)\n",
      "  Downloading google_generativeai-0.4.1-py3-none-any.whl.metadata (6.2 kB)\n",
      "  Downloading google_generativeai-0.4.0-py3-none-any.whl.metadata (6.2 kB)\n",
      "  Downloading google_generativeai-0.3.2-py3-none-any.whl.metadata (5.9 kB)\n",
      "  Downloading google_generativeai-0.3.1-py3-none-any.whl.metadata (5.9 kB)\n",
      "  Downloading google_generativeai-0.3.0-py3-none-any.whl.metadata (5.8 kB)\n",
      "  Downloading google_generativeai-0.2.2-py3-none-any.whl.metadata (3.1 kB)\n",
      "  Downloading google_generativeai-0.2.1-py3-none-any.whl.metadata (3.1 kB)\n",
      "  Downloading google_generativeai-0.2.0-py3-none-any.whl.metadata (3.1 kB)\n",
      "  Downloading google_generativeai-0.1.0-py3-none-any.whl.metadata (3.0 kB)\n",
      "Collecting langchain-google-genai\n",
      "  Downloading langchain_google_genai-2.1.1-py3-none-any.whl.metadata (4.7 kB)\n",
      "  Downloading langchain_google_genai-2.1.0-py3-none-any.whl.metadata (3.6 kB)\n",
      "  Downloading langchain_google_genai-2.0.11-py3-none-any.whl.metadata (3.6 kB)\n",
      "  Downloading langchain_google_genai-2.0.10-py3-none-any.whl.metadata (3.6 kB)\n",
      "Collecting google-ai-generativelanguage==0.6.15 (from google-generativeai)\n",
      "  Downloading google_ai_generativelanguage-0.6.15-py3-none-any.whl.metadata (5.7 kB)\n",
      "Collecting google-api-core (from google-generativeai)\n",
      "  Downloading google_api_core-2.24.2-py3-none-any.whl.metadata (3.0 kB)\n",
      "Collecting google-api-python-client (from google-generativeai)\n",
      "  Downloading google_api_python_client-2.166.0-py2.py3-none-any.whl.metadata (6.6 kB)\n",
      "Collecting google-auth>=2.15.0 (from google-generativeai)\n",
      "  Using cached google_auth-2.38.0-py2.py3-none-any.whl.metadata (4.8 kB)\n",
      "Requirement already satisfied: protobuf in c:\\users\\gupta\\anaconda3\\lib\\site-packages (from google-generativeai) (3.20.3)\n",
      "Requirement already satisfied: tqdm in c:\\users\\gupta\\anaconda3\\lib\\site-packages (from google-generativeai) (4.65.0)\n",
      "Requirement already satisfied: typing-extensions in c:\\users\\gupta\\anaconda3\\lib\\site-packages (from google-generativeai) (4.12.2)\n",
      "Collecting proto-plus<2.0.0dev,>=1.22.3 (from google-ai-generativelanguage==0.6.15->google-generativeai)\n",
      "  Downloading proto_plus-1.26.1-py3-none-any.whl.metadata (2.2 kB)\n",
      "Collecting googleapis-common-protos<2.0.0,>=1.56.2 (from google-api-core->google-generativeai)\n",
      "  Downloading googleapis_common_protos-1.69.2-py3-none-any.whl.metadata (9.3 kB)\n",
      "Requirement already satisfied: cachetools<6.0,>=2.0.0 in c:\\users\\gupta\\anaconda3\\lib\\site-packages (from google-auth>=2.15.0->google-generativeai) (4.2.2)\n",
      "Requirement already satisfied: pyasn1-modules>=0.2.1 in c:\\users\\gupta\\anaconda3\\lib\\site-packages (from google-auth>=2.15.0->google-generativeai) (0.2.8)\n",
      "Collecting rsa<5,>=3.1.4 (from google-auth>=2.15.0->google-generativeai)\n",
      "  Using cached rsa-4.9-py3-none-any.whl.metadata (4.2 kB)\n",
      "Requirement already satisfied: tenacity!=8.4.0,<10.0.0,>=8.1.0 in c:\\users\\gupta\\anaconda3\\lib\\site-packages (from langchain-core<1.0.0,>=0.3.49->langchain) (8.2.2)\n",
      "Requirement already satisfied: jsonpatch<2.0,>=1.33 in c:\\users\\gupta\\anaconda3\\lib\\site-packages (from langchain-core<1.0.0,>=0.3.49->langchain) (1.33)\n",
      "Requirement already satisfied: packaging<25,>=23.2 in c:\\users\\gupta\\anaconda3\\lib\\site-packages (from langchain-core<1.0.0,>=0.3.49->langchain) (24.2)\n",
      "Requirement already satisfied: httpx<1,>=0.23.0 in c:\\users\\gupta\\anaconda3\\lib\\site-packages (from langsmith<0.4,>=0.1.17->langchain) (0.27.0)\n",
      "Requirement already satisfied: orjson<4.0.0,>=3.9.14 in c:\\users\\gupta\\anaconda3\\lib\\site-packages (from langsmith<0.4,>=0.1.17->langchain) (3.10.14)\n",
      "Requirement already satisfied: requests-toolbelt<2.0.0,>=1.0.0 in c:\\users\\gupta\\anaconda3\\lib\\site-packages (from langsmith<0.4,>=0.1.17->langchain) (1.0.0)\n",
      "Requirement already satisfied: annotated-types>=0.6.0 in c:\\users\\gupta\\anaconda3\\lib\\site-packages (from pydantic<3.0.0,>=2.7.4->langchain) (0.6.0)\n",
      "Requirement already satisfied: pydantic-core==2.27.1 in c:\\users\\gupta\\anaconda3\\lib\\site-packages (from pydantic<3.0.0,>=2.7.4->langchain) (2.27.1)\n",
      "Requirement already satisfied: charset-normalizer<4,>=2 in c:\\users\\gupta\\anaconda3\\lib\\site-packages (from requests<3,>=2->langchain) (2.0.4)\n",
      "Requirement already satisfied: idna<4,>=2.5 in c:\\users\\gupta\\anaconda3\\lib\\site-packages (from requests<3,>=2->langchain) (3.4)\n",
      "Requirement already satisfied: urllib3<3,>=1.21.1 in c:\\users\\gupta\\anaconda3\\lib\\site-packages (from requests<3,>=2->langchain) (2.0.7)\n",
      "Requirement already satisfied: certifi>=2017.4.17 in c:\\users\\gupta\\anaconda3\\lib\\site-packages (from requests<3,>=2->langchain) (2025.1.31)\n",
      "Requirement already satisfied: greenlet!=0.4.17 in c:\\users\\gupta\\anaconda3\\lib\\site-packages (from SQLAlchemy<3,>=1.4->langchain) (3.0.1)\n",
      "Collecting httplib2<1.0.0,>=0.19.0 (from google-api-python-client->google-generativeai)\n",
      "  Using cached httplib2-0.22.0-py3-none-any.whl.metadata (2.6 kB)\n",
      "Collecting google-auth-httplib2<1.0.0,>=0.2.0 (from google-api-python-client->google-generativeai)\n",
      "  Using cached google_auth_httplib2-0.2.0-py2.py3-none-any.whl.metadata (2.2 kB)\n",
      "Collecting uritemplate<5,>=3.0.1 (from google-api-python-client->google-generativeai)\n",
      "  Using cached uritemplate-4.1.1-py2.py3-none-any.whl.metadata (2.9 kB)\n",
      "Requirement already satisfied: colorama in c:\\users\\gupta\\anaconda3\\lib\\site-packages (from tqdm->google-generativeai) (0.4.6)\n",
      "Requirement already satisfied: grpcio<2.0dev,>=1.33.2 in c:\\users\\gupta\\anaconda3\\lib\\site-packages (from google-api-core[grpc]!=2.0.*,!=2.1.*,!=2.10.*,!=2.2.*,!=2.3.*,!=2.4.*,!=2.5.*,!=2.6.*,!=2.7.*,!=2.8.*,!=2.9.*,<3.0.0dev,>=1.34.1->google-ai-generativelanguage==0.6.15->google-generativeai) (1.71.0)\n",
      "Collecting grpcio-status<2.0.dev0,>=1.33.2 (from google-api-core[grpc]!=2.0.*,!=2.1.*,!=2.10.*,!=2.2.*,!=2.3.*,!=2.4.*,!=2.5.*,!=2.6.*,!=2.7.*,!=2.8.*,!=2.9.*,<3.0.0dev,>=1.34.1->google-ai-generativelanguage==0.6.15->google-generativeai)\n",
      "  Downloading grpcio_status-1.71.0-py3-none-any.whl.metadata (1.1 kB)\n",
      "Requirement already satisfied: pyparsing!=3.0.0,!=3.0.1,!=3.0.2,!=3.0.3,<4,>=2.4.2 in c:\\users\\gupta\\anaconda3\\lib\\site-packages (from httplib2<1.0.0,>=0.19.0->google-api-python-client->google-generativeai) (3.0.9)\n",
      "Requirement already satisfied: anyio in c:\\users\\gupta\\anaconda3\\lib\\site-packages (from httpx<1,>=0.23.0->langsmith<0.4,>=0.1.17->langchain) (4.2.0)\n",
      "Requirement already satisfied: httpcore==1.* in c:\\users\\gupta\\anaconda3\\lib\\site-packages (from httpx<1,>=0.23.0->langsmith<0.4,>=0.1.17->langchain) (1.0.2)\n",
      "Requirement already satisfied: sniffio in c:\\users\\gupta\\anaconda3\\lib\\site-packages (from httpx<1,>=0.23.0->langsmith<0.4,>=0.1.17->langchain) (1.3.0)\n",
      "Requirement already satisfied: h11<0.15,>=0.13 in c:\\users\\gupta\\anaconda3\\lib\\site-packages (from httpcore==1.*->httpx<1,>=0.23.0->langsmith<0.4,>=0.1.17->langchain) (0.14.0)\n",
      "Requirement already satisfied: jsonpointer>=1.9 in c:\\users\\gupta\\anaconda3\\lib\\site-packages (from jsonpatch<2.0,>=1.33->langchain-core<1.0.0,>=0.3.49->langchain) (2.1)\n",
      "Requirement already satisfied: pyasn1<0.5.0,>=0.4.6 in c:\\users\\gupta\\anaconda3\\lib\\site-packages (from pyasn1-modules>=0.2.1->google-auth>=2.15.0->google-generativeai) (0.4.8)\n",
      "Collecting protobuf (from google-generativeai)\n",
      "  Downloading protobuf-5.29.4-cp310-abi3-win_amd64.whl.metadata (592 bytes)\n",
      "Downloading langchain_google_genai-2.0.10-py3-none-any.whl (41 kB)\n",
      "   ---------------------------------------- 0.0/42.0 kB ? eta -:--:--\n",
      "   ---------------------------------------- 42.0/42.0 kB 2.0 MB/s eta 0:00:00\n",
      "Downloading google_generativeai-0.8.4-py3-none-any.whl (175 kB)\n",
      "   ---------------------------------------- 0.0/175.4 kB ? eta -:--:--\n",
      "   --------------------------------------- 175.4/175.4 kB 11.0 MB/s eta 0:00:00\n",
      "Downloading google_ai_generativelanguage-0.6.15-py3-none-any.whl (1.3 MB)\n",
      "   ---------------------------------------- 0.0/1.3 MB ? eta -:--:--\n",
      "   ---------------- ----------------------- 0.6/1.3 MB 11.8 MB/s eta 0:00:01\n",
      "   ---------------------- ----------------- 0.7/1.3 MB 7.7 MB/s eta 0:00:01\n",
      "   -------------------------- ------------- 0.9/1.3 MB 6.2 MB/s eta 0:00:01\n",
      "   -------------------------- ------------- 0.9/1.3 MB 6.2 MB/s eta 0:00:01\n",
      "   ----------------------------- ---------- 1.0/1.3 MB 4.1 MB/s eta 0:00:01\n",
      "   ---------------------------------------- 1.3/1.3 MB 4.7 MB/s eta 0:00:00\n",
      "Downloading filetype-1.2.0-py2.py3-none-any.whl (19 kB)\n",
      "Downloading google_api_core-2.24.2-py3-none-any.whl (160 kB)\n",
      "   ---------------------------------------- 0.0/160.1 kB ? eta -:--:--\n",
      "   ---------------------------------------- 160.1/160.1 kB 9.4 MB/s eta 0:00:00\n",
      "Using cached google_auth-2.38.0-py2.py3-none-any.whl (210 kB)\n",
      "Downloading google_api_python_client-2.166.0-py2.py3-none-any.whl (13.2 MB)\n",
      "   ---------------------------------------- 0.0/13.2 MB ? eta -:--:--\n",
      "   - -------------------------------------- 0.4/13.2 MB 11.2 MB/s eta 0:00:02\n",
      "   - -------------------------------------- 0.6/13.2 MB 7.0 MB/s eta 0:00:02\n",
      "   -- ------------------------------------- 0.7/13.2 MB 6.1 MB/s eta 0:00:03\n",
      "   -- ------------------------------------- 0.7/13.2 MB 6.1 MB/s eta 0:00:03\n",
      "   -- ------------------------------------- 0.7/13.2 MB 6.1 MB/s eta 0:00:03\n",
      "   --- ------------------------------------ 1.3/13.2 MB 4.7 MB/s eta 0:00:03\n",
      "   ---- ----------------------------------- 1.5/13.2 MB 4.6 MB/s eta 0:00:03\n",
      "   ---- ----------------------------------- 1.6/13.2 MB 4.5 MB/s eta 0:00:03\n",
      "   ----- ---------------------------------- 1.8/13.2 MB 4.4 MB/s eta 0:00:03\n",
      "   ------ --------------------------------- 2.0/13.2 MB 4.4 MB/s eta 0:00:03\n",
      "   ------ --------------------------------- 2.2/13.2 MB 4.3 MB/s eta 0:00:03\n",
      "   ------ --------------------------------- 2.3/13.2 MB 4.4 MB/s eta 0:00:03\n",
      "   ------- -------------------------------- 2.4/13.2 MB 4.2 MB/s eta 0:00:03\n",
      "   ------- -------------------------------- 2.6/13.2 MB 4.1 MB/s eta 0:00:03\n",
      "   -------- ------------------------------- 2.8/13.2 MB 4.2 MB/s eta 0:00:03\n",
      "   --------- ------------------------------ 3.0/13.2 MB 4.1 MB/s eta 0:00:03\n",
      "   --------- ------------------------------ 3.2/13.2 MB 4.1 MB/s eta 0:00:03\n",
      "   ---------- ----------------------------- 3.4/13.2 MB 4.1 MB/s eta 0:00:03\n",
      "   ---------- ----------------------------- 3.5/13.2 MB 4.1 MB/s eta 0:00:03\n",
      "   ----------- ---------------------------- 3.7/13.2 MB 4.1 MB/s eta 0:00:03\n",
      "   ----------- ---------------------------- 3.9/13.2 MB 4.1 MB/s eta 0:00:03\n",
      "   ------------ --------------------------- 4.1/13.2 MB 4.1 MB/s eta 0:00:03\n",
      "   ------------ --------------------------- 4.3/13.2 MB 4.1 MB/s eta 0:00:03\n",
      "   ------------- -------------------------- 4.4/13.2 MB 4.1 MB/s eta 0:00:03\n",
      "   -------------- ------------------------- 4.6/13.2 MB 4.0 MB/s eta 0:00:03\n",
      "   -------------- ------------------------- 4.8/13.2 MB 4.0 MB/s eta 0:00:03\n",
      "   --------------- ------------------------ 5.0/13.2 MB 4.0 MB/s eta 0:00:03\n",
      "   --------------- ------------------------ 5.2/13.2 MB 4.0 MB/s eta 0:00:02\n",
      "   ---------------- ----------------------- 5.3/13.2 MB 4.0 MB/s eta 0:00:02\n",
      "   ---------------- ----------------------- 5.5/13.2 MB 4.0 MB/s eta 0:00:02\n",
      "   ----------------- ---------------------- 5.7/13.2 MB 4.0 MB/s eta 0:00:02\n",
      "   ----------------- ---------------------- 5.9/13.2 MB 4.0 MB/s eta 0:00:02\n",
      "   ------------------ --------------------- 6.1/13.2 MB 4.0 MB/s eta 0:00:02\n",
      "   ------------------ --------------------- 6.3/13.2 MB 4.0 MB/s eta 0:00:02\n",
      "   ------------------- -------------------- 6.4/13.2 MB 4.0 MB/s eta 0:00:02\n",
      "   -------------------- ------------------- 6.6/13.2 MB 4.0 MB/s eta 0:00:02\n",
      "   -------------------- ------------------- 6.8/13.2 MB 4.0 MB/s eta 0:00:02\n",
      "   --------------------- ------------------ 7.0/13.2 MB 4.0 MB/s eta 0:00:02\n",
      "   --------------------- ------------------ 7.1/13.2 MB 4.0 MB/s eta 0:00:02\n",
      "   ---------------------- ----------------- 7.3/13.2 MB 4.0 MB/s eta 0:00:02\n",
      "   ---------------------- ----------------- 7.5/13.2 MB 4.0 MB/s eta 0:00:02\n",
      "   ----------------------- ---------------- 7.7/13.2 MB 4.0 MB/s eta 0:00:02\n",
      "   ----------------------- ---------------- 7.9/13.2 MB 4.0 MB/s eta 0:00:02\n",
      "   ------------------------ --------------- 8.0/13.2 MB 4.0 MB/s eta 0:00:02\n",
      "   ------------------------ --------------- 8.2/13.2 MB 4.0 MB/s eta 0:00:02\n",
      "   ------------------------- -------------- 8.4/13.2 MB 4.0 MB/s eta 0:00:02\n",
      "   -------------------------- ------------- 8.6/13.2 MB 4.0 MB/s eta 0:00:02\n",
      "   -------------------------- ------------- 8.8/13.2 MB 4.0 MB/s eta 0:00:02\n",
      "   --------------------------- ------------ 8.9/13.2 MB 4.0 MB/s eta 0:00:02\n",
      "   --------------------------- ------------ 9.1/13.2 MB 4.0 MB/s eta 0:00:02\n",
      "   ---------------------------- ----------- 9.3/13.2 MB 4.0 MB/s eta 0:00:01\n",
      "   ---------------------------- ----------- 9.5/13.2 MB 3.9 MB/s eta 0:00:01\n",
      "   ----------------------------- ---------- 9.7/13.2 MB 4.0 MB/s eta 0:00:01\n",
      "   ----------------------------- ---------- 9.9/13.2 MB 4.0 MB/s eta 0:00:01\n",
      "   ------------------------------ --------- 10.0/13.2 MB 4.0 MB/s eta 0:00:01\n",
      "   ------------------------------ --------- 10.2/13.2 MB 4.0 MB/s eta 0:00:01\n",
      "   ------------------------------- -------- 10.3/13.2 MB 3.9 MB/s eta 0:00:01\n",
      "   -------------------------------- ------- 10.6/13.2 MB 3.9 MB/s eta 0:00:01\n",
      "   -------------------------------- ------- 10.8/13.2 MB 3.9 MB/s eta 0:00:01\n",
      "   --------------------------------- ------ 10.9/13.2 MB 4.0 MB/s eta 0:00:01\n",
      "   --------------------------------- ------ 11.1/13.2 MB 4.0 MB/s eta 0:00:01\n",
      "   ---------------------------------- ----- 11.3/13.2 MB 3.9 MB/s eta 0:00:01\n",
      "   ---------------------------------- ----- 11.5/13.2 MB 3.9 MB/s eta 0:00:01\n",
      "   ----------------------------------- ---- 11.7/13.2 MB 3.9 MB/s eta 0:00:01\n",
      "   ----------------------------------- ---- 11.8/13.2 MB 3.9 MB/s eta 0:00:01\n",
      "   ------------------------------------ --- 12.0/13.2 MB 3.9 MB/s eta 0:00:01\n",
      "   ------------------------------------ --- 12.2/13.2 MB 3.9 MB/s eta 0:00:01\n",
      "   ------------------------------------- -- 12.4/13.2 MB 3.9 MB/s eta 0:00:01\n",
      "   -------------------------------------- - 12.6/13.2 MB 3.9 MB/s eta 0:00:01\n",
      "   -------------------------------------- - 12.7/13.2 MB 3.9 MB/s eta 0:00:01\n",
      "   ---------------------------------------  12.9/13.2 MB 3.9 MB/s eta 0:00:01\n",
      "   ---------------------------------------  13.1/13.2 MB 3.9 MB/s eta 0:00:01\n",
      "   ---------------------------------------  13.2/13.2 MB 3.9 MB/s eta 0:00:01\n",
      "   ---------------------------------------- 13.2/13.2 MB 3.8 MB/s eta 0:00:00\n",
      "Using cached google_auth_httplib2-0.2.0-py2.py3-none-any.whl (9.3 kB)\n",
      "Downloading googleapis_common_protos-1.69.2-py3-none-any.whl (293 kB)\n",
      "   ---------------------------------------- 0.0/293.2 kB ? eta -:--:--\n",
      "   ---------------------------------------  286.7/293.2 kB 8.9 MB/s eta 0:00:01\n",
      "   ---------------------------------------- 293.2/293.2 kB 6.0 MB/s eta 0:00:00\n",
      "Using cached httplib2-0.22.0-py3-none-any.whl (96 kB)\n",
      "Downloading proto_plus-1.26.1-py3-none-any.whl (50 kB)\n",
      "   ---------------------------------------- 0.0/50.2 kB ? eta -:--:--\n",
      "   ---------------------------------------- 50.2/50.2 kB 2.5 MB/s eta 0:00:00\n",
      "Using cached rsa-4.9-py3-none-any.whl (34 kB)\n",
      "Using cached uritemplate-4.1.1-py2.py3-none-any.whl (10 kB)\n",
      "Downloading grpcio_status-1.71.0-py3-none-any.whl (14 kB)\n",
      "Downloading protobuf-5.29.4-cp310-abi3-win_amd64.whl (434 kB)\n",
      "   ---------------------------------------- 0.0/434.5 kB ? eta -:--:--\n",
      "   --------------------------------------- 434.5/434.5 kB 13.7 MB/s eta 0:00:00\n",
      "Installing collected packages: filetype, uritemplate, rsa, protobuf, httplib2, proto-plus, googleapis-common-protos, google-auth, grpcio-status, google-auth-httplib2, google-api-core, google-api-python-client, google-ai-generativelanguage, google-generativeai, langchain-google-genai\n",
      "  Attempting uninstall: protobuf\n",
      "    Found existing installation: protobuf 3.20.3\n",
      "    Uninstalling protobuf-3.20.3:\n",
      "      Successfully uninstalled protobuf-3.20.3\n",
      "Successfully installed filetype-1.2.0 google-ai-generativelanguage-0.6.15 google-api-core-2.24.2 google-api-python-client-2.166.0 google-auth-2.38.0 google-auth-httplib2-0.2.0 google-generativeai-0.8.4 googleapis-common-protos-1.69.2 grpcio-status-1.71.0 httplib2-0.22.0 langchain-google-genai-2.0.10 proto-plus-1.26.1 protobuf-5.29.4 rsa-4.9 uritemplate-4.1.1\n"
     ]
    }
   ],
   "source": [
    "!pip install langchain langchain-google-genai google-generativeai\n"
   ]
  },
  {
   "cell_type": "markdown",
   "id": "6cf98a42-e211-47c1-8a6b-3446270dd258",
   "metadata": {},
   "source": [
    "## Setup LangChain with Gemini API"
   ]
  },
  {
   "cell_type": "code",
   "execution_count": 7,
   "id": "02f8ae1a-cf18-4b06-9ff3-262b9c5cfde1",
   "metadata": {},
   "outputs": [
    {
     "name": "stdout",
     "output_type": "stream",
     "text": [
      "LangChain is a powerful framework designed to simplify the development of applications powered by large language models (LLMs). Think of it as a toolkit that provides building blocks and structures for connecting LLMs to external data sources and other components, allowing you to create sophisticated applications that go beyond simple text generation.\n",
      "\n",
      "Here's a breakdown of how LangChain works:\n",
      "\n",
      "**1. Core Components & Concepts:**\n",
      "\n",
      "*   **Models (LLMs & Chat Models):** LangChain provides a unified interface for interacting with various LLMs, including OpenAI's GPT models, Google's PaLM, open-source models like Llama 2, and more.  It abstracts away the specific API calls and nuances of each model, allowing you to switch between them easily.\n",
      "    *   **LLMs:**  These are the basic text-in, text-out models.  You give them a prompt, and they generate a completion.\n",
      "    *   **Chat Models:** These are designed for conversational interfaces.  They track the conversation history (messages) and can respond in a more context-aware manner.\n",
      "\n",
      "*   **Prompts:**  A prompt is the input you provide to the LLM.  LangChain offers tools for creating and managing prompts effectively.  This includes:\n",
      "    *   **Prompt Templates:**  These are pre-defined structures for prompts, often containing placeholders for variables.  They help ensure consistency and reduce errors.  For example, a prompt template for summarizing a document might look like: \"Summarize the following document: {document}\".\n",
      "    *   **Example Selectors:**  These allow you to dynamically select relevant examples to include in your prompt, which can significantly improve the LLM's performance on specific tasks (few-shot learning).\n",
      "\n",
      "*   **Chains:**  This is where LangChain shines.  Chains are sequences of calls to LLMs or other utilities.  They allow you to create complex workflows by connecting different components together.  Think of them as pipelines.  Common chain types include:\n",
      "    *   **LLMChain:**  The most basic chain, consisting of a PromptTemplate, a Model (LLM or ChatModel), and an optional output parser.  It formats the prompt, sends it to the LLM, and then optionally parses the output.\n",
      "    *   **SequentialChain:**  Allows you to chain together multiple chains in a sequence. The output of one chain becomes the input to the next.\n",
      "    *   **RouterChain:**  Dynamically routes the input to different chains based on the input itself, allowing for branching logic.\n",
      "    *   **RetrievalQAChain:**  Specifically designed for question answering over documents.  It combines a retriever (to find relevant documents) with an LLM (to answer the question).\n",
      "\n",
      "*   **Indexes (Data Connection):**  LLMs have limited knowledge of the world beyond their training data.  Indexes allow you to connect your LLM to external data sources, such as:\n",
      "    *   **Document Loaders:**  Load documents from various sources (PDFs, websites, databases, etc.). LangChain provides loaders for many common file formats and data sources.\n",
      "    *   **Text Splitters:**  Break down large documents into smaller chunks that fit within the LLM's context window.\n",
      "    *   **Vector Stores:**  Embed the document chunks into vector embeddings and store them in a vector database (e.g., Chroma, Pinecone, FAISS).  This allows for efficient semantic search.\n",
      "    *   **Retrievers:**  Retrieve relevant document chunks from the vector store based on a query.\n",
      "\n",
      "*   **Agents:**  Agents are the most advanced concept in LangChain.  They use an LLM to determine which actions to take and in what order.  An agent has access to a set of **tools**, which are specific functions or APIs that it can use to interact with the environment.  For example, an agent might have access to a search engine, a calculator, or a database query tool.  The agent decides which tool to use based on the user's input and its own reasoning.\n",
      "\n",
      "**2. The Workflow - A Simplified Example (Question Answering):**\n",
      "\n",
      "Let's illustrate with a common use case: building a question-answering system over a set of documents.\n",
      "\n",
      "1.  **Load Documents:**  Use a `DocumentLoader` to load your documents (e.g., PDFs) into LangChain.\n",
      "2.  **Split Documents:**  Use a `TextSplitter` to break the documents into smaller chunks.  This is necessary because LLMs have a limited context window (the amount of text they can process at once).\n",
      "3.  **Create Embeddings:**  Use an embedding model (e.g., OpenAI's `text-embedding-ada-002`) to convert the document chunks into vector embeddings.\n",
      "4.  **Store Embeddings:**  Store the embeddings in a `VectorStore` (e.g., Chroma, Pinecone).  The vector store allows you to efficiently search for documents that are semantically similar to a query.\n",
      "5.  **Create a Retriever:**  Create a `Retriever` that uses the vector store to retrieve relevant document chunks based on a query.\n",
      "6.  **Create a Chain (RetrievalQAChain):**\n",
      "    *   Combine the `Retriever` with an LLM (e.g., GPT-3.5 or GPT-4) in a `RetrievalQAChain`.\n",
      "    *   This chain takes a question as input, uses the retriever to find relevant documents, and then uses the LLM to generate an answer based on the retrieved documents and the original question.\n",
      "7.  **Answer the Question:**  Provide a question to the chain, and it will return an answer based on the information in your documents.\n",
      "\n",
      "**Code Snippet (Illustrative - simplified):**\n",
      "\n",
      "```python\n",
      "from langchain.document_loaders import TextLoader\n",
      "from langchain.text_splitter import CharacterTextSplitter\n",
      "from langchain.embeddings.openai import OpenAIEmbeddings\n",
      "from langchain.vectorstores import Chroma\n",
      "from langchain.chains.qa_with_sources import load_qa_with_sources_chain\n",
      "from langchain.llms import OpenAI\n",
      "\n",
      "# 1. Load Documents\n",
      "loader = TextLoader(\"my_document.txt\")\n",
      "documents = loader.load()\n",
      "\n",
      "# 2. Split Documents\n",
      "text_splitter = CharacterTextSplitter(chunk_size=1000, chunk_overlap=0)\n",
      "texts = text_splitter.split_documents(documents)\n",
      "\n",
      "# 3. Create Embeddings\n",
      "embeddings = OpenAIEmbeddings()\n",
      "\n",
      "# 4. Store Embeddings\n",
      "db = Chroma.from_documents(texts, embeddings)\n",
      "\n",
      "# 5. Create a Chain\n",
      "chain = load_qa_with_sources_chain(OpenAI(temperature=0), chain_type=\"stuff\")  # \"stuff\" is a simple chain type\n",
      "\n",
      "# 6. Answer the Question\n",
      "query = \"What is the main topic of this document?\"\n",
      "docs = db.similarity_search(query)  # Retrieve relevant documents\n",
      "result = chain({\"input_documents\": docs, \"question\": query}, return_only_outputs=True)\n",
      "\n",
      "print(result[\"output_text\"])\n",
      "```\n",
      "\n",
      "**3. Key Benefits of LangChain:**\n",
      "\n",
      "*   **Abstraction:**  Simplifies the process of interacting with LLMs by providing a consistent interface.\n",
      "*   **Composability:**  Allows you to easily combine different components to create complex applications.\n",
      "*   **Modularity:**  Each component is designed to be independent and reusable.\n",
      "*   **Extensibility:**  Easy to add new components and integrations.\n",
      "*   **Community Support:**  Large and active community providing support and contributing to the framework.\n",
      "*   **Open Source:**  Freely available and customizable.\n",
      "\n",
      "**4. Use Cases:**\n",
      "\n",
      "LangChain is used in a wide range of applications, including:\n",
      "\n",
      "*   **Chatbots:** Building conversational agents that can answer questions, provide information, and perform tasks.\n",
      "*   **Document Question Answering:**  Answering questions based on a collection of documents.\n",
      "*   **Text Summarization:**  Generating concise summaries of long documents.\n",
      "*   **Code Generation:**  Generating code from natural language descriptions.\n",
      "*   **Data Analysis:**  Analyzing data using natural language queries.\n",
      "*   **Personal Assistants:** Building AI assistants that can help with tasks such as scheduling, note-taking, and information retrieval.\n",
      "*   **Automated Content Creation:** Generating blog posts, articles, and other types of content.\n",
      "\n",
      "**In summary, LangChain is a framework that makes it easier to build powerful applications powered by LLMs by providing a set of tools and abstractions for connecting LLMs to external data sources and other components, enabling you to create complex workflows and achieve more sophisticated results.**\n"
     ]
    }
   ],
   "source": [
    "from langchain_google_genai import ChatGoogleGenerativeAI\n",
    "import os\n",
    "\n",
    "\n",
    "api_key_path = r\"C:\\Users\\gupta\\GeminiApikey.txt\" \n",
    "\n",
    "\n",
    "with open(api_key_path, \"r\") as file:\n",
    "    api_key = file.read().strip() \n",
    "\n",
    "\n",
    "os.environ[\"GOOGLE_API_KEY\"] = api_key\n",
    "\n",
    "\n",
    "llm = ChatGoogleGenerativeAI(model=\"gemini-2.0-flash\")\n",
    "\n",
    "\n",
    "prompt = \"Explain how LangChain works\"\n",
    "\n",
    "\n",
    "response = llm.invoke(prompt)\n",
    "\n",
    "\n",
    "print(response.content)\n",
    "\n"
   ]
  },
  {
   "cell_type": "markdown",
   "id": "6f0558c3-9054-49a1-b940-678e49e446f8",
   "metadata": {},
   "source": [
    "# creating the News Article Website Q/A"
   ]
  },
  {
   "cell_type": "markdown",
   "id": "638d9e6f-e1d9-4290-9e61-acf5a78ae878",
   "metadata": {},
   "source": [
    "### TextLoader foor loading the text "
   ]
  },
  {
   "cell_type": "code",
   "execution_count": 8,
   "id": "3105498a-4190-42ac-bbaa-b263abed957d",
   "metadata": {},
   "outputs": [
    {
     "data": {
      "text/plain": [
       "[Document(metadata={'source': 'nvda_news_1.txt'}, page_content=\"Major Chinese technology companies, including Alibaba (NYSE:BABA), Tencent (TCEHY), and ByteDance (BDNCE), have reportedly placed more than $16 billion in orders for Nvidia's (NASDAQ:NVDA) H20 AI server chips during the first quarter of 2025, according to The Information. The surge in demand is tied to concerns over a potential U.S. ban on exports of the chip to China.\\n\\n\\nThese orders could benefit Nvidia financially but only if the company can fulfill them before any new export restrictions take effect. Nvidia generated $17.11 billion in sales from China in its fiscal year ended January 26, accounting for about 13% of its total $130.5 billion revenue.\\n\\nThe H20 chips are currently allowed for export to China, unlike Nvidia's more advanced chips restricted by U.S. policy. In response to increased demand from Chinese firms, Nvidia has upgraded the H20 by integrating the high-bandwidth memory used in its flagship Blackwell chips, improving performance for AI training and inference.\\n\\n\\nDespite the order spike, Nvidia reportedly lacks sufficient production capacity at Taiwan Semiconductor Manufacturing (NYSE:TSM) to meet demand in the short term. Manufacturing the chips could take up to six months, pushing deliveries into the fourth quarter.\\n\\nIf U.S. restrictions tighten before deliveries are made, Nvidia may be forced to offer discounts or find alternative buyers for the chips. That scenario could lead to customer refund requests or excess inventory. Huawei's growing role in AI chip development also poses competitive pressure, as its domestic presence continues to expand despite earlier U.S. sanctions.\\n\\nThis article first appeared on GuruFocus.\")]"
      ]
     },
     "execution_count": 8,
     "metadata": {},
     "output_type": "execute_result"
    }
   ],
   "source": [
    "from langchain.document_loaders import TextLoader\n",
    "\n",
    "loader = TextLoader('nvda_news_1.txt')\n",
    "\n",
    "loader.load()"
   ]
  },
  {
   "cell_type": "code",
   "execution_count": 9,
   "id": "e8b0008c-09bb-44b6-95b0-c206ab32e4bb",
   "metadata": {},
   "outputs": [
    {
     "data": {
      "text/plain": [
       "langchain_community.document_loaders.text.TextLoader"
      ]
     },
     "execution_count": 9,
     "metadata": {},
     "output_type": "execute_result"
    }
   ],
   "source": [
    "type(loader)"
   ]
  },
  {
   "cell_type": "code",
   "execution_count": 11,
   "id": "73be94ad-8106-4a94-877e-4a86d168dd3c",
   "metadata": {},
   "outputs": [
    {
     "data": {
      "text/plain": [
       "['__abstractmethods__',\n",
       " '__annotations__',\n",
       " '__class__',\n",
       " '__delattr__',\n",
       " '__dict__',\n",
       " '__dir__',\n",
       " '__doc__',\n",
       " '__eq__',\n",
       " '__format__',\n",
       " '__ge__',\n",
       " '__getattribute__',\n",
       " '__getstate__',\n",
       " '__gt__',\n",
       " '__hash__',\n",
       " '__init__',\n",
       " '__init_subclass__',\n",
       " '__le__',\n",
       " '__lt__',\n",
       " '__module__',\n",
       " '__ne__',\n",
       " '__new__',\n",
       " '__reduce__',\n",
       " '__reduce_ex__',\n",
       " '__repr__',\n",
       " '__setattr__',\n",
       " '__sizeof__',\n",
       " '__slots__',\n",
       " '__str__',\n",
       " '__subclasshook__',\n",
       " '__weakref__',\n",
       " '_abc_impl',\n",
       " 'alazy_load',\n",
       " 'aload',\n",
       " 'autodetect_encoding',\n",
       " 'encoding',\n",
       " 'file_path',\n",
       " 'lazy_load',\n",
       " 'load',\n",
       " 'load_and_split']"
      ]
     },
     "execution_count": 11,
     "metadata": {},
     "output_type": "execute_result"
    }
   ],
   "source": [
    "dir(loader)"
   ]
  },
  {
   "cell_type": "code",
   "execution_count": 19,
   "id": "1f9360ea-0085-4ef2-a543-1e753766001f",
   "metadata": {},
   "outputs": [
    {
     "name": "stdout",
     "output_type": "stream",
     "text": [
      "page_content='index: 0\n",
      "budget: 237000000\n",
      "genres: Action Adventure Fantasy Science Fiction\n",
      "homepage: http://www.avatarmovie.com/\n",
      "id: 19995\n",
      "keywords: culture clash future space war space colony society\n",
      "original_language: en\n",
      "original_title: Avatar\n",
      "overview: In the 22nd century, a paraplegic Marine is dispatched to the moon Pandora on a unique mission, but becomes torn between following orders and protecting an alien civilization.\n",
      "popularity: 150.437577\n",
      "production_companies: [{\"name\": \"Ingenious Film Partners\", \"id\": 289}, {\"name\": \"Twentieth Century Fox Film Corporation\", \"id\": 306}, {\"name\": \"Dune Entertainment\", \"id\": 444}, {\"name\": \"Lightstorm Entertainment\", \"id\": 574}]\n",
      "production_countries: [{\"iso_3166_1\": \"US\", \"name\": \"United States of America\"}, {\"iso_3166_1\": \"GB\", \"name\": \"United Kingdom\"}]\n",
      "release_date: 2009-12-10\n",
      "revenue: 2787965087\n",
      "runtime: 162.0\n",
      "spoken_languages: [{\"iso_639_1\": \"en\", \"name\": \"English\"}, {\"iso_639_1\": \"es\", \"name\": \"Espa\\u00f1ol\"}]\n",
      "status: Released\n",
      "tagline: Enter the World of Pandora.\n",
      "title: Avatar\n",
      "vote_average: 7.2\n",
      "vote_count: 11800\n",
      "cast: Sam Worthington Zoe Saldana Sigourney Weaver Stephen Lang Michelle Rodriguez\n",
      "crew: [{'name': 'Stephen E. Rivkin', 'gender': 0, 'department': 'Editing', 'job': 'Editor', 'credit_id': '52fe48009251416c750aca23', 'id': 1721}, {'name': 'Rick Carter', 'gender': 2, 'department': 'Art', 'job': 'Production Design', 'credit_id': '539c47ecc3a36810e3001f87', 'id': 496}, {'name': 'Christopher Boyes', 'gender': 0, 'department': 'Sound', 'job': 'Sound Designer', 'credit_id': '54491c89c3a3680fb4001cf7', 'id': 900}, {'name': 'Christopher Boyes', 'gender': 0, 'department': 'Sound', 'job': 'Supervising Sound Editor', 'credit_id': '54491cb70e0a267480001bd0', 'id': 900}, {'name': 'Mali Finn', 'gender': 1, 'department': 'Production', 'job': 'Casting', 'credit_id': '539c4a4cc3a36810c9002101', 'id': 1262}, {'name': 'James Horner', 'gender': 2, 'department': 'Sound', 'job': 'Original Music Composer', 'credit_id': '5544ee3b925141499f0008fc', 'id': 1729}, {'name': 'James Cameron', 'gender': 2, 'department': 'Directing', 'job': 'Director', 'credit_id': '52fe48009251416c750ac9c3', 'id': 2710}, {'name': 'James Cameron', 'gender': 2, 'department': 'Writing', 'job': 'Writer', 'credit_id': '52fe48009251416c750ac9d9', 'id': 2710}, {'name': 'James Cameron', 'gender': 2, 'department': 'Editing', 'job': 'Editor', 'credit_id': '52fe48009251416c750aca17', 'id': 2710}, {'name': 'James Cameron', 'gender': 2, 'department': 'Production', 'job': 'Producer', 'credit_id': '52fe48009251416c750aca29', 'id': 2710}, {'name': 'James Cameron', 'gender': 2, 'department': 'Writing', 'job': 'Screenplay', 'credit_id': '52fe48009251416c750aca3f', 'id': 2710}, {'name': 'Andrew Menzies', 'gender': 2, 'department': 'Art', 'job': 'Art Direction', 'credit_id': '539c4987c3a36810ba0021a4', 'id': 7236}, {'name': 'Jill Brooks', 'gender': 0, 'department': 'Visual Effects', 'job': 'Visual Effects Producer', 'credit_id': '549598c3c3a3686ae9004383', 'id': 6690}, {'name': 'Margery Simkin', 'gender': 1, 'department': 'Production', 'job': 'Casting', 'credit_id': '52fe48009251416c750aca4b', 'id': 6347}, {'name': 'Kevin Ishioka', 'gender': 2, 'department': 'Art', 'job': 'Supervising Art Director', 'credit_id': '570b6f419251417da70032fe', 'id': 6878}, {'name': 'Dick Bernstein', 'gender': 0, 'department': 'Sound', 'job': 'Music Editor', 'credit_id': '5495a0fac3a3686ae9004468', 'id': 6883}, {'name': 'Shannon Mills', 'gender': 0, 'department': 'Sound', 'job': 'Sound Effects Editor', 'credit_id': '54959706c3a3686af3003e81', 'id': 8159}, {'name': 'Dennie Thorpe', 'gender': 0, 'department': 'Sound', 'job': 'Foley', 'credit_id': '54491d58c3a3680fb1001ccb', 'id': 8160}, {'name': 'Jana Vance', 'gender': 0, 'department': 'Sound', 'job': 'Foley', 'credit_id': '54491d6cc3a3680fa5001b2c', 'id': 8163}, {'name': 'Deborah Lynn Scott', 'gender': 1, 'department': 'Costume & Make-Up', 'job': 'Costume Design', 'credit_id': '52fe48009251416c750aca57', 'id': 8527}, {'name': 'Jon Landau', 'gender': 2, 'department': 'Production', 'job': 'Producer', 'credit_id': '52fe48009251416c750aca2f', 'id': 8529}, {'name': 'Sean Haworth', 'gender': 0, 'department': 'Art', 'job': 'Art Direction', 'credit_id': '539c4937c3a36810ba002194', 'id': 9618}, {'name': 'Kim Sinclair', 'gender': 1, 'department': 'Art', 'job': 'Set Decoration', 'credit_id': '539c49b6c3a36810c10020e6', 'id': 12653}, {'name': 'Kim Sinclair', 'gender': 1, 'department': 'Art', 'job': 'Supervising Art Director', 'credit_id': '570b6f2f9251413a0e00020d', 'id': 12653}, {'name': 'Richard F. Mays', 'gender': 2, 'department': 'Art', 'job': 'Set Designer', 'credit_id': '54491a6c0e0a26748c001b19', 'id': 14350}, {'name': 'Laeta Kalogridis', 'gender': 1, 'department': 'Production', 'job': 'Executive Producer', 'credit_id': '56928cf4c3a3684cff0025c4', 'id': 20294}, {'name': 'Mayes C. Rubeo', 'gender': 0, 'department': 'Costume & Make-Up', 'job': 'Costume Design', 'credit_id': '52fe48009251416c750aca51', 'id': 17675}, {'name': 'Mauro Fiore', 'gender': 2, 'department': 'Camera', 'job': 'Director of Photography', 'credit_id': '52fe48009251416c750aca11', 'id': 18265}, {'name': 'Scott Herbertson', 'gender': 0, 'department': 'Art', 'job': 'Set Designer', 'credit_id': '5449194d0e0a26748f001b39', 'id': 42281}, {'name': 'Woody Schultz', 'gender': 0, 'department': 'Crew', 'job': 'Stunts', 'credit_id': '52fe48009251416c750aca05', 'id': 42288}, {'name': 'Linda DeVetta', 'gender': 0, 'department': 'Costume & Make-Up', 'job': 'Makeup Artist', 'credit_id': '5592aefb92514152de0010f5', 'id': 29067}, {'name': 'Linda DeVetta', 'gender': 0, 'department': 'Costume & Make-Up', 'job': 'Hairstylist', 'credit_id': '5592afa492514152de00112c', 'id': 29067}, {'name': 'Richard Bluck', 'gender': 2, 'department': 'Camera', 'job': 'Camera Operator', 'credit_id': '54959ed592514130fc002e5d', 'id': 33302}, {'name': 'Simon Bright', 'gender': 2, 'department': 'Art', 'job': 'Art Direction', 'credit_id': '539c4891c3a36810ba002147', 'id': 33303}, {'name': 'Richard Martin', 'gender': 0, 'department': 'Visual Effects', 'job': 'Visual Effects Supervisor', 'credit_id': '54959c069251417a81001f3a', 'id': 113145}, {'name': 'Steve R. Moore', 'gender': 2, 'department': 'Crew', 'job': 'Visual Effects Editor', 'credit_id': '54959a0dc3a3680ff5002c8d', 'id': 58188}, {'name': 'John Refoua', 'gender': 2, 'department': 'Editing', 'job': 'Editor', 'credit_id': '52fe48009251416c750aca1d', 'id': 58871}, {'name': 'Karl J. Martin', 'gender': 0, 'department': 'Art', 'job': 'Set Designer', 'credit_id': '54491a4dc3a3680fc30018ca', 'id': 92359}, {'name': 'Chiling Lin', 'gender': 1, 'department': 'Camera', 'job': 'Director of Photography', 'credit_id': '52fe48009251416c750aca35', 'id': 72201}, {'name': 'Ilram Choi', 'gender': 0, 'department': 'Crew', 'job': 'Stunts', 'credit_id': '52fe48009251416c750ac9ff', 'id': 89714}, {'name': 'Steven Quale', 'gender': 2, 'department': 'Visual Effects', 'job': 'Visual Effects Supervisor', 'credit_id': '54959c529251416e2b004394', 'id': 93214}, {'name': 'Carla Meyer', 'gender': 1, 'department': 'Crew', 'job': 'Dialect Coach', 'credit_id': '54491edf0e0a267489001c37', 'id': 122607}, {'name': 'Nick Bassett', 'gender': 2, 'department': 'Art', 'job': 'Art Direction', 'credit_id': '539c485bc3a368653d001a3a', 'id': 132585}, {'name': 'Jill Cormack', 'gender': 0, 'department': 'Art', 'job': 'Art Direction', 'credit_id': '539c4903c3a368653d001a74', 'id': 132596}, {'name': 'Andy McLaren', 'gender': 0, 'department': 'Art', 'job': 'Art Direction', 'credit_id': '539c4967c3a368653d001a94', 'id': 132604}, {'name': 'Terry Notary', 'gender': 0, 'department': 'Crew', 'job': 'Motion Capture Artist', 'credit_id': '52fe48009251416c750aca45', 'id': 236696}, {'name': 'Garrett Warren', 'gender': 2, 'department': 'Crew', 'job': 'Stunt Coordinator', 'credit_id': '54959e02c3a3680fc60027d2', 'id': 956198}, {'name': 'Jonathan Rothbart', 'gender': 2, 'department': 'Visual Effects', 'job': 'Visual Effects Supervisor', 'credit_id': '54959ca3c3a3686ae300438c', 'id': 957874}, {'name': 'Stefan Dechant', 'gender': 0, 'department': 'Art', 'job': 'Supervising Art Director', 'credit_id': '570b6f519251412c74001b2f', 'id': 957889}, {'name': 'Todd Cherniawsky', 'gender': 2, 'department': 'Art', 'job': 'Supervising Art Director', 'credit_id': '570b6f62c3a3680b77007460', 'id': 959555}, {'name': 'Miranda Rivers', 'gender': 0, 'department': 'Production', 'job': 'Casting', 'credit_id': '539c4a3ac3a36810da0021cc', 'id': 1016177}, {'name': 'Robert Stromberg', 'gender': 0, 'department': 'Art', 'job': 'Production Design', 'credit_id': '539c482cc3a36810c1002062', 'id': 1032536}, {'name': 'John Harding', 'gender': 2, 'department': 'Costume & Make-Up', 'job': 'Costume Design', 'credit_id': '539c4b65c3a36810c9002125', 'id': 1071680}, {'name': 'Roberto De Angelis', 'gender': 0, 'department': 'Camera', 'job': 'Steadicam Operator', 'credit_id': '54959e6692514130fc002e4e', 'id': 1177364}, {'name': 'Mike Smithson', 'gender': 2, 'department': 'Costume & Make-Up', 'job': 'Makeup Department Head', 'credit_id': '539c49f1c3a368653d001aac', 'id': 1202850}, {'name': 'Alain Lalanne', 'gender': 0, 'department': 'Visual Effects', 'job': 'Visual Effects Producer', 'credit_id': '5495999ec3a3686ae100460c', 'id': 1204668}, {'name': 'Lucas Salton', 'gender': 0, 'department': 'Visual Effects', 'job': 'Visual Effects Supervisor', 'credit_id': '54959cdfc3a3681153002729', 'id': 1206410}, {'name': 'Janace Tashjian', 'gender': 0, 'department': 'Crew', 'job': 'Post Production Supervisor', 'credit_id': '549596239251417a81001eae', 'id': 1234266}, {'name': 'Stephen Rosenbaum', 'gender': 0, 'department': 'Visual Effects', 'job': 'Visual Effects Supervisor', 'credit_id': '54959c859251416e1e003efe', 'id': 1271932}, {'name': 'Frankie Karena', 'gender': 0, 'department': 'Costume & Make-Up', 'job': 'Makeup Artist', 'credit_id': '5592af28c3a368775a00105f', 'id': 1310064}, {'name': 'Lisa Lovaas', 'gender': 1, 'department': 'Costume & Make-Up', 'job': 'Costume Supervisor', 'credit_id': '539c4adfc3a36810e300203b', 'id': 1319844}, {'name': 'Jonathan Fawkner', 'gender': 0, 'department': 'Visual Effects', 'job': 'Visual Effects Supervisor', 'credit_id': '54959b579251416e2b004371', 'id': 1327028}, {'name': 'Robert Bavin', 'gender': 0, 'department': 'Art', 'job': 'Art Direction', 'credit_id': '539c48a7c3a36810b5001fa7', 'id': 1330561}, {'name': 'Anthony Almaraz', 'gender': 0, 'department': 'Costume & Make-Up', 'job': 'Costume Supervisor', 'credit_id': '539c4a71c3a36810da0021e0', 'id': 1330567}, {'name': 'Carolyn M. Fenton', 'gender': 0, 'department': 'Costume & Make-Up', 'job': 'Costume Supervisor', 'credit_id': '539c4a8ac3a36810ba0021e4', 'id': 1330570}, {'name': 'Beth Koenigsberg', 'gender': 0, 'department': 'Costume & Make-Up', 'job': 'Costume Supervisor', 'credit_id': '539c4ab6c3a36810da0021f0', 'id': 1330574}, {'name': 'Sam Page', 'gender': 0, 'department': 'Art', 'job': 'Set Designer', 'credit_id': '54491ab70e0a267480001ba2', 'id': 1336191}, {'name': 'Tex Kadonaga', 'gender': 0, 'department': 'Art', 'job': 'Set Designer', 'credit_id': '544919d9c3a3680fc30018bd', 'id': 1339441}, {'name': 'Kim Foscato', 'gender': 0, 'department': 'Editing', 'job': 'Dialogue Editor', 'credit_id': '54491cf50e0a267483001b0c', 'id': 1352422}, {'name': 'Tammy S. Lee', 'gender': 0, 'department': 'Art', 'job': 'Set Designer', 'credit_id': '544919f40e0a26748c001b09', 'id': 1352962}, {'name': 'Denny Caira', 'gender': 0, 'department': 'Crew', 'job': 'Transportation Coordinator', 'credit_id': '5495a115c3a3680ff5002d71', 'id': 1357070}, {'name': 'James Waitkus', 'gender': 0, 'department': 'Crew', 'job': 'Transportation Coordinator', 'credit_id': '5495a12f92514130fc002e94', 'id': 1357071}, {'name': 'Addison Teague', 'gender': 0, 'department': 'Sound', 'job': 'Supervising Sound Editor', 'credit_id': '5495976fc3a36811530026b0', 'id': 1360103}, {'name': 'C. Scott Baker', 'gender': 2, 'department': 'Art', 'job': 'Set Designer', 'credit_id': '54491837c3a3680fb1001c5a', 'id': 1376887}, {'name': 'Luke Caska', 'gender': 0, 'department': 'Art', 'job': 'Set Designer', 'credit_id': '54491878c3a3680fb4001c9d', 'id': 1376888}, {'name': 'David Chow', 'gender': 0, 'department': 'Art', 'job': 'Set Designer', 'credit_id': '544918dac3a3680fa5001ae0', 'id': 1376889}, {'name': 'Jonathan Dyer', 'gender': 0, 'department': 'Art', 'job': 'Set Designer', 'credit_id': '544919110e0a267486001b68', 'id': 1376890}, {'name': 'Joseph Hiura', 'gender': 0, 'department': 'Art', 'job': 'Set Designer', 'credit_id': '54491967c3a3680faa001b5e', 'id': 1376891}, {'name': 'Rebecca Jellie', 'gender': 0, 'department': 'Art', 'job': 'Art Department Coordinator', 'credit_id': '54491997c3a3680fb1001c8a', 'id': 1376892}, {'name': 'Robert Andrew Johnson', 'gender': 0, 'department': 'Art', 'job': 'Set Designer', 'credit_id': '544919ba0e0a26748f001b42', 'id': 1376893}, {'name': 'Mike Stassi', 'gender': 0, 'department': 'Art', 'job': 'Assistant Art Director', 'credit_id': '54491b1dc3a3680faa001b8c', 'id': 1376895}, {'name': 'John Villarino', 'gender': 0, 'department': 'Art', 'job': 'Construction Coordinator', 'credit_id': '54491b79c3a3680fbb001826', 'id': 1376897}, {'name': 'Jeffrey Wisniewski', 'gender': 2, 'department': 'Art', 'job': 'Assistant Art Director', 'credit_id': '54491baec3a3680fb4001ce6', 'id': 1376898}, {'name': 'Cheryl Nardi', 'gender': 0, 'department': 'Editing', 'job': 'Dialogue Editor', 'credit_id': '54491d2fc3a3680fb4001d07', 'id': 1376899}, {'name': 'Marshall Winn', 'gender': 0, 'department': 'Editing', 'job': 'Dialogue Editor', 'credit_id': '54491d86c3a3680fa5001b2f', 'id': 1376901}, {'name': 'Gwendolyn Yates Whittle', 'gender': 0, 'department': 'Sound', 'job': 'Supervising Sound Editor', 'credit_id': '54491d9dc3a3680faa001bb0', 'id': 1376902}, {'name': 'William Stein', 'gender': 0, 'department': 'Sound', 'job': 'Sound Re-Recording Mixer', 'credit_id': '54491dc10e0a267486001bce', 'id': 1376903}, {'name': 'Lula Washington', 'gender': 0, 'department': 'Crew', 'job': 'Choreographer', 'credit_id': '54491f500e0a26747c001c07', 'id': 1376909}, {'name': 'Chris Del Conte', 'gender': 0, 'department': 'Visual Effects', 'job': 'Visual Effects Producer', 'credit_id': '549599239251412c4e002a2e', 'id': 1391692}, {'name': 'R. Christopher White', 'gender': 2, 'department': 'Visual Effects', 'job': 'Visual Effects Supervisor', 'credit_id': '54959d54c3a36831b8001d9a', 'id': 1391695}, {'name': 'Dan Lemmon', 'gender': 0, 'department': 'Visual Effects', 'job': 'Visual Effects Supervisor', 'credit_id': '54959bdf9251412c4e002a66', 'id': 1394070}, {'name': 'Tim Nielsen', 'gender': 0, 'department': 'Sound', 'job': 'Sound Effects Editor', 'credit_id': '5495971d92514132ed002922', 'id': 1394129}, {'name': 'Michael Mulholland', 'gender': 0, 'department': 'Crew', 'job': 'CG Supervisor', 'credit_id': '5592b25792514152cc0011aa', 'id': 1394286}, {'name': 'Thomas Nittmann', 'gender': 0, 'department': 'Crew', 'job': 'Visual Effects Editor', 'credit_id': '54959a329251416e2b004355', 'id': 1394750}, {'name': 'Edson Williams', 'gender': 0, 'department': 'Visual Effects', 'job': 'Visual Effects Supervisor', 'credit_id': '54959d6dc3a3686ae9004401', 'id': 1394755}, {'name': 'Christine Carr', 'gender': 0, 'department': 'Editing', 'job': 'Digital Intermediate', 'credit_id': '5495a08fc3a3686ae300441c', 'id': 1394953}, {'name': 'John Bruno', 'gender': 0, 'department': 'Visual Effects', 'job': 'Visual Effects Supervisor', 'credit_id': '55402d659251413d6d000249', 'id': 1395269}, {'name': 'David Emmerichs', 'gender': 0, 'department': 'Camera', 'job': 'Steadicam Operator', 'credit_id': '54959e7b9251416e1e003f3e', 'id': 1398970}, {'name': 'Christopher Scarabosio', 'gender': 0, 'department': 'Sound', 'job': 'Sound Effects Editor', 'credit_id': '54959734c3a3686ae10045e0', 'id': 1400906}, {'name': 'Jennifer Teves', 'gender': 0, 'department': 'Production', 'job': 'Production Supervisor', 'credit_id': '549595dd92514130fc002d79', 'id': 1401784}, {'name': 'Brigitte Yorke', 'gender': 0, 'department': 'Production', 'job': 'Production Manager', 'credit_id': '549596009251413af70028cc', 'id': 1401785}, {'name': 'Ken Fischer', 'gender': 0, 'department': 'Sound', 'job': 'Sound Effects Editor', 'credit_id': '549596e892514130fc002d99', 'id': 1401786}, {'name': 'Iain Hutton', 'gender': 0, 'department': 'Crew', 'job': 'Special Effects Coordinator', 'credit_id': '549598229251412c4e002a1c', 'id': 1401787}, {'name': 'Steve Ingram', 'gender': 0, 'department': 'Crew', 'job': 'Special Effects Coordinator', 'credit_id': '549598349251416e2b00432b', 'id': 1401788}, {'name': 'Joyce Cox', 'gender': 0, 'department': 'Visual Effects', 'job': 'Visual Effects Producer', 'credit_id': '54959905c3a3686ae3004324', 'id': 1401789}, {'name': 'Jenny Foster', 'gender': 0, 'department': 'Visual Effects', 'job': 'Visual Effects Producer', 'credit_id': '5495994b92514132ed002951', 'id': 1401790}, {'name': 'Christopher Marino', 'gender': 0, 'department': 'Crew', 'job': 'Visual Effects Editor', 'credit_id': '549599cbc3a3686ae1004613', 'id': 1401791}, {'name': 'Jim Milton', 'gender': 0, 'department': 'Crew', 'job': 'Visual Effects Editor', 'credit_id': '549599f2c3a3686ae100461e', 'id': 1401792}, {'name': 'Cyndi Ochs', 'gender': 0, 'department': 'Visual Effects', 'job': 'Visual Effects Producer', 'credit_id': '54959a51c3a3686af3003eb5', 'id': 1401793}, {'name': 'Lucas Putnam', 'gender': 0, 'department': 'Crew', 'job': 'Visual Effects Editor', 'credit_id': '54959a7cc3a36811530026f4', 'id': 1401794}, {'name': \"Anthony 'Max' Ivins\", 'gender': 0, 'department': 'Visual Effects', 'job': 'Visual Effects Supervisor', 'credit_id': '54959b91c3a3680ff5002cb4', 'id': 1401795}, {'name': 'John Knoll', 'gender': 0, 'department': 'Visual Effects', 'job': 'Visual Effects Supervisor', 'credit_id': '54959bb69251412c4e002a5f', 'id': 1401796}, {'name': 'Eric Saindon', 'gender': 2, 'department': 'Visual Effects', 'job': 'Visual Effects Supervisor', 'credit_id': '54959cbbc3a3686ae3004391', 'id': 1401799}, {'name': 'Wayne Stables', 'gender': 0, 'department': 'Visual Effects', 'job': 'Visual Effects Supervisor', 'credit_id': '54959d06c3a3686ae90043f6', 'id': 1401800}, {'name': 'David Stinnett', 'gender': 0, 'department': 'Visual Effects', 'job': 'Visual Effects Supervisor', 'credit_id': '54959d259251416e1e003f11', 'id': 1401801}, {'name': 'Guy Williams', 'gender': 0, 'department': 'Visual Effects', 'job': 'Visual Effects Supervisor', 'credit_id': '54959db49251413af7002975', 'id': 1401803}, {'name': 'Stuart Thorp', 'gender': 0, 'department': 'Crew', 'job': 'Stunt Coordinator', 'credit_id': '54959de4c3a3681153002750', 'id': 1401804}, {'name': 'Giles Coburn', 'gender': 0, 'department': 'Lighting', 'job': 'Best Boy Electric', 'credit_id': '54959ef2c3a3680fc60027f2', 'id': 1401805}, {'name': 'Mark Fellman', 'gender': 2, 'department': 'Camera', 'job': 'Still Photographer', 'credit_id': '54959f07c3a3680fc60027f9', 'id': 1401806}, {'name': 'Scott Sprague', 'gender': 0, 'department': 'Lighting', 'job': 'Lighting Technician', 'credit_id': '54959f47c3a3681153002774', 'id': 1401807}, {'name': 'Jeremy Hollobon', 'gender': 0, 'department': 'Visual Effects', 'job': 'Animation Director', 'credit_id': '54959f8cc3a36831b8001df2', 'id': 1401808}, {'name': 'Orlando Meunier', 'gender': 0, 'department': 'Visual Effects', 'job': 'Animation Director', 'credit_id': '54959fa0c3a36831b8001dfb', 'id': 1401809}, {'name': 'Taisuke Tanimura', 'gender': 0, 'department': 'Visual Effects', 'job': 'Animation Director', 'credit_id': '54959fb6c3a3686af3003f54', 'id': 1401810}, {'name': 'Lilia Mishel Acevedo', 'gender': 0, 'department': 'Costume & Make-Up', 'job': 'Set Costumer', 'credit_id': '54959fd2c3a36831b8001e02', 'id': 1401812}, {'name': 'Alejandro M. Hernandez', 'gender': 0, 'department': 'Costume & Make-Up', 'job': 'Set Costumer', 'credit_id': '54959ff9c3a3686ae300440c', 'id': 1401814}, {'name': 'Marvin Hall', 'gender': 0, 'department': 'Editing', 'job': 'Digital Intermediate', 'credit_id': '5495a0ddc3a3686ae10046fe', 'id': 1401815}, {'name': 'Judy Alley', 'gender': 0, 'department': 'Production', 'job': 'Publicist', 'credit_id': '5495a1f7c3a3686ae3004443', 'id': 1401816}, {'name': 'Mike Perry', 'gender': 0, 'department': 'Crew', 'job': 'CG Supervisor', 'credit_id': '5592b29fc3a36869d100002f', 'id': 1418381}, {'name': 'Andrew Morley', 'gender': 0, 'department': 'Crew', 'job': 'CG Supervisor', 'credit_id': '5592b23a9251415df8001081', 'id': 1426854}, {'name': 'Seth Engstrom', 'gender': 0, 'department': 'Art', 'job': 'Conceptual Design', 'credit_id': '55491e1192514104c40002d8', 'id': 1438901}, {'name': 'Eric Oliver', 'gender': 0, 'department': 'Crew', 'job': 'Visual Effects Art Director', 'credit_id': '5525d5809251417276002b06', 'id': 1447362}, {'name': 'Matsune Suzuki', 'gender': 0, 'department': 'Visual Effects', 'job': 'Modeling', 'credit_id': '554427ca925141586500312a', 'id': 1447503}, {'name': 'Paul Tobin', 'gender': 0, 'department': 'Art', 'job': 'Art Department Manager', 'credit_id': '551906889251415aab001c88', 'id': 1447524}, {'name': 'Roxane Griffin', 'gender': 0, 'department': 'Costume & Make-Up', 'job': 'Hairstylist', 'credit_id': '5592af8492514152cc0010de', 'id': 1452643}, {'name': 'Arun Ram-Mohan', 'gender': 0, 'department': 'Lighting', 'job': 'Lighting Artist', 'credit_id': '553d3c109251415852001318', 'id': 1453938}, {'name': 'Georgia Lockhart-Adams', 'gender': 0, 'department': 'Costume & Make-Up', 'job': 'Makeup Artist', 'credit_id': '5592af4692514152d5001355', 'id': 1457305}, {'name': 'Thrain Shadbolt', 'gender': 0, 'department': 'Crew', 'job': 'CG Supervisor', 'credit_id': '5592b2eac3a36877470012a5', 'id': 1466035}, {'name': 'Brad Alexander', 'gender': 0, 'department': 'Crew', 'job': 'CG Supervisor', 'credit_id': '5592b032c3a36877450015f1', 'id': 1483220}, {'name': 'Shadi Almassizadeh', 'gender': 0, 'department': 'Crew', 'job': 'CG Supervisor', 'credit_id': '5592b05592514152d80012f6', 'id': 1483221}, {'name': 'Simon Clutterbuck', 'gender': 0, 'department': 'Crew', 'job': 'CG Supervisor', 'credit_id': '5592b090c3a36877570010b5', 'id': 1483222}, {'name': 'Graeme Demmocks', 'gender': 0, 'department': 'Crew', 'job': 'CG Supervisor', 'credit_id': '5592b0dbc3a368774b00112c', 'id': 1483223}, {'name': 'Adrian Fernandes', 'gender': 0, 'department': 'Crew', 'job': 'CG Supervisor', 'credit_id': '5592b0fe92514152db0010c1', 'id': 1483224}, {'name': 'Mitch Gates', 'gender': 0, 'department': 'Crew', 'job': 'CG Supervisor', 'credit_id': '5592b11f9251415df8001059', 'id': 1483225}, {'name': 'Jerry Kung', 'gender': 0, 'department': 'Crew', 'job': 'CG Supervisor', 'credit_id': '5592b15dc3a3687745001645', 'id': 1483226}, {'name': 'Andy Lomas', 'gender': 0, 'department': 'Crew', 'job': 'CG Supervisor', 'credit_id': '5592b18e925141645a0004ae', 'id': 1483227}, {'name': 'Sebastian Marino', 'gender': 0, 'department': 'Crew', 'job': 'CG Supervisor', 'credit_id': '5592b1bfc3a368775d0010e7', 'id': 1483228}, {'name': 'Matthias Menz', 'gender': 0, 'department': 'Crew', 'job': 'CG Supervisor', 'credit_id': '5592b2049251415df8001078', 'id': 1483229}, {'name': 'Sergei Nevshupov', 'gender': 0, 'department': 'Crew', 'job': 'CG Supervisor', 'credit_id': '5592b27b92514152d800136a', 'id': 1483230}, {'name': 'Philippe Rebours', 'gender': 0, 'department': 'Crew', 'job': 'CG Supervisor', 'credit_id': '5592b2c3c3a36869e800003c', 'id': 1483231}, {'name': 'Michael Takarangi', 'gender': 0, 'department': 'Crew', 'job': 'CG Supervisor', 'credit_id': '5592b317c3a36877470012af', 'id': 1483232}, {'name': 'David Weitzberg', 'gender': 0, 'department': 'Crew', 'job': 'CG Supervisor', 'credit_id': '5592b345c3a36877470012bb', 'id': 1483233}, {'name': 'Ben White', 'gender': 0, 'department': 'Crew', 'job': 'CG Supervisor', 'credit_id': '5592b37cc3a368775100113b', 'id': 1483234}, {'name': 'Min Windle', 'gender': 1, 'department': 'Crew', 'job': 'Stunts', 'credit_id': '573c8e2f9251413f5d000094', 'id': 1621932}]\n",
      "director: James Cameron' metadata={'source': 'movies.csv', 'row': 0}\n",
      "\n",
      "page_content='index: 1\n",
      "budget: 300000000\n",
      "genres: Adventure Fantasy Action\n",
      "homepage: http://disney.go.com/disneypictures/pirates/\n",
      "id: 285\n",
      "keywords: ocean drug abuse exotic island east india trading company love of one's life\n",
      "original_language: en\n",
      "original_title: Pirates of the Caribbean: At World's End\n",
      "overview: Captain Barbossa, long believed to be dead, has come back to life and is headed to the edge of the Earth with Will Turner and Elizabeth Swann. But nothing is quite as it seems.\n",
      "popularity: 139.082615\n",
      "production_companies: [{\"name\": \"Walt Disney Pictures\", \"id\": 2}, {\"name\": \"Jerry Bruckheimer Films\", \"id\": 130}, {\"name\": \"Second Mate Productions\", \"id\": 19936}]\n",
      "production_countries: [{\"iso_3166_1\": \"US\", \"name\": \"United States of America\"}]\n",
      "release_date: 2007-05-19\n",
      "revenue: 961000000\n",
      "runtime: 169.0\n",
      "spoken_languages: [{\"iso_639_1\": \"en\", \"name\": \"English\"}]\n",
      "status: Released\n",
      "tagline: At the end of the world, the adventure begins.\n",
      "title: Pirates of the Caribbean: At World's End\n",
      "vote_average: 6.9\n",
      "vote_count: 4500\n",
      "cast: Johnny Depp Orlando Bloom Keira Knightley Stellan Skarsg\\u00e5rd Chow Yun-fat\n",
      "crew: [{'name': 'Dariusz Wolski', 'gender': 2, 'department': 'Camera', 'job': 'Director of Photography', 'credit_id': '52fe4232c3a36847f800b579', 'id': 120}, {'name': 'Gore Verbinski', 'gender': 2, 'department': 'Directing', 'job': 'Director', 'credit_id': '52fe4232c3a36847f800b4fd', 'id': 1704}, {'name': 'Jerry Bruckheimer', 'gender': 2, 'department': 'Production', 'job': 'Producer', 'credit_id': '52fe4232c3a36847f800b54f', 'id': 770}, {'name': 'Ted Elliott', 'gender': 2, 'department': 'Writing', 'job': 'Screenplay', 'credit_id': '52fe4232c3a36847f800b503', 'id': 1705}, {'name': 'Terry Rossio', 'gender': 2, 'department': 'Writing', 'job': 'Screenplay', 'credit_id': '52fe4232c3a36847f800b509', 'id': 1706}, {'name': 'Stephen E. Rivkin', 'gender': 0, 'department': 'Editing', 'job': 'Editor', 'credit_id': '52fe4232c3a36847f800b57f', 'id': 1721}, {'name': 'Craig Wood', 'gender': 2, 'department': 'Editing', 'job': 'Editor', 'credit_id': '52fe4232c3a36847f800b585', 'id': 1722}, {'name': 'Hans Zimmer', 'gender': 2, 'department': 'Sound', 'job': 'Original Music Composer', 'credit_id': '52fe4232c3a36847f800b573', 'id': 947}, {'name': 'Mike Stenson', 'gender': 2, 'department': 'Production', 'job': 'Executive Producer', 'credit_id': '52fe4232c3a36847f800b555', 'id': 2444}, {'name': 'Eric McLeod', 'gender': 2, 'department': 'Production', 'job': 'Producer', 'credit_id': '52fe4232c3a36847f800b561', 'id': 2445}, {'name': 'Chad Oman', 'gender': 2, 'department': 'Production', 'job': 'Producer', 'credit_id': '52fe4232c3a36847f800b55b', 'id': 2446}, {'name': 'Peter Kohn', 'gender': 0, 'department': 'Production', 'job': 'Producer', 'credit_id': '52fe4232c3a36847f800b567', 'id': 2447}, {'name': 'Pat Sandston', 'gender': 0, 'department': 'Production', 'job': 'Producer', 'credit_id': '52fe4232c3a36847f800b56d', 'id': 2448}, {'name': 'Denise Chamian', 'gender': 1, 'department': 'Production', 'job': 'Casting', 'credit_id': '52fe4232c3a36847f800b58b', 'id': 2215}, {'name': 'Rick Heinrichs', 'gender': 2, 'department': 'Art', 'job': 'Production Design', 'credit_id': '52fe4232c3a36847f800b597', 'id': 1226}, {'name': 'John Dexter', 'gender': 2, 'department': 'Art', 'job': 'Art Direction', 'credit_id': '52fe4232c3a36847f800b59d', 'id': 553}, {'name': 'Priscilla John', 'gender': 1, 'department': 'Production', 'job': 'Casting', 'credit_id': '52fe4232c3a36847f800b591', 'id': 3311}, {'name': 'Cheryl Carasik', 'gender': 1, 'department': 'Art', 'job': 'Set Decoration', 'credit_id': '52fe4232c3a36847f800b5a3', 'id': 4032}, {'name': 'Liz Dann', 'gender': 0, 'department': 'Costume & Make-Up', 'job': 'Costume Design', 'credit_id': '52fe4232c3a36847f800b5a9', 'id': 4033}, {'name': 'Penny Rose', 'gender': 1, 'department': 'Costume & Make-Up', 'job': 'Costume Design', 'credit_id': '52fe4232c3a36847f800b5af', 'id': 4034}, {'name': 'Bob Badami', 'gender': 2, 'department': 'Sound', 'job': 'Music Supervisor', 'credit_id': '56427ce8c3a3686a53000d8b', 'id': 5132}, {'name': 'James Ward Byrkit', 'gender': 2, 'department': 'Art', 'job': 'Conceptual Design', 'credit_id': '55993c15c3a36855db002f33', 'id': 146439}, {'name': 'Ve Neill', 'gender': 1, 'department': 'Costume & Make-Up', 'job': 'Makeup Department Head', 'credit_id': '52fe4232c3a36847f800b5b9', 'id': 406204}, {'name': 'John Dixon', 'gender': 2, 'department': 'Crew', 'job': 'Stunts', 'credit_id': '56e47f7892514132690017bd', 'id': 1259516}, {'name': 'Dottie Starling', 'gender': 0, 'department': 'Crew', 'job': 'CGI Supervisor', 'credit_id': '5740be639251416597000849', 'id': 1336716}, {'name': 'Pamela Alch', 'gender': 1, 'department': 'Directing', 'job': 'Script Supervisor', 'credit_id': '56427c639251412fc8000dc1', 'id': 1344278}, {'name': 'Allen Hall', 'gender': 0, 'department': 'Crew', 'job': 'Special Effects Coordinator', 'credit_id': '57083101c3a3681d320004e6', 'id': 1368867}, {'name': 'Melissa Muik', 'gender': 0, 'department': 'Sound', 'job': 'Music Editor', 'credit_id': '56427d5ec3a3686a62000d4a', 'id': 1368884}, {'name': 'Sharron Reynolds', 'gender': 1, 'department': 'Directing', 'job': 'Script Supervisor', 'credit_id': '56427c7b9251412fd4000e07', 'id': 1395290}, {'name': 'Barbara McDermott', 'gender': 0, 'department': 'Sound', 'job': 'Music Editor', 'credit_id': '56427d2bc3a3686a53000d9b', 'id': 1399327}, {'name': 'Karen Golden', 'gender': 1, 'department': 'Directing', 'job': 'Script Supervisor', 'credit_id': '56427cb4c3a3686a53000d87', 'id': 1400738}, {'name': 'Katie Greathouse', 'gender': 0, 'department': 'Sound', 'job': 'Music Editor', 'credit_id': '56427d169251412fd4000e23', 'id': 1534197}]\n",
      "director: Gore Verbinski' metadata={'source': 'movies.csv', 'row': 1}\n",
      "\n",
      "page_content='index: 2\n",
      "budget: 245000000\n",
      "genres: Action Adventure Crime\n",
      "homepage: http://www.sonypictures.com/movies/spectre/\n",
      "id: 206647\n",
      "keywords: spy based on novel secret agent sequel mi6\n",
      "original_language: en\n",
      "original_title: Spectre\n",
      "overview: A cryptic message from Bond’s past sends him on a trail to uncover a sinister organization. While M battles political forces to keep the secret service alive, Bond peels back the layers of deceit to reveal the terrible truth behind SPECTRE.\n",
      "popularity: 107.37678799999999\n",
      "production_companies: [{\"name\": \"Columbia Pictures\", \"id\": 5}, {\"name\": \"Danjaq\", \"id\": 10761}, {\"name\": \"B24\", \"id\": 69434}]\n",
      "production_countries: [{\"iso_3166_1\": \"GB\", \"name\": \"United Kingdom\"}, {\"iso_3166_1\": \"US\", \"name\": \"United States of America\"}]\n",
      "release_date: 2015-10-26\n",
      "revenue: 880674609\n",
      "runtime: 148.0\n",
      "spoken_languages: [{\"iso_639_1\": \"fr\", \"name\": \"Fran\\u00e7ais\"}, {\"iso_639_1\": \"en\", \"name\": \"English\"}, {\"iso_639_1\": \"es\", \"name\": \"Espa\\u00f1ol\"}, {\"iso_639_1\": \"it\", \"name\": \"Italiano\"}, {\"iso_639_1\": \"de\", \"name\": \"Deutsch\"}]\n",
      "status: Released\n",
      "tagline: A Plan No One Escapes\n",
      "title: Spectre\n",
      "vote_average: 6.3\n",
      "vote_count: 4466\n",
      "cast: Daniel Craig Christoph Waltz L\\u00e9a Seydoux Ralph Fiennes Monica Bellucci\n",
      "crew: [{'name': 'Thomas Newman', 'gender': 2, 'department': 'Sound', 'job': 'Original Music Composer', 'credit_id': '54805967c3a36829b5002c41', 'id': 153}, {'name': 'Sam Mendes', 'gender': 2, 'department': 'Directing', 'job': 'Director', 'credit_id': '52fe4d22c3a368484e1d8d77', 'id': 39}, {'name': 'Anna Pinnock', 'gender': 1, 'department': 'Art', 'job': 'Set Decoration', 'credit_id': '5677cd99925141691a005333', 'id': 8384}, {'name': 'John Logan', 'gender': 2, 'department': 'Writing', 'job': 'Screenplay', 'credit_id': '52fe4d22c3a368484e1d8d8d', 'id': 932}, {'name': 'John Logan', 'gender': 2, 'department': 'Writing', 'job': 'Story', 'credit_id': '562fc9bb92514129fe0006b4', 'id': 932}, {'name': 'Dennis Gassner', 'gender': 2, 'department': 'Art', 'job': 'Production Design', 'credit_id': '5654d41c92514145c3000373', 'id': 4248}, {'name': 'Ian Fleming', 'gender': 2, 'department': 'Writing', 'job': 'Characters', 'credit_id': '52fe4d22c3a368484e1d8d71', 'id': 9856}, {'name': 'Lee Smith', 'gender': 0, 'department': 'Editing', 'job': 'Editor', 'credit_id': '54805989c3a36829ae0022d8', 'id': 3904}, {'name': 'Bill Bernstein', 'gender': 2, 'department': 'Sound', 'job': 'Music Editor', 'credit_id': '5677df82c3a3681683008748', 'id': 7538}, {'name': 'Daniel Craig', 'gender': 2, 'department': 'Production', 'job': 'Co-Producer', 'credit_id': '5720e370c3a368117e00045b', 'id': 8784}, {'name': 'Jany Temime', 'gender': 1, 'department': 'Costume & Make-Up', 'job': 'Costume Design', 'credit_id': '5522fdd09251416d4a0024b6', 'id': 11227}, {'name': 'Debbie McWilliams', 'gender': 1, 'department': 'Production', 'job': 'Casting', 'credit_id': '5677cc9ac3a368167c0089b5', 'id': 10496}, {'name': 'Barbara Broccoli', 'gender': 1, 'department': 'Production', 'job': 'Producer', 'credit_id': '52fe4d22c3a368484e1d8d7d', 'id': 10666}, {'name': 'Roberto Malerba', 'gender': 0, 'department': 'Production', 'job': 'Line Producer', 'credit_id': '5720e3afc3a368117e00046a', 'id': 11268}, {'name': 'Peter Clarke', 'gender': 0, 'department': 'Sound', 'job': 'Music Editor', 'credit_id': '5677df58c3a368167c008c82', 'id': 40827}, {'name': 'Christopher Assells', 'gender': 0, 'department': 'Sound', 'job': 'Sound Designer', 'credit_id': '5677dd1ec3a36816890085d3', 'id': 14764}, {'name': 'Per Hallberg', 'gender': 0, 'department': 'Sound', 'job': 'Supervising Sound Editor', 'credit_id': '566046b9c3a36875f400323a', 'id': 14765}, {'name': 'Nicole Schmied', 'gender': 0, 'department': 'Production', 'job': 'Casting', 'credit_id': '5677ccab925141691a00530f', 'id': 36108}, {'name': 'Nicole Schmied', 'gender': 0, 'department': 'Production', 'job': 'Casting Associate', 'credit_id': '5677cfe4c3a36816850087d2', 'id': 36108}, {'name': 'Robert Wade', 'gender': 2, 'department': 'Writing', 'job': 'Screenplay', 'credit_id': '562fc984c3a3681b5400e16f', 'id': 10783}, {'name': 'Robert Wade', 'gender': 2, 'department': 'Writing', 'job': 'Story', 'credit_id': '562fc9cec3a3681b4b00d168', 'id': 10783}, {'name': 'Neal Purvis', 'gender': 0, 'department': 'Writing', 'job': 'Screenplay', 'credit_id': '562fc976c3a3681b5c00dd64', 'id': 10782}, {'name': 'Neal Purvis', 'gender': 0, 'department': 'Writing', 'job': 'Story', 'credit_id': '562fc9d79251414ad800c103', 'id': 10782}, {'name': 'Callum McDougall', 'gender': 2, 'department': 'Production', 'job': 'Executive Producer', 'credit_id': '5720e61d9251414235000477', 'id': 10876}, {'name': 'Jez Butterworth', 'gender': 2, 'department': 'Writing', 'job': 'Screenplay', 'credit_id': '562fc9a89251414ad800c0fe', 'id': 21339}, {'name': 'Chris Lowe', 'gender': 0, 'department': 'Art', 'job': 'Supervising Art Director', 'credit_id': '570bd7f2c3a36802a9000412', 'id': 23425}, {'name': 'Roxana Alexandru ', 'gender': 0, 'department': 'Art', 'job': 'Assistant Art Director', 'credit_id': '5677e45ac3a368168b0084fd', 'id': 23491}, {'name': 'Jo Grover', 'gender': 0, 'department': 'Crew', 'job': 'Makeup Effects', 'credit_id': '5677e29c925141691a00561c', 'id': 23774}, {'name': 'St\\\\u00e9phane Foenkinos', 'gender': 2, 'department': 'Production', 'job': 'Casting', 'credit_id': '5677cf8492514179d20088ae', 'id': 10907}, {'name': 'Lorenzo Senatore', 'gender': 2, 'department': 'Camera', 'job': 'Camera Operator', 'credit_id': '5677d7b192514179d20089c6', 'id': 61851}, {'name': 'Wolfgang Ramml', 'gender': 0, 'department': 'Production', 'job': 'Line Producer', 'credit_id': '5720e6f7925141423000046b', 'id': 64000}, {'name': 'J.A.C. Redford', 'gender': 2, 'department': 'Sound', 'job': 'Orchestrator', 'credit_id': '5677dfabc3a368168000899f', 'id': 66941}, {'name': 'Gregg Wilson', 'gender': 0, 'department': 'Production', 'job': 'Associate Producer', 'credit_id': '5720e72e92514142320007fc', 'id': 81517}, {'name': 'Michael G. Wilson', 'gender': 2, 'department': 'Production', 'job': 'Producer', 'credit_id': '52fe4d22c3a368484e1d8d83', 'id': 69678}, {'name': 'Zakaria Alaoui', 'gender': 0, 'department': 'Production', 'job': 'Line Producer', 'credit_id': '5720e325c3a368118100043e', 'id': 77511}, {'name': 'Hoyte van Hoytema', 'gender': 0, 'department': 'Camera', 'job': 'Director of Photography', 'credit_id': '548059799251416e7e00265c', 'id': 74401}, {'name': 'Franco Ragusa', 'gender': 0, 'department': 'Crew', 'job': 'Special Effects Coordinator', 'credit_id': '5677cef792514179db00904d', 'id': 239885}, {'name': 'Peter Field', 'gender': 0, 'department': 'Camera', 'job': 'Camera Operator', 'credit_id': '5677d7e992514179e7008654', 'id': 937946}, {'name': 'Neal Callow', 'gender': 2, 'department': 'Art', 'job': 'Art Direction', 'credit_id': '5677cd21c3a3681680008700', 'id': 979698}, {'name': 'Mark Harris', 'gender': 2, 'department': 'Art', 'job': 'Art Direction', 'credit_id': '5677cd5a92514179e30086fb', 'id': 986687}, {'name': 'Billy A. Campbell', 'gender': 0, 'department': 'Crew', 'job': 'Visual Effects Editor', 'credit_id': '5678090392514179e1009958', 'id': 1024842}, {'name': 'Stacy Perskie', 'gender': 0, 'department': 'Production', 'job': 'Co-Producer', 'credit_id': '5720e6749251414240000470', 'id': 1026247}, {'name': 'Laura Schultz', 'gender': 0, 'department': 'Visual Effects', 'job': 'Visual Effects Producer', 'credit_id': '56780a2292514179dd008d18', 'id': 1029804}, {'name': 'Mari Paz Robles', 'gender': 0, 'department': 'Costume & Make-Up', 'job': 'Key Hair Stylist', 'credit_id': '5677e174925141691a0055f1', 'id': 1087452}, {'name': 'Gerardo Perez Arreola', 'gender': 0, 'department': 'Costume & Make-Up', 'job': 'Hairstylist', 'credit_id': '5677e0cf9251417845001631', 'id': 1099281}, {'name': 'Kenji Katori', 'gender': 0, 'department': 'Camera', 'job': 'Camera Operator', 'credit_id': '5677d73b92514179dd008471', 'id': 1118711}, {'name': 'Ben Collins', 'gender': 0, 'department': 'Art', 'job': 'Art Direction', 'credit_id': '5677cd3a92514179d2008852', 'id': 1296445}, {'name': 'Tusse Lande', 'gender': 0, 'department': 'Production', 'job': 'Casting Associate', 'credit_id': '5677cfc3c3a3681680008755', 'id': 1305251}, {'name': 'Donald Mowat', 'gender': 0, 'department': 'Costume & Make-Up', 'job': 'Makeup Artist', 'credit_id': '5677e24f92514179e70087da', 'id': 1315700}, {'name': 'Ken Crouch', 'gender': 0, 'department': 'Costume & Make-Up', 'job': 'Costume Supervisor', 'credit_id': '5677d622c3a368167c008b25', 'id': 1319160}, {'name': 'Andrew Bennett', 'gender': 0, 'department': 'Art', 'job': 'Art Direction', 'credit_id': '5677cd0ec3a368168e008f75', 'id': 1335539}, {'name': 'Sean McGrath', 'gender': 0, 'department': 'Visual Effects', 'job': 'Visual Effects Coordinator', 'credit_id': '56780833925141691a005c2f', 'id': 1338241}, {'name': \"Dan O'Connell\", 'gender': 0, 'department': 'Sound', 'job': 'Foley', 'credit_id': '5677dcc7c3a36816830086cc', 'id': 1338372}, {'name': 'Mark Curtis', 'gender': 0, 'department': 'Visual Effects', 'job': 'Visual Effects Supervisor', 'credit_id': '56780ac692514179dd008d31', 'id': 1341741}, {'name': 'Gregg Rudloff', 'gender': 2, 'department': 'Sound', 'job': 'Sound Re-Recording Mixer', 'credit_id': '5677dd9fc3a368168b0083f0', 'id': 1341858}, {'name': 'Jayne-Ann Tenggren', 'gender': 0, 'department': 'Directing', 'job': 'Script Supervisor', 'credit_id': '566047029251412204002337', 'id': 1342669}, {'name': 'Jayne-Ann Tenggren', 'gender': 0, 'department': 'Production', 'job': 'Associate Producer', 'credit_id': '5720e713925141423000046d', 'id': 1342669}, {'name': 'Scott Millan', 'gender': 0, 'department': 'Sound', 'job': 'Sound Re-Recording Mixer', 'credit_id': '5677dd8792514179db009235', 'id': 1345595}, {'name': 'Nicoletta Mani', 'gender': 0, 'department': 'Directing', 'job': 'Script Supervisor', 'credit_id': '5677def192514179e700875b', 'id': 1358025}, {'name': 'John T. Cucci', 'gender': 0, 'department': 'Sound', 'job': 'Foley', 'credit_id': '5677dcb0925141691a00552a', 'id': 1367493}, {'name': 'Sebastian Meuschel', 'gender': 0, 'department': 'Camera', 'job': 'Camera Operator', 'credit_id': '5677d7ff92514179e300884b', 'id': 1377503}, {'name': 'Julian Morson', 'gender': 2, 'department': 'Camera', 'job': 'Steadicam Operator', 'credit_id': '5677d94192514179d20089ff', 'id': 1388897}, {'name': 'Peter Michael Sullivan', 'gender': 0, 'department': 'Sound', 'job': 'Foley', 'credit_id': '5677dce5c3a36816830086d3', 'id': 1389614}, {'name': 'Ken Dailey', 'gender': 0, 'department': 'Visual Effects', 'job': 'Visual Effects Producer', 'credit_id': '56780a5a92514179e300908d', 'id': 1391691}, {'name': 'Ann Scibelli', 'gender': 0, 'department': 'Sound', 'job': 'Sound Designer', 'credit_id': '5677dd38c3a368167c008c21', 'id': 1392083}, {'name': 'Clive Jackson', 'gender': 0, 'department': 'Camera', 'job': 'Camera Operator', 'credit_id': '5677d7cd92514179db009178', 'id': 1392246}, {'name': 'Susie Jones', 'gender': 0, 'department': 'Directing', 'job': 'Script Supervisor', 'credit_id': '5677de6192514179dd008566', 'id': 1392661}, {'name': 'Jasin Boland', 'gender': 2, 'department': 'Camera', 'job': 'Still Photographer', 'credit_id': '5677d98fc3a3681685008904', 'id': 1392718}, {'name': 'Jennifer Lewicki', 'gender': 0, 'department': 'Art', 'job': 'Art Department Coordinator', 'credit_id': '5677cdd8c3a368168b0081e1', 'id': 1394117}, {'name': 'Ian Whiteford', 'gender': 0, 'department': 'Art', 'job': 'Greensman', 'credit_id': '5677e58cc3a3681685008adb', 'id': 1398089}, {'name': 'Kilou Picard', 'gender': 0, 'department': 'Visual Effects', 'job': 'Visual Effects Producer', 'credit_id': '56780a7592514179db0099c4', 'id': 1398100}, {'name': 'Hans Bjerno', 'gender': 0, 'department': 'Camera', 'job': 'Helicopter Camera', 'credit_id': '5677d8ba92514179d20089f0', 'id': 1399071}, {'name': 'Daniel Saxlid', 'gender': 2, 'department': 'Editing', 'job': 'Dialogue Editor', 'credit_id': '5677dd02c3a368167a0091a2', 'id': 1399862}, {'name': 'Alex Rouse', 'gender': 0, 'department': 'Costume & Make-Up', 'job': 'Wigmaker', 'credit_id': '5677e2e1c3a368167c008d1a', 'id': 1401126}, {'name': 'Anik Seguin', 'gender': 0, 'department': 'Crew', 'job': 'Visual Effects Editor', 'credit_id': '5678096bc3a368167c0093d2', 'id': 1401147}, {'name': 'Michelle Pazer', 'gender': 0, 'department': 'Sound', 'job': 'ADR & Dubbing', 'credit_id': '5677dc90c3a368167a009190', 'id': 1401631}, {'name': 'Lucas Bielan', 'gender': 2, 'department': 'Camera', 'job': 'Camera Operator', 'credit_id': '5677d75ac3a368167a0090e9', 'id': 1403411}, {'name': 'Karen Baker Landers', 'gender': 0, 'department': 'Sound', 'job': 'Supervising Sound Editor', 'credit_id': '566046d7c3a36875e900359d', 'id': 1404212}, {'name': 'Peter Staubli', 'gender': 0, 'department': 'Sound', 'job': 'Sound Designer', 'credit_id': '5677dd519251417845001588', 'id': 1404217}, {'name': 'John Marzano', 'gender': 0, 'department': 'Camera', 'job': 'Helicopter Camera', 'credit_id': '5677d8d192514179e1009100', 'id': 1404244}, {'name': 'Adam Dale', 'gender': 0, 'department': 'Camera', 'job': 'Helicopter Camera', 'credit_id': '5677d927c3a36816850088f2', 'id': 1405241}, {'name': 'Emma McCleave', 'gender': 0, 'department': 'Editing', 'job': 'First Assistant Editor', 'credit_id': '5677dff292514179e100921a', 'id': 1408363}, {'name': 'Naomi Donne', 'gender': 0, 'department': 'Costume & Make-Up', 'job': 'Makeup Designer', 'credit_id': '5677e191925141784500164f', 'id': 1409821}, {'name': 'Susan Howard', 'gender': 0, 'department': 'Crew', 'job': 'Makeup Effects', 'credit_id': '5677e2b5c3a368168e0092aa', 'id': 1411323}, {'name': 'David Smith', 'gender': 0, 'department': 'Lighting', 'job': 'Gaffer', 'credit_id': '5677d869c3a36816850088e3', 'id': 1414096}, {'name': 'Joel Green', 'gender': 0, 'department': 'Crew', 'job': 'CG Supervisor', 'credit_id': '56780712c3a368168b008ace', 'id': 1415157}, {'name': 'Laurent Hugueniot', 'gender': 0, 'department': 'Crew', 'job': 'CG Supervisor', 'credit_id': '567806ba92514179e10098ee', 'id': 1425484}, {'name': 'Tim Keene', 'gender': 0, 'department': 'Visual Effects', 'job': 'Visual Effects Producer', 'credit_id': '56780a92c3a36816850090af', 'id': 1425488}, {'name': 'Zoe Tahir', 'gender': 0, 'department': 'Costume & Make-Up', 'job': 'Hair Designer', 'credit_id': '5677e087c3a368167a00922b', 'id': 1425971}, {'name': 'Conor Byrne', 'gender': 0, 'department': 'Crew', 'job': 'Visual Effects Editor', 'credit_id': '567808eb92514179e300904a', 'id': 1428902}, {'name': 'Charlotte Hayward', 'gender': 0, 'department': 'Costume & Make-Up', 'job': 'Makeup Artist', 'credit_id': '5677e22d925141691a00560d', 'id': 1439128}, {'name': 'Catherine Mullan', 'gender': 0, 'department': 'Visual Effects', 'job': 'Animation Supervisor', 'credit_id': '5677cf3fc3a36816850087c1', 'id': 1442137}, {'name': 'Crystal Hadcroft', 'gender': 0, 'department': 'Crew', 'job': 'Visual Effects Editor', 'credit_id': '56780988c3a3681683008e99', 'id': 1447617}, {'name': 'Francesca Crowder', 'gender': 0, 'department': 'Costume & Make-Up', 'job': 'Hairstylist', 'credit_id': '5677e0ec925141691a0055d6', 'id': 1458416}, {'name': 'Marlene Chazot', 'gender': 0, 'department': 'Visual Effects', 'job': 'Animation Director', 'credit_id': '5677cf2892514179dd008356', 'id': 1459878}, {'name': 'Struan Farquhar', 'gender': 0, 'department': 'Crew', 'job': 'Visual Effects Editor', 'credit_id': '5678091d92514179db009985', 'id': 1459899}, {'name': 'Daniel Pastore', 'gender': 0, 'department': 'Crew', 'job': 'CG Supervisor', 'credit_id': '56780731c3a3681680009013', 'id': 1459925}, {'name': 'Jonathan Olley', 'gender': 0, 'department': 'Camera', 'job': 'Still Photographer', 'credit_id': '5677d969c3a368168b00834a', 'id': 1470167}, {'name': 'Sami Gaidi', 'gender': 0, 'department': 'Art', 'job': 'Assistant Art Director', 'credit_id': '5677e48dc3a368167a0092c8', 'id': 1472773}, {'name': 'Luca Marco Paracels', 'gender': 2, 'department': 'Production', 'job': 'Co-Producer', 'credit_id': '5751eed59251416b60000637', 'id': 1477203}, {'name': 'Luca Vannella', 'gender': 0, 'department': 'Costume & Make-Up', 'job': 'Key Hair Stylist', 'credit_id': '5677e157c3a36816800089ee', 'id': 1480629}, {'name': 'Stuart Bullen', 'gender': 0, 'department': 'Visual Effects', 'job': 'Visual Effects Supervisor', 'credit_id': '56780b0e925141691a005c8f', 'id': 1483141}, {'name': 'Russell Edwards', 'gender': 0, 'department': 'Sound', 'job': 'Sound Effects Editor', 'credit_id': '582f29fa925141022e003a74', 'id': 1494824}, {'name': 'Stefano De Nardis', 'gender': 0, 'department': 'Costume & Make-Up', 'job': 'Costume Supervisor', 'credit_id': '5677d63dc3a368167a0090b4', 'id': 1510431}, {'name': 'Luis David Sansans', 'gender': 0, 'department': 'Camera', 'job': 'Camera Operator', 'credit_id': '5677d79992514179d20089c2', 'id': 1512767}, {'name': 'Abderrahim Benkhayi', 'gender': 0, 'department': 'Costume & Make-Up', 'job': 'Costume Supervisor', 'credit_id': '5677d609c3a368168000881a', 'id': 1545912}, {'name': 'Rachid Aadassi', 'gender': 0, 'department': 'Costume & Make-Up', 'job': 'Set Costumer', 'credit_id': '5677d66cc3a368167a0090be', 'id': 1545913}, {'name': 'Carlos De Carvalho', 'gender': 0, 'department': 'Camera', 'job': 'Additional Camera', 'credit_id': '5677da26c3a368167a009139', 'id': 1545995}, {'name': 'Vivienne Jones', 'gender': 0, 'department': 'Costume & Make-Up', 'job': 'Assistant Costume Designer', 'credit_id': '5677d5bec3a368167c008b13', 'id': 1546747}, {'name': 'Kim Honeyman', 'gender': 0, 'department': 'Editing', 'job': 'Digital Intermediate', 'credit_id': '5677dfcac3a368168300875b', 'id': 1548406}, {'name': 'Kathryn Fa', 'gender': 0, 'department': 'Costume & Make-Up', 'job': 'Hairstylist', 'credit_id': '5677e105c3a368168b00846d', 'id': 1550637}, {'name': 'Paul Duff', 'gender': 0, 'department': 'Crew', 'job': 'Carpenter', 'credit_id': '5677ce0c9251417845001384', 'id': 1551770}, {'name': 'Ben Wilkinson', 'gender': 0, 'department': 'Crew', 'job': 'Property Master', 'credit_id': '5677ce5192514179e300871b', 'id': 1551771}, {'name': 'Lynne Corbould', 'gender': 0, 'department': 'Crew', 'job': 'Special Effects Coordinator', 'credit_id': '5677cec292514179dd00834d', 'id': 1551772}, {'name': 'Amal El-Farfachi', 'gender': 0, 'department': 'Production', 'job': 'Casting', 'credit_id': '5677cf57c3a368168e008fcc', 'id': 1551773}, {'name': 'Celebrity Booker', 'gender': 0, 'department': 'Production', 'job': 'Casting Associate', 'credit_id': '5677cf99c3a368168b00821d', 'id': 1551774}, {'name': 'Lucy Hellier', 'gender': 0, 'department': 'Production', 'job': 'Casting Associate', 'credit_id': '5677cfadc3a368167c008a30', 'id': 1551775}, {'name': 'Richard Davies', 'gender': 0, 'department': 'Costume & Make-Up', 'job': 'Assistant Costume Designer', 'credit_id': '5677d5a392514179db00911d', 'id': 1551777}, {'name': 'Ando Johnson', 'gender': 0, 'department': 'Sound', 'job': 'Sound Effects Editor', 'credit_id': '5677dd6bc3a368168b0083e2', 'id': 1551789}, {'name': 'Greg Corke', 'gender': 0, 'department': 'Crew', 'job': 'Armorer', 'credit_id': '5677de2dc3a3681683008713', 'id': 1551791}, {'name': 'Amin Rharda', 'gender': 0, 'department': 'Production', 'job': 'Researcher', 'credit_id': '5677de8a92514179e10091d9', 'id': 1551796}, {'name': 'Joss Skottowe', 'gender': 0, 'department': 'Crew', 'job': 'Armorer', 'credit_id': '5677dea9c3a368168e00921c', 'id': 1551797}, {'name': 'Joseph Koniak', 'gender': 0, 'department': 'Costume & Make-Up', 'job': 'Hairstylist', 'credit_id': '5677e11c92514179dd0085e3', 'id': 1551798}, {'name': 'Thal\\\\u00eda Echeveste', 'gender': 0, 'department': 'Costume & Make-Up', 'job': 'Makeup Artist', 'credit_id': '5677e1b19251417845001657', 'id': 1551800}, {'name': 'Charlie Hounslow', 'gender': 0, 'department': 'Costume & Make-Up', 'job': 'Makeup Artist', 'credit_id': '5677e1c7c3a368167c008cd8', 'id': 1551801}, {'name': 'Lucy Friend', 'gender': 0, 'department': 'Costume & Make-Up', 'job': 'Makeup Artist', 'credit_id': '5677e1e592514179d2008b7b', 'id': 1551802}, {'name': 'Yelska Labrada', 'gender': 0, 'department': 'Costume & Make-Up', 'job': 'Makeup Artist', 'credit_id': '5677e1fa92514179e1009265', 'id': 1551803}, {'name': 'Ana Gabriela Quinonez', 'gender': 0, 'department': 'Costume & Make-Up', 'job': 'Makeup Artist', 'credit_id': '5677e20fc3a36816830087d9', 'id': 1551804}, {'name': 'Gina De Ferrer', 'gender': 0, 'department': 'Production', 'job': 'Researcher', 'credit_id': '5677e32d9251417845001683', 'id': 1551807}, {'name': 'Lydia Fry', 'gender': 0, 'department': 'Art', 'job': 'Assistant Art Director', 'credit_id': '5677e47592514179e10092dd', 'id': 1551809}, {'name': 'Liam Georgensen', 'gender': 0, 'department': 'Art', 'job': 'Assistant Art Director', 'credit_id': '5677e4a492514179db009373', 'id': 1551810}, {'name': 'Hugh McClelland', 'gender': 0, 'department': 'Art', 'job': 'Assistant Art Director', 'credit_id': '5677e4bb92514179dd00868a', 'id': 1551811}, {'name': 'John Allen', 'gender': 0, 'department': 'Crew', 'job': 'Carpenter', 'credit_id': '5677e53092514179db00938e', 'id': 1551812}, {'name': 'Eddie Murphy', 'gender': 0, 'department': 'Crew', 'job': 'Carpenter', 'credit_id': '5677e547c3a368167a0092ef', 'id': 1551813}, {'name': 'Carlos-Christian Nickel', 'gender': 0, 'department': 'Crew', 'job': 'CG Supervisor', 'credit_id': '567806e092514179dd008c84', 'id': 1551872}, {'name': 'Chris Petts', 'gender': 0, 'department': 'Crew', 'job': 'CG Supervisor', 'credit_id': '567806f7c3a368167a0098d7', 'id': 1551874}, {'name': 'Hugh Brompton', 'gender': 0, 'department': 'Visual Effects', 'job': 'Visual Effects Coordinator', 'credit_id': '567807b7c3a368167a0098f0', 'id': 1551892}, {'name': 'Jillian Brooks', 'gender': 0, 'department': 'Visual Effects', 'job': 'Visual Effects Coordinator', 'credit_id': '567807d1c3a3681680009022', 'id': 1551893}, {'name': 'Geraint Hixson', 'gender': 0, 'department': 'Visual Effects', 'job': 'Visual Effects Coordinator', 'credit_id': '567807eb92514179db00995e', 'id': 1551894}, {'name': 'Shawn Smolensky', 'gender': 0, 'department': 'Visual Effects', 'job': 'Visual Effects Coordinator', 'credit_id': '5678084f92514179d2009226', 'id': 1551896}, {'name': 'Todd Whalen', 'gender': 0, 'department': 'Visual Effects', 'job': 'Visual Effects Coordinator', 'credit_id': '5678086992514179db00996d', 'id': 1551897}, {'name': 'Alysia Wildman', 'gender': 0, 'department': 'Visual Effects', 'job': 'Visual Effects Coordinator', 'credit_id': '56780884c3a3681689008d28', 'id': 1551898}, {'name': 'Sam Girdler', 'gender': 0, 'department': 'Visual Effects', 'job': 'Visual Effects Coordinator', 'credit_id': '567808a0c3a368167c0093a1', 'id': 1551899}, {'name': 'Samantha Dark', 'gender': 0, 'department': 'Visual Effects', 'job': 'Visual Effects Coordinator', 'credit_id': '567808cdc3a3681685009073', 'id': 1551902}, {'name': 'Ty Gibson', 'gender': 0, 'department': 'Crew', 'job': 'Visual Effects Editor', 'credit_id': '567809519251417845001d1a', 'id': 1551904}, {'name': 'James Mann', 'gender': 0, 'department': 'Crew', 'job': 'Visual Effects Editor', 'credit_id': '567809bfc3a368167c0093e7', 'id': 1551906}, {'name': 'Leslie Lerman', 'gender': 0, 'department': 'Visual Effects', 'job': 'Visual Effects Producer', 'credit_id': '567809e392514179dd008d0c', 'id': 1551907}, {'name': 'Steven Begg', 'gender': 0, 'department': 'Visual Effects', 'job': 'Visual Effects Supervisor', 'credit_id': '56780aef92514179d2009276', 'id': 1551908}, {'name': 'Zave Jackson', 'gender': 0, 'department': 'Visual Effects', 'job': 'Visual Effects Supervisor', 'credit_id': '56780b249251417845001d4a', 'id': 1551909}, {'name': 'Jonathan Knight', 'gender': 2, 'department': 'Visual Effects', 'job': 'Visual Effects Supervisor', 'credit_id': '56780b4e9251417845001d57', 'id': 1551910}, {'name': 'Alex Wuttke', 'gender': 0, 'department': 'Visual Effects', 'job': 'Visual Effects Supervisor', 'credit_id': '56780bb692514179d2009291', 'id': 1551911}, {'name': 'Mark Bakowski', 'gender': 0, 'department': 'Visual Effects', 'job': 'Visual Effects Supervisor', 'credit_id': '56780c5a92514179e7008f22', 'id': 1551913}, {'name': 'Paul Round', 'gender': 0, 'department': 'Visual Effects', 'job': 'Visual Effects Supervisor', 'credit_id': '56780c8292514179e30090d1', 'id': 1551914}, {'name': 'Stefano Marino', 'gender': 0, 'department': 'Lighting', 'job': 'Gaffer', 'credit_id': '56cd782ac3a368275b001cae', 'id': 1553236}, {'name': 'Hanz Kawson', 'gender': 0, 'department': 'Lighting', 'job': 'Gaffer', 'credit_id': '56cd7899c3a3682759001bfd', 'id': 1582109}]\n",
      "director: Sam Mendes' metadata={'source': 'movies.csv', 'row': 2}\n",
      "\n",
      "page_content='index: 3\n",
      "budget: 250000000\n",
      "genres: Action Crime Drama Thriller\n",
      "homepage: http://www.thedarkknightrises.com/\n",
      "id: 49026\n",
      "keywords: dc comics crime fighter terrorist secret identity burglar\n",
      "original_language: en\n",
      "original_title: The Dark Knight Rises\n",
      "overview: Following the death of District Attorney Harvey Dent, Batman assumes responsibility for Dent's crimes to protect the late attorney's reputation and is subsequently hunted by the Gotham City Police Department. Eight years later, Batman encounters the mysterious Selina Kyle and the villainous Bane, a new terrorist leader who overwhelms Gotham's finest. The Dark Knight resurfaces to protect a city that has branded him an enemy.\n",
      "popularity: 112.31295\n",
      "production_companies: [{\"name\": \"Legendary Pictures\", \"id\": 923}, {\"name\": \"Warner Bros.\", \"id\": 6194}, {\"name\": \"DC Entertainment\", \"id\": 9993}, {\"name\": \"Syncopy\", \"id\": 9996}]\n",
      "production_countries: [{\"iso_3166_1\": \"US\", \"name\": \"United States of America\"}]\n",
      "release_date: 2012-07-16\n",
      "revenue: 1084939099\n",
      "runtime: 165.0\n",
      "spoken_languages: [{\"iso_639_1\": \"en\", \"name\": \"English\"}]\n",
      "status: Released\n",
      "tagline: The Legend Ends\n",
      "title: The Dark Knight Rises\n",
      "vote_average: 7.6\n",
      "vote_count: 9106\n",
      "cast: Christian Bale Michael Caine Gary Oldman Anne Hathaway Tom Hardy\n",
      "crew: [{'name': 'Hans Zimmer', 'gender': 2, 'department': 'Sound', 'job': 'Original Music Composer', 'credit_id': '52fe4781c3a36847f81398c3', 'id': 947}, {'name': 'Charles Roven', 'gender': 0, 'department': 'Production', 'job': 'Producer', 'credit_id': '52fe4781c3a36847f8139899', 'id': 282}, {'name': 'Christopher Nolan', 'gender': 2, 'department': 'Writing', 'job': 'Screenplay', 'credit_id': '52fe4781c3a36847f813991b', 'id': 525}, {'name': 'Christopher Nolan', 'gender': 2, 'department': 'Directing', 'job': 'Director', 'credit_id': '52fe4781c3a36847f8139865', 'id': 525}, {'name': 'Christopher Nolan', 'gender': 2, 'department': 'Production', 'job': 'Producer', 'credit_id': '52fe4781c3a36847f8139893', 'id': 525}, {'name': 'Christopher Nolan', 'gender': 2, 'department': 'Writing', 'job': 'Story', 'credit_id': '52fe4781c3a36847f8139915', 'id': 525}, {'name': 'Jonathan Nolan', 'gender': 2, 'department': 'Writing', 'job': 'Screenplay', 'credit_id': '52fe4781c3a36847f813990f', 'id': 527}, {'name': 'Emma Thomas', 'gender': 1, 'department': 'Production', 'job': 'Producer', 'credit_id': '52fe4781c3a36847f813989f', 'id': 556}, {'name': 'Wally Pfister', 'gender': 2, 'department': 'Camera', 'job': 'Director of Photography', 'credit_id': '52fe4781c3a36847f81398c9', 'id': 559}, {'name': 'Wally Pfister', 'gender': 2, 'department': 'Camera', 'job': 'Camera Operator', 'credit_id': '54c37788c3a3681421011a07', 'id': 559}, {'name': 'John Papsidera', 'gender': 0, 'department': 'Production', 'job': 'Casting', 'credit_id': '52fe4781c3a36847f81398d5', 'id': 561}, {'name': 'David S. Goyer', 'gender': 2, 'department': 'Writing', 'job': 'Story', 'credit_id': '52fe4781c3a36847f8139921', 'id': 3893}, {'name': 'Bob Kane', 'gender': 2, 'department': 'Writing', 'job': 'Characters', 'credit_id': '52fe4781c3a36847f81398a5', 'id': 3794}, {'name': 'Lee Smith', 'gender': 0, 'department': 'Editing', 'job': 'Editor', 'credit_id': '52fe4781c3a36847f81398cf', 'id': 3904}, {'name': 'Michael Uslan', 'gender': 2, 'department': 'Production', 'job': 'Executive Producer', 'credit_id': '52fe4781c3a36847f81398bd', 'id': 10949}, {'name': 'Benjamin Melniker', 'gender': 2, 'department': 'Production', 'job': 'Executive Producer', 'credit_id': '52fe4781c3a36847f81398b1', 'id': 10951}, {'name': 'Jim Palmer', 'gender': 2, 'department': 'Crew', 'job': 'Stunts', 'credit_id': '564e1be99251414af7000269', 'id': 9568}, {'name': 'Karen Blynder', 'gender': 0, 'department': 'Costume & Make-Up', 'job': 'Makeup Artist', 'credit_id': '54c224cec3a368792c00322f', 'id': 9991}, {'name': 'Lindy Hemming', 'gender': 1, 'department': 'Costume & Make-Up', 'job': 'Costume Design', 'credit_id': '52fe4781c3a36847f81398f9', 'id': 10714}, {'name': 'Paki Smith', 'gender': 0, 'department': 'Art', 'job': 'Set Decoration', 'credit_id': '52fe4781c3a36847f81398f3', 'id': 12039}, {'name': 'Robert Woodruff', 'gender': 2, 'department': 'Art', 'job': 'Art Direction', 'credit_id': '52fe4781c3a36847f8139905', 'id': 14762}, {'name': 'Nathan Crowley', 'gender': 2, 'department': 'Art', 'job': 'Production Design', 'credit_id': '52fe4781c3a36847f81398e1', 'id': 15327}, {'name': 'Kevin Kavanaugh', 'gender': 0, 'department': 'Art', 'job': 'Production Design', 'credit_id': '52fe4781c3a36847f81398e7', 'id': 15328}, {'name': 'Naaman Marshall', 'gender': 0, 'department': 'Art', 'job': 'Supervising Art Director', 'credit_id': '570b91d29251415248001736', 'id': 17677}, {'name': 'Timothy Healy', 'gender': 0, 'department': 'Lighting', 'job': 'Electrician', 'credit_id': '57c4678f92514105db0046d4', 'id': 35630}, {'name': \"Brian 'Buzz' Buzzelli\", 'gender': 0, 'department': 'Lighting', 'job': 'Rigging Grip', 'credit_id': '5745d36e92514129a0002e7c', 'id': 40120}, {'name': 'R.J. Kizer', 'gender': 2, 'department': 'Sound', 'job': 'ADR & Dubbing', 'credit_id': '54c2732b9251416eae00cab6', 'id': 52193}, {'name': 'Thomas Tull', 'gender': 0, 'department': 'Production', 'job': 'Executive Producer', 'credit_id': '52fe4781c3a36847f81398b7', 'id': 54211}, {'name': 'Lee Sheward', 'gender': 2, 'department': 'Crew', 'job': 'Stunts', 'credit_id': '56aa55a092514159a5001cf3', 'id': 57569}, {'name': 'Declan Mulvey', 'gender': 0, 'department': 'Crew', 'job': 'Stunts', 'credit_id': '56817f919251417def0118c9', 'id': 61329}, {'name': 'Gerald Sullivan', 'gender': 0, 'department': 'Art', 'job': 'Art Direction', 'credit_id': '52fe4781c3a36847f81398ff', 'id': 62560}, {'name': 'Zack Grobler', 'gender': 0, 'department': 'Art', 'job': 'Art Direction', 'credit_id': '54c2234d925141315a005b6b', 'id': 31172}, {'name': 'Kevin Kaska', 'gender': 0, 'department': 'Sound', 'job': 'Orchestrator', 'credit_id': '579d0191c3a36828b100130b', 'id': 68016}, {'name': 'Rick Avery', 'gender': 2, 'department': 'Crew', 'job': 'Stunts', 'credit_id': '56d9d2c9925141340201f6ed', 'id': 81687}, {'name': 'Kevin De La Noy', 'gender': 2, 'department': 'Production', 'job': 'Executive Producer', 'credit_id': '52fe4781c3a36847f81398ab', 'id': 75804}, {'name': 'Jordan Goldberg', 'gender': 0, 'department': 'Production', 'job': 'Co-Producer', 'credit_id': '5766cb129251411323000031', 'id': 113913}, {'name': 'Karl McMillan', 'gender': 0, 'department': 'Production', 'job': 'Production Manager', 'credit_id': '54c227c2c3a3686c61012820', 'id': 114017}, {'name': 'May Leung', 'gender': 0, 'department': 'Visual Effects', 'job': 'VFX Supervisor', 'credit_id': '54c375f6c3a36833380010e1', 'id': 92231}, {'name': 'Philippe Vonlanthen', 'gender': 2, 'department': 'Crew', 'job': 'Stunts', 'credit_id': '56c605c9c3a3680d4e003645', 'id': 122549}, {'name': 'Gary Rizzo', 'gender': 0, 'department': 'Sound', 'job': 'Sound Re-Recording Mixer', 'credit_id': '54c274859251416e6000d4ee', 'id': 138618}, {'name': 'Doug Coleman', 'gender': 0, 'department': 'Crew', 'job': 'Stunts', 'credit_id': '56e76ae3c3a368408c000be7', 'id': 142157}, {'name': 'Anthony Molinari', 'gender': 2, 'department': 'Crew', 'job': 'Stunts', 'credit_id': '579794d19251411a9000004d', 'id': 202930}, {'name': 'Christopher Place', 'gender': 0, 'department': 'Crew', 'job': 'Stunts', 'credit_id': '568181699251411334008948', 'id': 204339}, {'name': 'Barbara Harris', 'gender': 0, 'department': 'Sound', 'job': 'ADR & Dubbing', 'credit_id': '56a7b806c3a36828b800190b', 'id': 230436}, {'name': \"Carrick O'Quinn\", 'gender': 0, 'department': 'Crew', 'job': 'Stunts', 'credit_id': '564e1b75c3a368070f000288', 'id': 550900}, {'name': 'Bruce Fowler', 'gender': 2, 'department': 'Sound', 'job': 'Orchestrator', 'credit_id': '57531069c3a3684c100007ef', 'id': 932186}, {'name': 'Roy T. Anderson', 'gender': 2, 'department': 'Crew', 'job': 'Stunts', 'credit_id': '568035f3c3a3684bcc00e7b2', 'id': 932748}, {'name': 'Dean Wolcott', 'gender': 2, 'department': 'Art', 'job': 'Art Direction', 'credit_id': '54c2239fc3a36879290038ba', 'id': 969743}, {'name': 'Toby Whale', 'gender': 0, 'department': 'Production', 'job': 'Casting', 'credit_id': '52fe4781c3a36847f81398db', 'id': 1018958}, {'name': 'Jim Wilkey', 'gender': 2, 'department': 'Crew', 'job': 'Stunts', 'credit_id': '56a189729251415e5e00fd3b', 'id': 1025090}, {'name': 'James Hambidge', 'gender': 0, 'department': 'Art', 'job': 'Supervising Art Director', 'credit_id': '570b91c3c3a3684f41003b4c', 'id': 1034754}, {'name': 'Aaron Vexler', 'gender': 0, 'department': 'Crew', 'job': 'Stunts', 'credit_id': '568183ab9251414f6300a6f8', 'id': 1045964}, {'name': 'Carmia Marshall', 'gender': 0, 'department': 'Costume & Make-Up', 'job': 'Set Costumer', 'credit_id': '54c37a699251412446005572', 'id': 1046614}, {'name': 'Hugo Weng', 'gender': 0, 'department': 'Editing', 'job': 'Dialogue Editor', 'credit_id': '54c2737bc3a368792c003905', 'id': 1050930}, {'name': 'Adam Horton', 'gender': 0, 'department': 'Crew', 'job': 'Stunts', 'credit_id': '57a29134c3a36832b8001afb', 'id': 1061061}, {'name': 'Raymond Mamrak', 'gender': 0, 'department': 'Crew', 'job': 'Stunts', 'credit_id': '56aba40e9251410e8f002cf7', 'id': 1106629}, {'name': 'John Roesch', 'gender': 2, 'department': 'Sound', 'job': 'Foley', 'credit_id': '54c27360925141315a0062e4', 'id': 1116937}, {'name': 'Mike Chambers', 'gender': 0, 'department': 'Visual Effects', 'job': 'Visual Effects Producer', 'credit_id': '54c3717792514124c8005220', 'id': 1155668}, {'name': 'Emmanuel Pappas', 'gender': 0, 'department': 'Production', 'job': 'Production Manager', 'credit_id': '54c226f2c3a368792c003267', 'id': 1270053}, {'name': 'Stephen W. Schriver', 'gender': 0, 'department': 'Crew', 'job': 'Stunts', 'credit_id': '568186c0c3a36828f5006e04', 'id': 1301652}, {'name': 'Linda Matthews', 'gender': 0, 'department': 'Costume & Make-Up', 'job': 'Costume Supervisor', 'credit_id': '54c379b4c3a3687c4000fcd6', 'id': 1319744}, {'name': 'Luisa Abel', 'gender': 0, 'department': 'Costume & Make-Up', 'job': 'Makeup Department Head', 'credit_id': '54c2248cc3a36878fb003164', 'id': 1322015}, {'name': 'Sue Whitaker', 'gender': 0, 'department': 'Art', 'job': 'Art Direction', 'credit_id': '54c2238192514124890035aa', 'id': 1327144}, {'name': 'Samantha MacIvor', 'gender': 1, 'department': 'Crew', 'job': 'Stunts', 'credit_id': '56817e2192514113340088e0', 'id': 1329415}, {'name': 'Jared Burke', 'gender': 0, 'department': 'Crew', 'job': 'Stunts', 'credit_id': '56817898c3a3684bcc011ff7', 'id': 1329527}, {'name': 'Laura Downing', 'gender': 0, 'department': 'Costume & Make-Up', 'job': 'Costume Supervisor', 'credit_id': '54c3796cc3a36878d00059fb', 'id': 1336192}, {'name': 'Rebecca Levin', 'gender': 0, 'department': 'Costume & Make-Up', 'job': 'Set Costumer', 'credit_id': '54c37a9292514124c800531e', 'id': 1336193}, {'name': 'Ray Siegle', 'gender': 0, 'department': 'Crew', 'job': 'Stunts', 'credit_id': '5796b492c3a3680cfa002ae3', 'id': 1340941}, {'name': 'Richard King', 'gender': 2, 'department': 'Sound', 'job': 'Sound Designer', 'credit_id': '54c273cf92514124ed003c05', 'id': 1341403}, {'name': 'Richard King', 'gender': 2, 'department': 'Sound', 'job': 'Supervising Sound Editor', 'credit_id': '54c2739dc3a368792c003908', 'id': 1341403}, {'name': 'Bryan O. Watkins', 'gender': 0, 'department': 'Sound', 'job': 'Sound Effects Editor', 'credit_id': '54c27458c3a36878fb003835', 'id': 1341786}, {'name': 'Bradley Porter', 'gender': 0, 'department': 'Crew', 'job': 'Production Office Assistant', 'credit_id': '54e4a102c3a368087b005200', 'id': 1348686}, {'name': 'Cuitlahuac Morales Velazquez', 'gender': 0, 'department': 'Art', 'job': 'Sculptor', 'credit_id': '54c22e3d92514124c8003387', 'id': 1355530}, {'name': 'Scott R. Fisher', 'gender': 0, 'department': 'Crew', 'job': 'Special Effects Coordinator', 'credit_id': '54c27591c3a36879290040e9', 'id': 1357062}, {'name': 'Greg Baldi', 'gender': 0, 'department': 'Camera', 'job': 'Camera Operator', 'credit_id': '54c376f492514124460054fe', 'id': 1357064}, {'name': 'P. Scott Sakamoto', 'gender': 0, 'department': 'Camera', 'job': 'Camera Operator', 'credit_id': '54c37756c3a3683338001106', 'id': 1357066}, {'name': 'Denny Caira', 'gender': 0, 'department': 'Crew', 'job': 'Transportation Coordinator', 'credit_id': '54c37c5692514124c8005349', 'id': 1357070}, {'name': 'Trampas Thompson', 'gender': 2, 'department': 'Crew', 'job': 'Stunts', 'credit_id': '5681830ec3a3684be9010b3b', 'id': 1358564}, {'name': 'Steve Gehrke', 'gender': 2, 'department': 'Directing', 'job': 'Script Supervisor', 'credit_id': '54c37cdc92514124460055a5', 'id': 1367508}, {'name': 'Derrick Mitchell', 'gender': 0, 'department': 'Crew', 'job': 'Visual Effects Editor', 'credit_id': '54c37345c3a36833380010a6', 'id': 1372882}, {'name': 'Michael W. Mitchell', 'gender': 0, 'department': 'Sound', 'job': 'Sound Effects Editor', 'credit_id': '54c27414c3a368792c003910', 'id': 1377222}, {'name': 'Joe Ondrejko', 'gender': 0, 'department': 'Art', 'job': 'Construction Coordinator', 'credit_id': '54c22a06c3a368792c0032a2', 'id': 1378222}, {'name': 'Ken J. Johnson', 'gender': 0, 'department': 'Sound', 'job': 'Sound Effects Editor', 'credit_id': '567607a192514179e3003fd2', 'id': 1378231}, {'name': 'Lori Harris', 'gender': 0, 'department': 'Costume & Make-Up', 'job': 'Set Costumer', 'credit_id': '54c37b21c3a368789b0059cb', 'id': 1378246}, {'name': 'Francie Brown', 'gender': 0, 'department': 'Crew', 'job': 'Dialect Coach', 'credit_id': '54c37e8cc3a3681421011a9c', 'id': 1378726}, {'name': 'Trevor Habberstad', 'gender': 0, 'department': 'Crew', 'job': 'Stunts', 'credit_id': '568185c592514132db00f267', 'id': 1384390}, {'name': 'Amanda Pettett', 'gender': 0, 'department': 'Art', 'job': 'Construction Coordinator', 'credit_id': '54c22976925141315a005be2', 'id': 1389526}, {'name': 'Hana Rausalova', 'gender': 0, 'department': 'Costume & Make-Up', 'job': 'Set Costumer', 'credit_id': '54c37a01c3a36878fb00500a', 'id': 1391648}, {'name': 'Tom Still', 'gender': 0, 'department': 'Art', 'job': 'Art Direction', 'credit_id': '54c2236fc3a36878fb003141', 'id': 1392587}, {'name': 'Jeff Brink', 'gender': 0, 'department': 'Crew', 'job': 'Special Effects Coordinator', 'credit_id': '54c2757792514124c80039d9', 'id': 1393387}, {'name': 'Paula Jack', 'gender': 0, 'department': 'Crew', 'job': 'Dialect Coach', 'credit_id': '54c37d0492514124460055a7', 'id': 1394050}, {'name': 'Alison Evans', 'gender': 0, 'department': 'Costume & Make-Up', 'job': 'Set Costumer', 'credit_id': '54c37b3cc3a368792c0050eb', 'id': 1395030}, {'name': 'Amanda Jenkins', 'gender': 0, 'department': 'Costume & Make-Up', 'job': 'Set Costumer', 'credit_id': '54c37ae1c3a3687929005bf1', 'id': 1395032}, {'name': 'Jenne Lee', 'gender': 0, 'department': 'Art', 'job': 'Art Department Coordinator', 'credit_id': '54c22849c3a368789b0037cf', 'id': 1395430}, {'name': 'Theodore Sharps', 'gender': 0, 'department': 'Art', 'job': 'Set Designer', 'credit_id': '54c22e1cc3a36878fb003228', 'id': 1395435}, {'name': 'Alyson Dee Moore', 'gender': 0, 'department': 'Sound', 'job': 'Foley', 'credit_id': '54c2734bc3a368789b003f6a', 'id': 1397823}, {'name': 'Ian Whiteford', 'gender': 0, 'department': 'Art', 'job': 'Greensman', 'credit_id': '54c22b05c3a36878d000384e', 'id': 1398089}, {'name': 'Hans Bjerno', 'gender': 0, 'department': 'Camera', 'job': 'Helicopter Camera', 'credit_id': '54c3785cc3a36878fb004fd2', 'id': 1399071}, {'name': 'Mustapha Mimis', 'gender': 0, 'department': 'Costume & Make-Up', 'job': 'Set Costumer', 'credit_id': '54c37a339251416e6000ee25', 'id': 1399323}, {'name': 'Bruce Lee Gross', 'gender': 0, 'department': 'Art', 'job': 'Leadman', 'credit_id': '54c22b5a9251416e6000cdc1', 'id': 1399463}, {'name': 'Ron Phillips', 'gender': 0, 'department': 'Camera', 'job': 'Still Photographer', 'credit_id': '54c378cfc3a3687929005bb1', 'id': 1399876}, {'name': 'Alejandro M. Hernandez', 'gender': 0, 'department': 'Costume & Make-Up', 'job': 'Set Costumer', 'credit_id': '54c37afbc3a368792c0050e2', 'id': 1401814}, {'name': 'Kathleen S. Dunn', 'gender': 1, 'department': 'Crew', 'job': 'Dialect Coach', 'credit_id': '54c37e5a925141243200588d', 'id': 1402008}, {'name': 'Matthew Reedy', 'gender': 0, 'department': 'Directing', 'job': 'Assistant Director', 'credit_id': '57785421c3a36826c9000a83', 'id': 1402079}, {'name': 'Roberto Craciunica', 'gender': 0, 'department': 'Costume & Make-Up', 'job': 'Costume Design', 'credit_id': '54c223c2c3a3686c610127d0', 'id': 1403424}, {'name': 'Candice D. Campos', 'gender': 0, 'department': 'Production', 'job': 'Production Supervisor', 'credit_id': '54c227f6c3a36878fb0031a8', 'id': 1403427}, {'name': 'Steve Koster', 'gender': 0, 'department': 'Camera', 'job': 'Helicopter Camera', 'credit_id': '54c3780d925141248900573b', 'id': 1404739}, {'name': 'Pete Bebb', 'gender': 0, 'department': 'Visual Effects', 'job': 'Visual Effects Supervisor', 'credit_id': '54c37482c3a36878fb004f73', 'id': 1408347}, {'name': 'Natasha Ladek', 'gender': 0, 'department': 'Costume & Make-Up', 'job': 'Wigmaker', 'credit_id': '54c2254892514124ed003561', 'id': 1409824}, {'name': 'Chris Bertholf', 'gender': 0, 'department': 'Art', 'job': 'Painter', 'credit_id': '567d811dc3a36860e9006747', 'id': 1411808}, {'name': 'Jay Wejebe', 'gender': 0, 'department': 'Costume & Make-Up', 'job': 'Makeup Artist', 'credit_id': '54c224b7c3a36879290038de', 'id': 1412185}, {'name': 'William Gideon', 'gender': 0, 'department': 'Art', 'job': 'Construction Foreman', 'credit_id': '54c22a7e92514124ed0035cf', 'id': 1413089}, {'name': 'Joel Green', 'gender': 0, 'department': 'Crew', 'job': 'Sequence Supervisor', 'credit_id': '54c3761dc3a368789b005920', 'id': 1415157}, {'name': 'Diana Choi', 'gender': 0, 'department': 'Crew', 'job': 'Makeup Effects', 'credit_id': '56fd6190c3a3685cda0005de', 'id': 1415606}, {'name': 'Claudia Kalindjian', 'gender': 0, 'department': 'Crew', 'job': 'Unit Publicist', 'credit_id': '54c37e11c3a3681421011a8f', 'id': 1416005}, {'name': 'Toby Britton', 'gender': 0, 'department': 'Art', 'job': 'Art Direction', 'credit_id': '54c2233c92514124c8003261', 'id': 1417396}, {'name': 'Jonathan Kevin Ong', 'gender': 0, 'department': 'Art', 'job': 'Art Direction', 'credit_id': '54c2235ec3a368142100fa9a', 'id': 1417397}, {'name': 'Janice Alexander', 'gender': 0, 'department': 'Costume & Make-Up', 'job': 'Hairstylist', 'credit_id': '54c223ea9251416e6000cd21', 'id': 1417398}, {'name': 'Patricia DeHaney', 'gender': 0, 'department': 'Costume & Make-Up', 'job': 'Hairstylist', 'credit_id': '54c2240292514124460034ac', 'id': 1417399}, {'name': 'Deena Adair', 'gender': 0, 'department': 'Costume & Make-Up', 'job': 'Hairstylist', 'credit_id': '54c224619251416eae00c3aa', 'id': 1417400}, {'name': 'Andre Gilbert', 'gender': 0, 'department': 'Crew', 'job': 'Makeup Effects', 'credit_id': '54c225c2c3a36878d00037bb', 'id': 1417403}, {'name': 'Michael Murray', 'gender': 0, 'department': 'Production', 'job': 'Production Manager', 'credit_id': '54c227a49251416e6000cd7b', 'id': 1417406}, {'name': 'Thomas Hayslip', 'gender': 0, 'department': 'Production', 'job': 'Production Manager', 'credit_id': '54c227dc925141248900361a', 'id': 1417407}, {'name': 'Mika Saito', 'gender': 0, 'department': 'Production', 'job': 'Production Supervisor', 'credit_id': '54c2280ec3a3687929003931', 'id': 1417408}, {'name': 'Pippa Needs', 'gender': 0, 'department': 'Art', 'job': 'Art Department Coordinator', 'credit_id': '54c22867c3a3686c6101282f', 'id': 1417409}, {'name': 'Laura Pliskin', 'gender': 0, 'department': 'Art', 'job': 'Art Department Coordinator', 'credit_id': '54c22883925141244600351e', 'id': 1417410}, {'name': 'Anna Bregman', 'gender': 0, 'department': 'Art', 'job': 'Assistant Art Director', 'credit_id': '54c228d49251416e6000cd90', 'id': 1417411}, {'name': 'Robert W. Joseph', 'gender': 0, 'department': 'Art', 'job': 'Assistant Art Director', 'credit_id': '54c2290cc3a36878fb0031c1', 'id': 1417412}, {'name': 'Barry Wilkinson', 'gender': 0, 'department': 'Crew', 'job': 'Property Master', 'credit_id': '54c22949c3a36878d000381a', 'id': 1417413}, {'name': 'Glen Pangione', 'gender': 0, 'department': 'Art', 'job': 'Construction Coordinator', 'credit_id': '54c229eec3a36878d0003836', 'id': 1417414}, {'name': 'Mychael Bates', 'gender': 2, 'department': 'Art', 'job': 'Property Master', 'credit_id': '594851dac3a36816f6048d7d', 'id': 1417415}, {'name': 'Brandon A. Plonka', 'gender': 0, 'department': 'Art', 'job': 'Greensman', 'credit_id': '54c22ac69251416eae00c42c', 'id': 1417416}, {'name': 'Elizabeth Tomasetti', 'gender': 0, 'department': 'Crew', 'job': 'Scenic Artist', 'credit_id': '54c22ae3c3a368792900396e', 'id': 1417417}, {'name': 'Sean Ginevan', 'gender': 0, 'department': 'Art', 'job': 'Leadman', 'credit_id': '54c22d4592514124c8003368', 'id': 1417418}, {'name': 'Jason Kolowski', 'gender': 0, 'department': 'Art', 'job': 'Set Designer', 'credit_id': '54c22df6c3a36878d000388e', 'id': 1417419}, {'name': 'Michael Babcock', 'gender': 0, 'department': 'Sound', 'job': 'Sound Effects Editor', 'credit_id': '54c273ec92514124ed003c0a', 'id': 1417514}, {'name': 'Michael Babcock', 'gender': 0, 'department': 'Sound', 'job': 'Sound Re-Recording Mixer', 'credit_id': '54c2752392514124c80039d3', 'id': 1417514}, {'name': 'Randle Akerson', 'gender': 0, 'department': 'Sound', 'job': 'Sound Effects Editor', 'credit_id': '54c273fec3a368789b003f7a', 'id': 1417515}, {'name': 'Jeff Sawyer', 'gender': 0, 'department': 'Sound', 'job': 'Sound Effects Editor', 'credit_id': '54c27428925141315a0062f5', 'id': 1417516}, {'name': 'Carlos Solis', 'gender': 0, 'department': 'Sound', 'job': 'Sound Re-Recording Mixer', 'credit_id': '54c274f1c3a36879290040da', 'id': 1417517}, {'name': 'Nick Dacey', 'gender': 0, 'department': 'Crew', 'job': 'Visual Effects Editor', 'credit_id': '54c37193c3a368792c004fed', 'id': 1417820}, {'name': 'Claudia Dehmel', 'gender': 0, 'department': 'Visual Effects', 'job': 'Visual Effects Producer', 'credit_id': '54c372959251416eae00e22d', 'id': 1417821}, {'name': 'Reuben Lloyd-Pack', 'gender': 0, 'department': 'Crew', 'job': 'Visual Effects Editor', 'credit_id': '54c372e39251416e6000ed54', 'id': 1417822}, {'name': 'Steve Miller', 'gender': 0, 'department': 'Crew', 'job': 'Visual Effects Editor', 'credit_id': '54c3731892514124c8005254', 'id': 1417823}, {'name': 'Christopher Payne', 'gender': 0, 'department': 'Crew', 'job': 'Visual Effects Editor', 'credit_id': '54c3738f9251416e6000ed5f', 'id': 1417824}, {'name': 'Julian Foddy', 'gender': 0, 'department': 'Crew', 'job': 'CG Supervisor', 'credit_id': '54c374b392514124890056d9', 'id': 1417825}, {'name': 'Paul J. Franklin', 'gender': 0, 'department': 'Visual Effects', 'job': 'Visual Effects Supervisor', 'credit_id': '54c374cc9251416e6000ed85', 'id': 1417826}, {'name': 'Nicola Hoyle', 'gender': 0, 'department': 'Crew', 'job': 'CG Supervisor', 'credit_id': '54c374eec3a368789b005901', 'id': 1417827}, {'name': 'Andrew Lockley', 'gender': 0, 'department': 'Visual Effects', 'job': 'Visual Effects Supervisor', 'credit_id': '54c37524c3a3687929005b32', 'id': 1417828}, {'name': 'Alison Wortman', 'gender': 0, 'department': 'Crew', 'job': 'Sequence Supervisor', 'credit_id': '54c3757ac3a36833380010d3', 'id': 1417829}, {'name': 'Maxx Wai In Leong', 'gender': 0, 'department': 'Crew', 'job': 'Sequence Supervisor', 'credit_id': '54c375b49251416e6000ed9d', 'id': 1417830}, {'name': 'Sy Hollands', 'gender': 0, 'department': 'Crew', 'job': 'Stunt Coordinator', 'credit_id': '54c3766ac3a36814210119e7', 'id': 1417831}, {'name': 'Ryan Rodriguez', 'gender': 0, 'department': 'Lighting', 'job': 'Gaffer', 'credit_id': '54c377e49251416e6000edfc', 'id': 1417832}, {'name': 'Reuben Garrett', 'gender': 0, 'department': 'Lighting', 'job': 'Gaffer', 'credit_id': '54c3783c92514124c80052d6', 'id': 1417833}, {'name': 'Dane Bjerno', 'gender': 0, 'department': 'Camera', 'job': 'Camera Technician', 'credit_id': '54c378719251416eae00e2db', 'id': 1417834}, {'name': 'Ian Franklin', 'gender': 0, 'department': 'Lighting', 'job': 'Rigging Gaffer', 'credit_id': '54c378a49251412432005815', 'id': 1417835}, {'name': 'Andrew McEvoy', 'gender': 0, 'department': 'Visual Effects', 'job': 'Animation', 'credit_id': '54c379219251412446005555', 'id': 1417836}, {'name': 'Brendan Handscombe', 'gender': 0, 'department': 'Costume & Make-Up', 'job': 'Costume Supervisor', 'credit_id': '54c3798b92514124ed005678', 'id': 1417837}, {'name': 'Lindsay Kouri', 'gender': 0, 'department': 'Costume & Make-Up', 'job': 'Set Costumer', 'credit_id': '54c37ac9c3a36878fb00501a', 'id': 1417838}, {'name': 'David Butler', 'gender': 0, 'department': 'Costume & Make-Up', 'job': 'Set Costumer', 'credit_id': '54c37ba5c3a3683338001180', 'id': 1417839}, {'name': 'Eric A. Lewy', 'gender': 0, 'department': 'Editing', 'job': 'First Assistant Editor', 'credit_id': '54c37c01c3a3687929005c04', 'id': 1417840}, {'name': 'Ryan Rubin', 'gender': 0, 'department': 'Sound', 'job': 'Music Editor', 'credit_id': '54c37c29925141243200586d', 'id': 1417841}, {'name': 'Gary Birmingham', 'gender': 0, 'department': 'Crew', 'job': 'Transportation Coordinator', 'credit_id': '54c37c42c3a36878d0005a31', 'id': 1417842}, {'name': 'Tyler W. Gaisford', 'gender': 0, 'department': 'Crew', 'job': 'Picture Car Coordinator', 'credit_id': '54c37c7592514124ed0056af', 'id': 1417843}, {'name': 'Mark Somner', 'gender': 0, 'department': 'Production', 'job': 'Location Manager', 'credit_id': '54c37d6dc3a3687c4000fd1b', 'id': 1417844}, {'name': 'Joaquin Diego Prange', 'gender': 0, 'department': 'Production', 'job': 'Location Manager', 'credit_id': '54c37d9fc3a3687c4000fd20', 'id': 1417845}, {'name': 'Vans Pradeep Singh Rathore', 'gender': 0, 'department': 'Production', 'job': 'Location Manager', 'credit_id': '54c37dbb9251416e6000ee57', 'id': 1417846}, {'name': 'James A. Mahathey', 'gender': 0, 'department': 'Production', 'job': 'Location Manager', 'credit_id': '54c37de6c3a36878d0005a54', 'id': 1417847}, {'name': 'Jonathan Hook', 'gender': 0, 'department': 'Production', 'job': 'Location Manager', 'credit_id': '54c37e2cc3a36833380011b6', 'id': 1417848}, {'name': 'Stephanie Hovette', 'gender': 0, 'department': 'Costume & Make-Up', 'job': 'Hairstylist', 'credit_id': '56c266579251414a89000a2a', 'id': 1427499}, {'name': 'Brian Smyj', 'gender': 0, 'department': 'Crew', 'job': 'Stunts', 'credit_id': '569fd0f6c3a36858c300a313', 'id': 1434599}, {'name': 'Donald Likovich', 'gender': 0, 'department': 'Editing', 'job': 'Assistant Editor', 'credit_id': '56d4e8b3c3a3681e44017a1d', 'id': 1440853}, {'name': 'Ian Mclaughlin', 'gender': 0, 'department': 'Crew', 'job': 'Stunts', 'credit_id': '56817ef292514132db00f181', 'id': 1455503}, {'name': 'Dixie Webster', 'gender': 0, 'department': 'Production', 'job': 'Casting', 'credit_id': '56d872209251414291007577', 'id': 1463954}, {'name': 'Victor Paguia', 'gender': 0, 'department': 'Crew', 'job': 'Stunts', 'credit_id': '568180369251414f6300a677', 'id': 1468581}, {'name': 'Wade Sullivan', 'gender': 0, 'department': 'Costume & Make-Up', 'job': 'Assistant Costume Designer', 'credit_id': '5682ca7392514169d0000aae', 'id': 1468589}, {'name': 'Sid Karne', 'gender': 0, 'department': 'Crew', 'job': 'Stunts', 'credit_id': '56744cfb92514179dd00006d', 'id': 1483827}, {'name': 'Sid Karne', 'gender': 0, 'department': 'Directing', 'job': 'Assistant Director', 'credit_id': '5621354392514171d000883b', 'id': 1483827}, {'name': 'Michael J. Prate', 'gender': 0, 'department': 'Camera', 'job': 'Grip', 'credit_id': '5681e419c3a36828f5007e50', 'id': 1509394}, {'name': 'Tom Prate', 'gender': 0, 'department': 'Camera', 'job': 'Grip', 'credit_id': '5681e47a92514113340099ff', 'id': 1509396}, {'name': 'R. Cory McCutcheon', 'gender': 0, 'department': 'Costume & Make-Up', 'job': 'Hairstylist', 'credit_id': '567d7b08c3a3684bd00070c2', 'id': 1516458}, {'name': \"Anne O'Brien\", 'gender': 0, 'department': 'Editing', 'job': 'Assistant Editor', 'credit_id': '56ba969e92514169b3000721', 'id': 1525908}, {'name': 'Rex Reddick', 'gender': 0, 'department': 'Crew', 'job': 'Stunts', 'credit_id': '578fbfa19251411d5700117b', 'id': 1531529}, {'name': 'Bob Hall', 'gender': 0, 'department': 'Camera', 'job': 'First Assistant Camera', 'credit_id': '57d6ea2fc3a368023a00044e', 'id': 1532610}, {'name': 'Blake Pike', 'gender': 0, 'department': 'Lighting', 'job': 'Rigging Grip', 'credit_id': '57bf2c29c3a3685c5d003e00', 'id': 1532612}, {'name': 'Philip Shanahan', 'gender': 0, 'department': 'Camera', 'job': 'First Assistant Camera', 'credit_id': '566f8003c3a3680e7300cb03', 'id': 1532613}, {'name': 'Dan Brown', 'gender': 2, 'department': 'Crew', 'job': 'Stunts', 'credit_id': '56452aa6c3a36870ec006931', 'id': 1535095}, {'name': 'Adam Camacho', 'gender': 0, 'department': 'Camera', 'job': 'Grip', 'credit_id': '56452cb89251410a4c006cdf', 'id': 1535096}, {'name': 'Shaun Sangkarat', 'gender': 0, 'department': 'Camera', 'job': 'Grip', 'credit_id': '56452e7ac3a36870ef006f32', 'id': 1535102}, {'name': 'Aja Frary', 'gender': 1, 'department': 'Crew', 'job': 'Stunts', 'credit_id': '56817c9ec3a3682abc00a14b', 'id': 1544394}, {'name': 'Mark Fichera', 'gender': 2, 'department': 'Crew', 'job': 'Stunts', 'credit_id': '56817c4b9251417def011851', 'id': 1544395}, {'name': 'Patrick Hogan', 'gender': 0, 'department': 'Crew', 'job': 'Driver', 'credit_id': '566875bec3a36836970036e9', 'id': 1546907}, {'name': 'Robert Wilson', 'gender': 0, 'department': 'Costume & Make-Up', 'job': 'Hairstylist', 'credit_id': '566dbc4a92514169e200c3cd', 'id': 1548530}, {'name': 'Ray Maxwell', 'gender': 0, 'department': 'Crew', 'job': 'Propmaker', 'credit_id': '566f03c1925141500100a095', 'id': 1549015}, {'name': 'Scotty Richards', 'gender': 0, 'department': 'Crew', 'job': 'Stunts Coordinator', 'credit_id': '566f0f16c3a368535a011220', 'id': 1549026}, {'name': 'Marc Scizak', 'gender': 2, 'department': 'Crew', 'job': 'Stunts', 'credit_id': '5671a5adc3a368535a01870d', 'id': 1549741}, {'name': 'Joe Guzman', 'gender': 0, 'department': 'Lighting', 'job': 'Rigging Grip', 'credit_id': '5672f427c3a3680712003145', 'id': 1550248}, {'name': 'Damiano Fusca', 'gender': 0, 'department': 'Crew', 'job': 'Set Production Assistant', 'credit_id': '5673487792514163b9003756', 'id': 1550400}, {'name': 'Chris Cenatiempo', 'gender': 2, 'department': 'Crew', 'job': 'Stunts', 'credit_id': '56817a49c3a3682abc00a0a5', 'id': 1550725}, {'name': 'Joey J. Cook III', 'gender': 0, 'department': 'Camera', 'job': 'Camera Intern', 'credit_id': '567607cd92514179e7003fcb', 'id': 1551373}, {'name': 'David Orr', 'gender': 0, 'department': 'Editing', 'job': 'Color Timer', 'credit_id': '568f076fc3a368324c0000ac', 'id': 1552549}, {'name': 'Scott Burik', 'gender': 0, 'department': 'Crew', 'job': 'Stunts', 'credit_id': '5680378d9251412e5200bc04', 'id': 1554393}, {'name': 'Mike Burke', 'gender': 0, 'department': 'Crew', 'job': 'Stunts', 'credit_id': '5681798292514131df00eabe', 'id': 1554915}, {'name': 'Shane Geraghty', 'gender': 0, 'department': 'Crew', 'job': 'Stunts', 'credit_id': '56817cecc3a3682abc00a155', 'id': 1554921}, {'name': 'Balint Pinczehelyi', 'gender': 0, 'department': 'Lighting', 'job': 'Rigging Grip', 'credit_id': '568180ea9251417def0118f7', 'id': 1554924}, {'name': 'Kevin Rogers', 'gender': 0, 'department': 'Crew', 'job': 'Stunts', 'credit_id': '56818203c3a36860e9010d12', 'id': 1554925}, {'name': 'Shawnna Thibodeau', 'gender': 0, 'department': 'Crew', 'job': 'Stunts', 'credit_id': '568182e7c3a3684be3011a16', 'id': 1554926}, {'name': 'Caroline Vexler', 'gender': 0, 'department': 'Crew', 'job': 'Stunts', 'credit_id': '568183fac3a36860e9010d53', 'id': 1554931}, {'name': 'Kevin Flynn', 'gender': 2, 'department': 'Lighting', 'job': 'Rigging Grip', 'credit_id': '5681e190c3a3684bcc013316', 'id': 1555027}, {'name': 'Mark Scoon', 'gender': 0, 'department': 'Production', 'job': 'Executive In Charge Of Production', 'credit_id': '56b78254c3a36806ec00e6f5', 'id': 1564997}, {'name': 'Nilo Otero', 'gender': 0, 'department': 'Directing', 'job': 'Assistant Director', 'credit_id': '56b781afc3a36806ec00e6e0', 'id': 1566280}, {'name': 'David E. Hall', 'gender': 0, 'department': 'Crew', 'job': 'Post Production Supervisor', 'credit_id': '5766ccd8c3a3687f5300121a', 'id': 1571601}, {'name': 'Mark Aaron Wagner', 'gender': 2, 'department': 'Crew', 'job': 'Stunts', 'credit_id': '573e668892514108d9000856', 'id': 1622657}, {'name': 'Ed McDermott II', 'gender': 0, 'department': 'Crew', 'job': 'Stunts', 'credit_id': '579bf757c3a3681678003103', 'id': 1634437}, {'name': \"Conor O'Sullivan\", 'gender': 0, 'department': 'Costume & Make-Up', 'job': 'Prosthetic Supervisor', 'credit_id': '5766cc219251416995000666', 'id': 1638257}, {'name': 'Nakul Kamte', 'gender': 0, 'department': 'Sound', 'job': 'Sound Mixer', 'credit_id': '5777f94a9251415f060011a6', 'id': 1644412}, {'name': 'Dileep Singh Rathore', 'gender': 0, 'department': 'Production', 'job': 'Line Producer', 'credit_id': '577852f992514136e100208d', 'id': 1644543}]\n",
      "director: Christopher Nolan' metadata={'source': 'movies.csv', 'row': 3}\n",
      "\n",
      "page_content='index: 4\n",
      "budget: 260000000\n",
      "genres: Action Adventure Science Fiction\n",
      "homepage: http://movies.disney.com/john-carter\n",
      "id: 49529\n",
      "keywords: based on novel mars medallion space travel princess\n",
      "original_language: en\n",
      "original_title: John Carter\n",
      "overview: John Carter is a war-weary, former military captain who's inexplicably transported to the mysterious and exotic planet of Barsoom (Mars) and reluctantly becomes embroiled in an epic conflict. It's a world on the brink of collapse, and Carter rediscovers his humanity when he realizes the survival of Barsoom and its people rests in his hands.\n",
      "popularity: 43.926995\n",
      "production_companies: [{\"name\": \"Walt Disney Pictures\", \"id\": 2}]\n",
      "production_countries: [{\"iso_3166_1\": \"US\", \"name\": \"United States of America\"}]\n",
      "release_date: 2012-03-07\n",
      "revenue: 284139100\n",
      "runtime: 132.0\n",
      "spoken_languages: [{\"iso_639_1\": \"en\", \"name\": \"English\"}]\n",
      "status: Released\n",
      "tagline: Lost in our world, found in another.\n",
      "title: John Carter\n",
      "vote_average: 6.1\n",
      "vote_count: 2124\n",
      "cast: Taylor Kitsch Lynn Collins Samantha Morton Willem Dafoe Thomas Haden Church\n",
      "crew: [{'name': 'Andrew Stanton', 'gender': 2, 'department': 'Writing', 'job': 'Screenplay', 'credit_id': '52fe479ac3a36847f813eaa3', 'id': 7}, {'name': 'Andrew Stanton', 'gender': 2, 'department': 'Directing', 'job': 'Director', 'credit_id': '52fe479ac3a36847f813ea65', 'id': 7}, {'name': 'John Lasseter', 'gender': 2, 'department': 'Crew', 'job': 'Thanks', 'credit_id': '58c69e819251411d30017673', 'id': 7879}, {'name': 'Colin Wilson', 'gender': 2, 'department': 'Production', 'job': 'Producer', 'credit_id': '52fe479ac3a36847f813eac5', 'id': 490}, {'name': 'Gail Stevens', 'gender': 2, 'department': 'Production', 'job': 'Casting', 'credit_id': '58c68f2b9251411d30016cf2', 'id': 2073}, {'name': 'Tom Johnson', 'gender': 2, 'department': 'Sound', 'job': 'Sound Re-Recording Mixer', 'credit_id': '58c68ef19251411d62016ec3', 'id': 3996}, {'name': 'Eric Zumbrunnen', 'gender': 2, 'department': 'Editing', 'job': 'Editor', 'credit_id': '52fe479ac3a36847f813ead7', 'id': 6958}, {'name': 'Michael Silvers', 'gender': 0, 'department': 'Editing', 'job': 'Dialogue Editor', 'credit_id': '58c69a9ec3a36840b801738e', 'id': 8158}, {'name': 'Juan Peralta', 'gender': 0, 'department': 'Sound', 'job': 'Sound Re-Recording Mixer', 'credit_id': '58c68f1ec3a368413b015877', 'id': 8166}, {'name': 'Paul Gooch', 'gender': 0, 'department': 'Costume & Make-Up', 'job': 'Key Makeup Artist', 'credit_id': '58c69340c3a36841200154c9', 'id': 8412}, {'name': 'Paki Smith', 'gender': 0, 'department': 'Art', 'job': 'Set Decoration', 'credit_id': '58c69cc0c3a368413001574a', 'id': 12039}, {'name': 'Ed Catmull', 'gender': 0, 'department': 'Crew', 'job': 'Thanks', 'credit_id': '58c69e9e9251411d11017c02', 'id': 12895}, {'name': 'Steve Jobs', 'gender': 2, 'department': 'Crew', 'job': 'In Memory Of', 'credit_id': '58c689079251411d19017350', 'id': 12897}, {'name': 'Bill Corso', 'gender': 2, 'department': 'Costume & Make-Up', 'job': 'Makeup Designer', 'credit_id': '56abe29d9251417e22003953', 'id': 15017}, {'name': 'Robert Woodruff', 'gender': 2, 'department': 'Art', 'job': 'Art Direction', 'credit_id': '58c691fc9251411d30016e75', 'id': 14762}, {'name': 'Nathan Crowley', 'gender': 2, 'department': 'Art', 'job': 'Production Design', 'credit_id': '52fe479ac3a36847f813eae3', 'id': 15327}, {'name': 'Michael Giacchino', 'gender': 2, 'department': 'Sound', 'job': 'Music', 'credit_id': '58c6888bc3a36840f6014f95', 'id': 15347}, {'name': 'Daniel Mindel', 'gender': 0, 'department': 'Camera', 'job': 'Director of Photography', 'credit_id': '52fe479ac3a36847f813ead1', 'id': 15348}, {'name': 'Stephen M. Davis', 'gender': 2, 'department': 'Sound', 'job': 'Music Editor', 'credit_id': '58c69adcc3a36840f6015b94', 'id': 15354}, {'name': 'John King', 'gender': 2, 'department': 'Art', 'job': 'Art Direction', 'credit_id': '58c69227c3a36840f60155d7', 'id': 34513}, {'name': 'Mayes C. Rubeo', 'gender': 0, 'department': 'Costume & Make-Up', 'job': 'Costume Design', 'credit_id': '52fe479ac3a36847f813eafb', 'id': 17675}, {'name': 'Naaman Marshall', 'gender': 0, 'department': 'Art', 'job': 'Supervising Art Director', 'credit_id': '570b939092514111f20029c9', 'id': 17677}, {'name': 'Scott Zuber', 'gender': 0, 'department': 'Art', 'job': 'Art Direction', 'credit_id': '58c69203c3a36841140150c8', 'id': 18925}, {'name': 'Phil Harvey', 'gender': 2, 'department': 'Art', 'job': 'Art Direction', 'credit_id': '58c6905bc3a3684128014f17', 'id': 23454}, {'name': 'Tim Simonec', 'gender': 0, 'department': 'Sound', 'job': 'Orchestrator', 'credit_id': '58c69aedc3a36841140156e9', 'id': 28241}, {'name': 'Veronica McAleer', 'gender': 0, 'department': 'Costume & Make-Up', 'job': 'Makeup Artist', 'credit_id': '58c69811c3a368410c0160b1', 'id': 29233}, {'name': 'Edgar Rice Burroughs', 'gender': 2, 'department': 'Writing', 'job': 'Original Story', 'credit_id': '52fe479ac3a36847f813eb07', 'id': 15776}, {'name': 'Marcia Ross', 'gender': 1, 'department': 'Production', 'job': 'Casting', 'credit_id': '52fe479ac3a36847f813eadd', 'id': 51557}, {'name': 'Peter Gabriel', 'gender': 2, 'department': 'Crew', 'job': 'Thanks', 'credit_id': '58c69f12c3a36841140159a5', 'id': 39624}, {'name': 'Christien Tinsley', 'gender': 0, 'department': 'Costume & Make-Up', 'job': 'Key Makeup Artist', 'credit_id': '58c6937f9251411d30016f5f', 'id': 61996}, {'name': 'Holly Dorff', 'gender': 0, 'department': 'Production', 'job': 'ADR Voice Casting', 'credit_id': '58c69acb9251411d19017f73', 'id': 64449}, {'name': 'Jim Morris', 'gender': 0, 'department': 'Production', 'job': 'Producer', 'credit_id': '52fe479ac3a36847f813eabf', 'id': 72752}, {'name': 'Lindsey Collins', 'gender': 0, 'department': 'Production', 'job': 'Producer', 'credit_id': '52fe479ac3a36847f813eab9', 'id': 72753}, {'name': 'Michael Chabon', 'gender': 2, 'department': 'Writing', 'job': 'Screenplay', 'credit_id': '52fe479ac3a36847f813eaaf', 'id': 67758}, {'name': 'Jan Foster', 'gender': 0, 'department': 'Production', 'job': 'Unit Production Manager', 'credit_id': '58c68a499251411d55016dd5', 'id': 91055}, {'name': 'John Skotchdopole', 'gender': 0, 'department': 'Camera', 'job': 'Camera Operator', 'credit_id': '58c699509251411d550177c7', 'id': 91912}, {'name': 'Chris Munro', 'gender': 2, 'department': 'Sound', 'job': 'Sound Mixer', 'credit_id': '58c6995cc3a368412001591e', 'id': 105780}, {'name': 'Peter Chiang', 'gender': 0, 'department': 'Visual Effects', 'job': 'Visual Effects Supervisor', 'credit_id': '58c6884e9251411d15016de7', 'id': 122274}, {'name': 'Mark Andrews', 'gender': 2, 'department': 'Writing', 'job': 'Screenplay', 'credit_id': '52fe479ac3a36847f813eaa9', 'id': 126638}, {'name': 'Jonathan Null', 'gender': 0, 'department': 'Sound', 'job': 'Supervising Sound Editor', 'credit_id': '58c68ed79251411d62016eb2', 'id': 138617}, {'name': 'Colin Jones', 'gender': 2, 'department': 'Production', 'job': 'Casting Associate', 'credit_id': '58c69c9a9251411d6201776e', 'id': 238120}, {'name': 'Ve Neill', 'gender': 1, 'department': 'Costume & Make-Up', 'job': 'Makeup Department Head', 'credit_id': '52fe479ac3a36847f813eb13', 'id': 406204}, {'name': 'Brittainy Roberts', 'gender': 1, 'department': 'Production', 'job': 'Casting Associate', 'credit_id': '58c69b249251411d0d018598', 'id': 528783}, {'name': 'Jeremy Turner', 'gender': 0, 'department': 'Costume & Make-Up', 'job': 'Assistant Costume Designer', 'credit_id': '58c698c9c3a36840b8017245', 'id': 967148}, {'name': 'Dean Wolcott', 'gender': 2, 'department': 'Art', 'job': 'Art Direction', 'credit_id': '58c691f5c3a36841200153f6', 'id': 969743}, {'name': 'Mark Harris', 'gender': 2, 'department': 'Art', 'job': 'Art Direction', 'credit_id': '58c69032c3a36841200152fe', 'id': 986687}, {'name': 'James Hambidge', 'gender': 0, 'department': 'Art', 'job': 'Supervising Art Director', 'credit_id': '570b9382c3a368779600816a', 'id': 1034754}, {'name': 'Lori Korngiebel', 'gender': 0, 'department': 'Crew', 'job': 'Post Production Supervisor', 'credit_id': '52fe479ac3a36847f813eb01', 'id': 1034755}, {'name': 'David Krentz', 'gender': 0, 'department': 'Art', 'job': 'Storyboard Designer', 'credit_id': '58c692ffc3a3684114015167', 'id': 1055222}, {'name': 'Chris Corbould', 'gender': 0, 'department': 'Visual Effects', 'job': 'Special Effects Supervisor', 'credit_id': '58c68e719251411d19017745', 'id': 1081073}, {'name': 'Colleen Kelsall', 'gender': 1, 'department': 'Costume & Make-Up', 'job': 'Assistant Costume Designer', 'credit_id': '58c698bec3a368411401553a', 'id': 1121742}, {'name': 'Bob Roath', 'gender': 0, 'department': 'Production', 'job': 'Associate Producer', 'credit_id': '58c68e2e9251411d47017e8a', 'id': 1123360}, {'name': 'Darrell L. Wight', 'gender': 0, 'department': 'Art', 'job': 'Set Designer', 'credit_id': '58c692629251411d620170a7', 'id': 1171098}, {'name': 'Bryan Andrews', 'gender': 0, 'department': 'Art', 'job': 'Storyboard Designer', 'credit_id': '58c692f9c3a36840b8016e22', 'id': 1218986}, {'name': 'Dennis Liddiard', 'gender': 0, 'department': 'Costume & Make-Up', 'job': 'Makeup Artist', 'credit_id': '58c6941f9251411d110174ca', 'id': 1316599}, {'name': 'Kevin Haney', 'gender': 0, 'department': 'Costume & Make-Up', 'job': 'Makeup Artist', 'credit_id': '58c6943a9251411d0d01804a', 'id': 1319490}, {'name': 'Josh Lusby', 'gender': 0, 'department': 'Art', 'job': 'Assistant Art Director', 'credit_id': '58c69244c3a368413b015a23', 'id': 1334782}, {'name': 'Jamie Wilkinson', 'gender': 0, 'department': 'Art', 'job': 'Property Master', 'credit_id': '58c69ccec3a36841280156f6', 'id': 1335553}, {'name': 'Roger Guyett', 'gender': 0, 'department': 'Crew', 'job': 'Thanks', 'credit_id': '58c69f219251411d190182a8', 'id': 1339450}, {'name': 'Denny Caira', 'gender': 0, 'department': 'Crew', 'job': 'Transportation Coordinator', 'credit_id': '58c69dc79251411d1901819d', 'id': 1357070}, {'name': 'Sue Rowe', 'gender': 0, 'department': 'Visual Effects', 'job': 'Visual Effects Supervisor', 'credit_id': '58c688709251411d3001684b', 'id': 1367497}, {'name': 'Toby Spigel', 'gender': 0, 'department': 'Production', 'job': 'Casting Assistant', 'credit_id': '58c69ca79251411d11017a77', 'id': 1374469}, {'name': 'Marshall Winn', 'gender': 0, 'department': 'Editing', 'job': 'Dialogue Editor', 'credit_id': '58c69aa59251411d11017919', 'id': 1376901}, {'name': 'Michael Semanick', 'gender': 0, 'department': 'Sound', 'job': 'Sound Re-Recording Mixer', 'credit_id': '58c68ee9c3a3684128014e36', 'id': 1378828}, {'name': 'Peter Dorme', 'gender': 0, 'department': 'Art', 'job': 'Assistant Art Director', 'credit_id': '58c692389251411d30016ea2', 'id': 1388850}, {'name': 'Perry Evans', 'gender': 0, 'department': 'Lighting', 'job': 'Gaffer', 'credit_id': '58c69cf49251411d4701890b', 'id': 1390367}, {'name': 'Annie Penn', 'gender': 0, 'department': 'Directing', 'job': 'Script Supervisor', 'credit_id': '58c699f4c3a368413b015f45', 'id': 1390388}, {'name': 'Tim Nielsen', 'gender': 0, 'department': 'Sound', 'job': 'Sound Designer', 'credit_id': '58c69a7ac3a368410c016254', 'id': 1394129}, {'name': 'Tim Nielsen', 'gender': 0, 'department': 'Sound', 'job': 'Supervising Sound Editor', 'credit_id': '58c68edec3a3684114014f16', 'id': 1394129}, {'name': 'Jenne Lee', 'gender': 0, 'department': 'Art', 'job': 'Art Department Coordinator', 'credit_id': '58c6928f9251411d55017337', 'id': 1395430}, {'name': 'Theodore Sharps', 'gender': 0, 'department': 'Art', 'job': 'Set Designer', 'credit_id': '58c6925b9251411d150174df', 'id': 1395435}, {'name': 'Joseph Hodges', 'gender': 0, 'department': 'Art', 'job': 'Art Direction', 'credit_id': '58c691c4c3a36840f6015583', 'id': 1397837}, {'name': 'Philippe Carr-Forster', 'gender': 0, 'department': 'Camera', 'job': 'Camera Operator', 'credit_id': '58c699489251411d300172de', 'id': 1399467}, {'name': 'Christopher Prampin', 'gender': 0, 'department': 'Lighting', 'job': 'Gaffer', 'credit_id': '58c69cfdc3a368413b016165', 'id': 1399475}, {'name': 'Colin Anderson', 'gender': 0, 'department': 'Camera', 'job': 'Camera Operator', 'credit_id': '58c69920c3a36841300154e2', 'id': 1400535}, {'name': 'Colin Anderson', 'gender': 0, 'department': 'Camera', 'job': 'Steadicam Operator', 'credit_id': '58c699259251411d620174e9', 'id': 1400535}, {'name': 'Jennifer Teves', 'gender': 0, 'department': 'Production', 'job': 'Production Supervisor', 'credit_id': '58c699ebc3a368411401561c', 'id': 1401784}, {'name': 'Kim Ayers', 'gender': 0, 'department': 'Costume & Make-Up', 'job': 'Key Makeup Artist', 'credit_id': '58c6935ec3a368413b015ae4', 'id': 1403388}, {'name': 'Daniel Barrow', 'gender': 0, 'department': 'Visual Effects', 'job': 'Visual Effects Producer', 'credit_id': '58c68e49c3a368413b0157eb', 'id': 1408379}, {'name': 'Debbi Salmon', 'gender': 0, 'department': 'Costume & Make-Up', 'job': 'Key Makeup Artist', 'credit_id': '58c6936fc3a368413b015aed', 'id': 1409757}, {'name': 'Paula Price', 'gender': 0, 'department': 'Costume & Make-Up', 'job': 'Key Makeup Artist', 'credit_id': '58c69339c3a36841200154c4', 'id': 1411320}, {'name': 'Frank Connor', 'gender': 0, 'department': 'Camera', 'job': 'Still Photographer', 'credit_id': '58c69dba9251411d0d018767', 'id': 1412205}, {'name': 'J.R. Grubbs', 'gender': 0, 'department': 'Sound', 'job': 'Sound Effects Editor', 'credit_id': '58c69a89c3a3684114015691', 'id': 1414177}, {'name': 'Deborah Rutherford', 'gender': 0, 'department': 'Costume & Make-Up', 'job': 'Makeup Artist', 'credit_id': '58c69452c3a36840f6015741', 'id': 1414539}, {'name': 'Don Rutherford', 'gender': 0, 'department': 'Costume & Make-Up', 'job': 'Makeup Artist', 'credit_id': '58c6946c9251411d15017617', 'id': 1414540}, {'name': 'Malcolm Fife', 'gender': 0, 'department': 'Sound', 'job': 'Sound Effects Editor', 'credit_id': '58c69a929251411d11017907', 'id': 1415464}, {'name': 'Toby Britton', 'gender': 0, 'department': 'Art', 'job': 'Assistant Art Director', 'credit_id': '58c6923e9251411d11017382', 'id': 1417396}, {'name': 'Kevin Alexander', 'gender': 0, 'department': 'Costume & Make-Up', 'job': 'Hair Designer', 'credit_id': '58c69866c3a368413001545d', 'id': 1418124}, {'name': 'Kristie Matthiae', 'gender': 0, 'department': 'Costume & Make-Up', 'job': 'Key Makeup Artist', 'credit_id': '58c693779251411d470181e4', 'id': 1421936}, {'name': 'Gerald Quist', 'gender': 0, 'department': 'Costume & Make-Up', 'job': 'Makeup Artist', 'credit_id': '58c694a99251411d15017646', 'id': 1424151}, {'name': 'Nuria Mbomio', 'gender': 0, 'department': 'Costume & Make-Up', 'job': 'Makeup Artist', 'credit_id': '58c693f39251411d110174a9', 'id': 1425411}, {'name': 'Eamonn Butler', 'gender': 0, 'department': 'Visual Effects', 'job': 'Animation Supervisor', 'credit_id': '58c68866c3a368413b015367', 'id': 1428901}, {'name': 'Laura Jennings', 'gender': 0, 'department': 'Crew', 'job': 'Visual Effects Editor', 'credit_id': '58c68ec89251411d11017191', 'id': 1428905}, {'name': 'Ailbhe Lemass', 'gender': 0, 'department': 'Costume & Make-Up', 'job': 'Makeup Artist', 'credit_id': '58c693919251411d0d017fde', 'id': 1428911}, {'name': 'Simon Finney', 'gender': 0, 'department': 'Camera', 'job': 'Camera Operator', 'credit_id': '58c6992f9251411d19017e49', 'id': 1430188}, {'name': 'Eryn Krueger Mekash', 'gender': 0, 'department': 'Costume & Make-Up', 'job': 'Makeup Artist', 'credit_id': '58c6948b9251411d15017628', 'id': 1441176}, {'name': 'Travis Witkowski', 'gender': 0, 'department': 'Art', 'job': 'Art Department Assistant', 'credit_id': '58c692ddc3a368413b015a8d', 'id': 1447571}, {'name': 'Mike Mekash', 'gender': 0, 'department': 'Costume & Make-Up', 'job': 'Makeup Artist', 'credit_id': '58c694809251411d15017622', 'id': 1458894}, {'name': 'Kirstin Chalmers', 'gender': 0, 'department': 'Costume & Make-Up', 'job': 'Makeup Artist', 'credit_id': '58c6940e9251411d19017aad', 'id': 1530220}, {'name': 'Kacie Seamons', 'gender': 0, 'department': 'Costume & Make-Up', 'job': 'Key Costumer', 'credit_id': '58c698e89251411d5501777a', 'id': 1532325}, {'name': 'Deborah Taylor', 'gender': 0, 'department': 'Costume & Make-Up', 'job': 'Makeup Artist', 'credit_id': '58c693b39251411d30016f78', 'id': 1536539}, {'name': 'Ryan Church', 'gender': 0, 'department': 'Crew', 'job': 'Visual Effects Art Director', 'credit_id': '58c68e84c3a36840f60153a1', 'id': 1546844}, {'name': 'Camille Henderson', 'gender': 0, 'department': 'Costume & Make-Up', 'job': 'Key Makeup Artist', 'credit_id': '58c693659251411d550173be', 'id': 1549655}, {'name': 'Tom Struthers', 'gender': 0, 'department': 'Crew', 'job': 'Stunt Coordinator', 'credit_id': '58c68fd29251411d30016d3f', 'id': 1550851}, {'name': 'Liam Georgensen', 'gender': 0, 'department': 'Art', 'job': 'Art Department Assistant', 'credit_id': '58c692bfc3a36840b8016df9', 'id': 1551810}, {'name': 'Lavinia Waters', 'gender': 0, 'department': 'Art', 'job': 'Art Department Coordinator', 'credit_id': '58c692869251411d30016ed9', 'id': 1561994}, {'name': 'Greg T. Moon', 'gender': 0, 'department': 'Costume & Make-Up', 'job': 'Makeup Artist', 'credit_id': '58c697f89251411d30017205', 'id': 1613336}, {'name': 'Richard Daldry', 'gender': 0, 'department': 'Production', 'job': 'Production Coordinator', 'credit_id': '58c69a07c3a36841200159ae', 'id': 1640350}, {'name': 'Stephen Finn', 'gender': 2, 'department': 'Sound', 'job': 'Boom Operator', 'credit_id': '58c69979c3a368413b015eef', 'id': 1658269}, {'name': 'Tom Castronovo', 'gender': 0, 'department': 'Art', 'job': 'Art Department Assistant', 'credit_id': '58c692e4c3a36840f601564a', 'id': 1661321}, {'name': 'Katherine McCormack', 'gender': 0, 'department': 'Crew', 'job': 'Unit Publicist', 'credit_id': '58c69dadc3a36841280157a4', 'id': 1686002}, {'name': 'Steve Harding', 'gender': 0, 'department': 'Production', 'job': 'Unit Production Manager', 'credit_id': '58c689439251411d15016ed6', 'id': 1697623}, {'name': 'Erik Jessen', 'gender': 0, 'department': 'Editing', 'job': 'Additional Editing', 'credit_id': '58c68ebdc3a3684128014e11', 'id': 1710258}, {'name': 'Tommy Gormley', 'gender': 0, 'department': 'Directing', 'job': 'First Assistant Director', 'credit_id': '58c689739251411d47017af1', 'id': 1750922}, {'name': 'Sarah Ginn', 'gender': 0, 'department': 'Art', 'job': 'Art Department Assistant', 'credit_id': '58c692c7c3a36841300150c2', 'id': 1761112}, {'name': 'Ben Dixon', 'gender': 0, 'department': 'Directing', 'job': 'Second Assistant Director', 'credit_id': '58c689aa9251411d55016d59', 'id': 1775681}, {'name': 'Andrew M. Ward', 'gender': 2, 'department': 'Directing', 'job': 'Second Assistant Director', 'credit_id': '58c68a859251411d1901746d', 'id': 1775682}, {'name': 'Stacey Newton', 'gender': 0, 'department': 'Art', 'job': 'Art Department Coordinator', 'credit_id': '58c692a4c3a368413b015a64', 'id': 1775687}, {'name': 'Rachel Corbould', 'gender': 0, 'department': 'Art', 'job': 'Art Department Assistant', 'credit_id': '58c692b6c3a368412001546d', 'id': 1775688}, {'name': 'Jake Hall', 'gender': 0, 'department': 'Art', 'job': 'Art Department Assistant', 'credit_id': '58c692d4c3a368413b015a88', 'id': 1775689}, {'name': 'Gemma Richards', 'gender': 0, 'department': 'Costume & Make-Up', 'job': 'Key Makeup Artist', 'credit_id': '58c693589251411d0d017fb3', 'id': 1775690}, {'name': 'Sara Riesel', 'gender': 0, 'department': 'Costume & Make-Up', 'job': 'Makeup Artist', 'credit_id': '58c693fe9251411d55017423', 'id': 1775691}, {'name': 'Paul Boyce', 'gender': 0, 'department': 'Costume & Make-Up', 'job': 'Makeup Artist', 'credit_id': '58c69407c3a368413b015b42', 'id': 1775692}, {'name': 'Mandy Gold', 'gender': 0, 'department': 'Costume & Make-Up', 'job': 'Makeup Artist', 'credit_id': '58c694189251411d19017ab6', 'id': 1775693}, {'name': 'Candice Banks', 'gender': 0, 'department': 'Costume & Make-Up', 'job': 'Hairstylist', 'credit_id': '58c698989251411d0d01836e', 'id': 1775701}, {'name': 'Gary Machin', 'gender': 0, 'department': 'Costume & Make-Up', 'job': 'Hairstylist', 'credit_id': '58c698a59251411d19017de5', 'id': 1775702}, {'name': 'Noel Espinosa', 'gender': 0, 'department': 'Sound', 'job': 'Boom Operator', 'credit_id': '58c69994c3a36840b80172dd', 'id': 1775704}, {'name': 'Meredith Humbracht', 'gender': 0, 'department': 'Production', 'job': 'Production Coordinator', 'credit_id': '58c69a309251411d110178c9', 'id': 1775707}, {'name': 'Gary Hymns', 'gender': 0, 'department': 'Camera', 'job': 'Key Grip', 'credit_id': '58c69d39c3a368410c0163fd', 'id': 1775718}, {'name': 'Thomas Gibson', 'gender': 0, 'department': 'Camera', 'job': 'Key Grip', 'credit_id': '58c69da6c3a368413b01620f', 'id': 1775721}, {'name': 'Danton Burroughs', 'gender': 0, 'department': 'Crew', 'job': 'Thanks', 'credit_id': '58c69ec49251411d55017be6', 'id': 1775723}, {'name': 'Karin Silvestri', 'gender': 1, 'department': 'Crew', 'job': 'Stunts', 'credit_id': '591264bac3a368646b04fda5', 'id': 1813644}]\n",
      "director: Andrew Stanton' metadata={'source': 'movies.csv', 'row': 4}\n",
      "\n"
     ]
    }
   ],
   "source": [
    "from langchain.document_loaders import CSVLoader\n",
    "\n",
    "loader = CSVLoader(file_path=\"movies.csv\", encoding=\"utf-8\")\n",
    "\n",
    "documents = loader.load()\n",
    "\n",
    "\n",
    "for doc in documents[:5]:\n",
    "    print(doc)\n",
    "    print()\n"
   ]
  },
  {
   "cell_type": "markdown",
   "id": "25fb5689-66da-45ac-bc18-34939c89b6f7",
   "metadata": {},
   "source": [
    "## Unstructed URL Loader"
   ]
  },
  {
   "cell_type": "code",
   "execution_count": 21,
   "id": "5b189477-6b8f-4d12-af1c-91a0a9d9e19b",
   "metadata": {},
   "outputs": [
    {
     "name": "stdout",
     "output_type": "stream",
     "text": [
      "Collecting unstructured\n",
      "  Using cached unstructured-0.17.2-py3-none-any.whl.metadata (24 kB)\n",
      "Collecting libmagic\n",
      "  Using cached libmagic-1.0.tar.gz (3.7 kB)\n",
      "  Preparing metadata (setup.py): started\n",
      "  Preparing metadata (setup.py): finished with status 'done'\n",
      "Collecting python-magic\n",
      "  Using cached python_magic-0.4.27-py2.py3-none-any.whl.metadata (5.8 kB)\n",
      "Collecting python-magic-bin\n",
      "  Downloading python_magic_bin-0.4.14-py2.py3-none-win_amd64.whl.metadata (710 bytes)\n",
      "Requirement already satisfied: chardet in c:\\users\\gupta\\anaconda3\\lib\\site-packages (from unstructured) (4.0.0)\n",
      "Requirement already satisfied: filetype in c:\\users\\gupta\\anaconda3\\lib\\site-packages (from unstructured) (1.2.0)\n",
      "Requirement already satisfied: lxml in c:\\users\\gupta\\anaconda3\\lib\\site-packages (from unstructured) (4.9.3)\n",
      "Requirement already satisfied: nltk in c:\\users\\gupta\\anaconda3\\lib\\site-packages (from unstructured) (3.8.1)\n",
      "Requirement already satisfied: requests in c:\\users\\gupta\\anaconda3\\lib\\site-packages (from unstructured) (2.31.0)\n",
      "Requirement already satisfied: beautifulsoup4 in c:\\users\\gupta\\anaconda3\\lib\\site-packages (from unstructured) (4.12.2)\n",
      "Collecting emoji (from unstructured)\n",
      "  Downloading emoji-2.14.1-py3-none-any.whl.metadata (5.7 kB)\n",
      "Requirement already satisfied: dataclasses-json in c:\\users\\gupta\\anaconda3\\lib\\site-packages (from unstructured) (0.6.7)\n",
      "Collecting python-iso639 (from unstructured)\n",
      "  Downloading python_iso639-2025.2.18-py3-none-any.whl.metadata (14 kB)\n",
      "Collecting langdetect (from unstructured)\n",
      "  Downloading langdetect-1.0.9.tar.gz (981 kB)\n",
      "     ---------------------------------------- 0.0/981.5 kB ? eta -:--:--\n",
      "     --------- ---------------------------- 256.0/981.5 kB 5.2 MB/s eta 0:00:01\n",
      "     -------------------------- ----------- 675.8/981.5 kB 8.5 MB/s eta 0:00:01\n",
      "     --------------------------------- ---- 860.2/981.5 kB 6.8 MB/s eta 0:00:01\n",
      "     -------------------------------------- 981.5/981.5 kB 5.6 MB/s eta 0:00:00\n",
      "  Preparing metadata (setup.py): started\n",
      "  Preparing metadata (setup.py): finished with status 'done'\n",
      "Requirement already satisfied: numpy in c:\\users\\gupta\\anaconda3\\lib\\site-packages (from unstructured) (1.26.4)\n",
      "Collecting rapidfuzz (from unstructured)\n",
      "  Downloading rapidfuzz-3.12.2-cp311-cp311-win_amd64.whl.metadata (12 kB)\n",
      "Collecting backoff (from unstructured)\n",
      "  Downloading backoff-2.2.1-py3-none-any.whl.metadata (14 kB)\n",
      "Requirement already satisfied: typing-extensions in c:\\users\\gupta\\anaconda3\\lib\\site-packages (from unstructured) (4.12.2)\n",
      "Collecting unstructured-client (from unstructured)\n",
      "  Downloading unstructured_client-0.32.1-py3-none-any.whl.metadata (22 kB)\n",
      "Requirement already satisfied: wrapt in c:\\users\\gupta\\anaconda3\\lib\\site-packages (from unstructured) (1.14.1)\n",
      "Requirement already satisfied: tqdm in c:\\users\\gupta\\anaconda3\\lib\\site-packages (from unstructured) (4.65.0)\n",
      "Requirement already satisfied: psutil in c:\\users\\gupta\\anaconda3\\lib\\site-packages (from unstructured) (5.9.0)\n",
      "Collecting python-oxmsg (from unstructured)\n",
      "  Downloading python_oxmsg-0.0.2-py3-none-any.whl.metadata (5.0 kB)\n",
      "Collecting html5lib (from unstructured)\n",
      "  Downloading html5lib-1.1-py2.py3-none-any.whl.metadata (16 kB)\n",
      "Requirement already satisfied: soupsieve>1.2 in c:\\users\\gupta\\anaconda3\\lib\\site-packages (from beautifulsoup4->unstructured) (2.5)\n",
      "Requirement already satisfied: marshmallow<4.0.0,>=3.18.0 in c:\\users\\gupta\\anaconda3\\lib\\site-packages (from dataclasses-json->unstructured) (3.26.1)\n",
      "Requirement already satisfied: typing-inspect<1,>=0.4.0 in c:\\users\\gupta\\anaconda3\\lib\\site-packages (from dataclasses-json->unstructured) (0.9.0)\n",
      "Requirement already satisfied: six>=1.9 in c:\\users\\gupta\\anaconda3\\lib\\site-packages (from html5lib->unstructured) (1.16.0)\n",
      "Requirement already satisfied: webencodings in c:\\users\\gupta\\anaconda3\\lib\\site-packages (from html5lib->unstructured) (0.5.1)\n",
      "Requirement already satisfied: click in c:\\users\\gupta\\anaconda3\\lib\\site-packages (from nltk->unstructured) (8.1.7)\n",
      "Requirement already satisfied: joblib in c:\\users\\gupta\\anaconda3\\lib\\site-packages (from nltk->unstructured) (1.2.0)\n",
      "Requirement already satisfied: regex>=2021.8.3 in c:\\users\\gupta\\anaconda3\\lib\\site-packages (from nltk->unstructured) (2023.10.3)\n",
      "Collecting olefile (from python-oxmsg->unstructured)\n",
      "  Downloading olefile-0.47-py2.py3-none-any.whl.metadata (9.7 kB)\n",
      "Requirement already satisfied: charset-normalizer<4,>=2 in c:\\users\\gupta\\anaconda3\\lib\\site-packages (from requests->unstructured) (2.0.4)\n",
      "Requirement already satisfied: idna<4,>=2.5 in c:\\users\\gupta\\anaconda3\\lib\\site-packages (from requests->unstructured) (3.4)\n",
      "Requirement already satisfied: urllib3<3,>=1.21.1 in c:\\users\\gupta\\anaconda3\\lib\\site-packages (from requests->unstructured) (2.0.7)\n",
      "Requirement already satisfied: certifi>=2017.4.17 in c:\\users\\gupta\\anaconda3\\lib\\site-packages (from requests->unstructured) (2025.1.31)\n",
      "Requirement already satisfied: colorama in c:\\users\\gupta\\anaconda3\\lib\\site-packages (from tqdm->unstructured) (0.4.6)\n",
      "Collecting aiofiles>=24.1.0 (from unstructured-client->unstructured)\n",
      "  Downloading aiofiles-24.1.0-py3-none-any.whl.metadata (10 kB)\n",
      "Requirement already satisfied: cryptography>=3.1 in c:\\users\\gupta\\anaconda3\\lib\\site-packages (from unstructured-client->unstructured) (42.0.2)\n",
      "Collecting eval-type-backport>=0.2.0 (from unstructured-client->unstructured)\n",
      "  Downloading eval_type_backport-0.2.2-py3-none-any.whl.metadata (2.2 kB)\n",
      "Requirement already satisfied: httpx>=0.27.0 in c:\\users\\gupta\\anaconda3\\lib\\site-packages (from unstructured-client->unstructured) (0.27.0)\n",
      "Requirement already satisfied: nest-asyncio>=1.6.0 in c:\\users\\gupta\\anaconda3\\lib\\site-packages (from unstructured-client->unstructured) (1.6.0)\n",
      "Requirement already satisfied: pydantic>=2.10.3 in c:\\users\\gupta\\anaconda3\\lib\\site-packages (from unstructured-client->unstructured) (2.10.3)\n",
      "Collecting pypdf>=4.0 (from unstructured-client->unstructured)\n",
      "  Downloading pypdf-5.4.0-py3-none-any.whl.metadata (7.3 kB)\n",
      "Requirement already satisfied: python-dateutil>=2.8.2 in c:\\users\\gupta\\anaconda3\\lib\\site-packages (from unstructured-client->unstructured) (2.8.2)\n",
      "Requirement already satisfied: requests-toolbelt>=1.0.0 in c:\\users\\gupta\\anaconda3\\lib\\site-packages (from unstructured-client->unstructured) (1.0.0)\n",
      "Collecting typing-inspection>=0.4.0 (from unstructured-client->unstructured)\n",
      "  Downloading typing_inspection-0.4.0-py3-none-any.whl.metadata (2.6 kB)\n",
      "Requirement already satisfied: cffi>=1.12 in c:\\users\\gupta\\anaconda3\\lib\\site-packages (from cryptography>=3.1->unstructured-client->unstructured) (1.16.0)\n",
      "Requirement already satisfied: anyio in c:\\users\\gupta\\anaconda3\\lib\\site-packages (from httpx>=0.27.0->unstructured-client->unstructured) (4.2.0)\n",
      "Requirement already satisfied: httpcore==1.* in c:\\users\\gupta\\anaconda3\\lib\\site-packages (from httpx>=0.27.0->unstructured-client->unstructured) (1.0.2)\n",
      "Requirement already satisfied: sniffio in c:\\users\\gupta\\anaconda3\\lib\\site-packages (from httpx>=0.27.0->unstructured-client->unstructured) (1.3.0)\n",
      "Requirement already satisfied: h11<0.15,>=0.13 in c:\\users\\gupta\\anaconda3\\lib\\site-packages (from httpcore==1.*->httpx>=0.27.0->unstructured-client->unstructured) (0.14.0)\n",
      "Requirement already satisfied: packaging>=17.0 in c:\\users\\gupta\\anaconda3\\lib\\site-packages (from marshmallow<4.0.0,>=3.18.0->dataclasses-json->unstructured) (24.2)\n",
      "Requirement already satisfied: annotated-types>=0.6.0 in c:\\users\\gupta\\anaconda3\\lib\\site-packages (from pydantic>=2.10.3->unstructured-client->unstructured) (0.6.0)\n",
      "Requirement already satisfied: pydantic-core==2.27.1 in c:\\users\\gupta\\anaconda3\\lib\\site-packages (from pydantic>=2.10.3->unstructured-client->unstructured) (2.27.1)\n",
      "Requirement already satisfied: mypy-extensions>=0.3.0 in c:\\users\\gupta\\anaconda3\\lib\\site-packages (from typing-inspect<1,>=0.4.0->dataclasses-json->unstructured) (1.0.0)\n",
      "Requirement already satisfied: pycparser in c:\\users\\gupta\\anaconda3\\lib\\site-packages (from cffi>=1.12->cryptography>=3.1->unstructured-client->unstructured) (2.21)\n",
      "Downloading unstructured-0.17.2-py3-none-any.whl (1.8 MB)\n",
      "   ---------------------------------------- 0.0/1.8 MB ? eta -:--:--\n",
      "   ------------ --------------------------- 0.6/1.8 MB 11.5 MB/s eta 0:00:01\n",
      "   ---------------- ----------------------- 0.7/1.8 MB 7.7 MB/s eta 0:00:01\n",
      "   ------------------- -------------------- 0.9/1.8 MB 6.8 MB/s eta 0:00:01\n",
      "   ------------------- -------------------- 0.9/1.8 MB 6.8 MB/s eta 0:00:01\n",
      "   ------------------- -------------------- 0.9/1.8 MB 6.8 MB/s eta 0:00:01\n",
      "   -------------------------------- ------- 1.4/1.8 MB 5.1 MB/s eta 0:00:01\n",
      "   ------------------------------------ --- 1.6/1.8 MB 5.1 MB/s eta 0:00:01\n",
      "   ------------------------------------- -- 1.7/1.8 MB 5.1 MB/s eta 0:00:01\n",
      "   ---------------------------------------- 1.8/1.8 MB 4.5 MB/s eta 0:00:00\n",
      "Downloading python_magic-0.4.27-py2.py3-none-any.whl (13 kB)\n",
      "Downloading python_magic_bin-0.4.14-py2.py3-none-win_amd64.whl (409 kB)\n",
      "   ---------------------------------------- 0.0/409.3 kB ? eta -:--:--\n",
      "   --------------------------------------- 409.3/409.3 kB 12.9 MB/s eta 0:00:00\n",
      "Downloading backoff-2.2.1-py3-none-any.whl (15 kB)\n",
      "Downloading emoji-2.14.1-py3-none-any.whl (590 kB)\n",
      "   ---------------------------------------- 0.0/590.6 kB ? eta -:--:--\n",
      "   ------------------------ --------------- 368.6/590.6 kB 7.6 MB/s eta 0:00:01\n",
      "   ------------------------------------- -- 553.0/590.6 kB 5.8 MB/s eta 0:00:01\n",
      "   ---------------------------------------- 590.6/590.6 kB 5.3 MB/s eta 0:00:00\n",
      "Downloading html5lib-1.1-py2.py3-none-any.whl (112 kB)\n",
      "   ---------------------------------------- 0.0/112.2 kB ? eta -:--:--\n",
      "   ---------------------------------------- 112.2/112.2 kB 6.4 MB/s eta 0:00:00\n",
      "Downloading python_iso639-2025.2.18-py3-none-any.whl (167 kB)\n",
      "   ---------------------------------------- 0.0/167.6 kB ? eta -:--:--\n",
      "   ---------------------------------------- 167.6/167.6 kB 9.8 MB/s eta 0:00:00\n",
      "Downloading python_oxmsg-0.0.2-py3-none-any.whl (31 kB)\n",
      "Downloading rapidfuzz-3.12.2-cp311-cp311-win_amd64.whl (1.6 MB)\n",
      "   ---------------------------------------- 0.0/1.6 MB ? eta -:--:--\n",
      "   ------- -------------------------------- 0.3/1.6 MB 6.3 MB/s eta 0:00:01\n",
      "   ----------- ---------------------------- 0.5/1.6 MB 5.0 MB/s eta 0:00:01\n",
      "   ------------- -------------------------- 0.6/1.6 MB 5.1 MB/s eta 0:00:01\n",
      "   ------------- -------------------------- 0.6/1.6 MB 5.1 MB/s eta 0:00:01\n",
      "   -------------- ------------------------- 0.6/1.6 MB 2.5 MB/s eta 0:00:01\n",
      "   ----------------------------- ---------- 1.2/1.6 MB 4.3 MB/s eta 0:00:01\n",
      "   --------------------------------- ------ 1.4/1.6 MB 4.2 MB/s eta 0:00:01\n",
      "   ------------------------------------- -- 1.5/1.6 MB 4.1 MB/s eta 0:00:01\n",
      "   ---------------------------------------- 1.6/1.6 MB 4.0 MB/s eta 0:00:00\n",
      "Downloading unstructured_client-0.32.1-py3-none-any.whl (180 kB)\n",
      "   ---------------------------------------- 0.0/180.5 kB ? eta -:--:--\n",
      "   --------------------------------------- 180.5/180.5 kB 10.6 MB/s eta 0:00:00\n",
      "Downloading aiofiles-24.1.0-py3-none-any.whl (15 kB)\n",
      "Downloading eval_type_backport-0.2.2-py3-none-any.whl (5.8 kB)\n",
      "Downloading pypdf-5.4.0-py3-none-any.whl (302 kB)\n",
      "   ---------------------------------------- 0.0/302.3 kB ? eta -:--:--\n",
      "   ---------------------------------------  297.0/302.3 kB 9.2 MB/s eta 0:00:01\n",
      "   ---------------------------------------  297.0/302.3 kB 9.2 MB/s eta 0:00:01\n",
      "   ---------------------------------------- 302.3/302.3 kB 2.7 MB/s eta 0:00:00\n",
      "Downloading typing_inspection-0.4.0-py3-none-any.whl (14 kB)\n",
      "Downloading olefile-0.47-py2.py3-none-any.whl (114 kB)\n",
      "   ---------------------------------------- 0.0/114.6 kB ? eta -:--:--\n",
      "   ---------------------------------------- 114.6/114.6 kB 7.0 MB/s eta 0:00:00\n",
      "Building wheels for collected packages: libmagic, langdetect\n",
      "  Building wheel for libmagic (setup.py): started\n",
      "  Building wheel for libmagic (setup.py): finished with status 'done'\n",
      "  Created wheel for libmagic: filename=libmagic-1.0-py3-none-any.whl size=4279 sha256=394cde26f72db50c07d9fe80a069ede211992f49500b26d89d977d3aa4317ee8\n",
      "  Stored in directory: c:\\users\\gupta\\appdata\\local\\pip\\cache\\wheels\\3e\\35\\13\\53c696ff5f3523479505ec5ed4156198671fb598fe678178bf\n",
      "  Building wheel for langdetect (setup.py): started\n",
      "  Building wheel for langdetect (setup.py): finished with status 'done'\n",
      "  Created wheel for langdetect: filename=langdetect-1.0.9-py3-none-any.whl size=993253 sha256=40e95e6112a9b001459f608729dcdd42230f09ece5c842426b3d1e00fcd1e13b\n",
      "  Stored in directory: c:\\users\\gupta\\appdata\\local\\pip\\cache\\wheels\\0a\\f2\\b2\\e5ca405801e05eb7c8ed5b3b4bcf1fcabcd6272c167640072e\n",
      "Successfully built libmagic langdetect\n",
      "Installing collected packages: python-magic-bin, libmagic, typing-inspection, rapidfuzz, python-magic, python-iso639, pypdf, olefile, langdetect, html5lib, eval-type-backport, emoji, backoff, aiofiles, python-oxmsg, unstructured-client, unstructured\n",
      "Successfully installed aiofiles-24.1.0 backoff-2.2.1 emoji-2.14.1 eval-type-backport-0.2.2 html5lib-1.1 langdetect-1.0.9 libmagic-1.0 olefile-0.47 pypdf-5.4.0 python-iso639-2025.2.18 python-magic-0.4.27 python-magic-bin-0.4.14 python-oxmsg-0.0.2 rapidfuzz-3.12.2 typing-inspection-0.4.0 unstructured-0.17.2 unstructured-client-0.32.1\n"
     ]
    }
   ],
   "source": [
    "! pip install unstructured libmagic python-magic python-magic-bin"
   ]
  },
  {
   "cell_type": "code",
   "execution_count": 27,
   "id": "f69eecb8-0f20-423c-9941-3ba9b98a4260",
   "metadata": {},
   "outputs": [
    {
     "name": "stderr",
     "output_type": "stream",
     "text": [
      "[nltk_data] Downloading package averaged_perceptron_tagger to\n",
      "[nltk_data]     C:\\Users\\gupta\\AppData\\Roaming\\nltk_data...\n",
      "[nltk_data]   Unzipping taggers\\averaged_perceptron_tagger.zip.\n"
     ]
    },
    {
     "data": {
      "text/plain": [
       "True"
      ]
     },
     "execution_count": 27,
     "metadata": {},
     "output_type": "execute_result"
    }
   ],
   "source": [
    "import nltk\n",
    "nltk.download('averaged_perceptron_tagger')\n",
    "\n"
   ]
  },
  {
   "cell_type": "code",
   "execution_count": 28,
   "id": "d176e39b-3482-42bc-911a-441871233a9b",
   "metadata": {},
   "outputs": [],
   "source": [
    "from langchain.document_loaders import UnstructuredURLLoader\n",
    "\n",
    "loader = UnstructuredURLLoader(\n",
    "    urls = [\n",
    "         \"https://www.moneycontrol.com/editors-picks/#google_vignette\",\n",
    "        \"https://www.moneycontrol.com/sports/cricket/ipl/\"\n",
    "    ]\n",
    ")\n",
    "  "
   ]
  },
  {
   "cell_type": "code",
   "execution_count": 29,
   "id": "949e844c-3432-42e3-b137-17b1ec0fe82e",
   "metadata": {},
   "outputs": [],
   "source": [
    "data = loader.load()"
   ]
  },
  {
   "cell_type": "code",
   "execution_count": 32,
   "id": "ff599ea1-a838-4363-8745-7766dc4277c8",
   "metadata": {},
   "outputs": [
    {
     "data": {
      "text/plain": [
       "Document(metadata={'source': 'https://www.moneycontrol.com/editors-picks/#google_vignette'}, page_content=\"English\\n\\nHindi\\n\\nGujarati\\n\\nSpecials\\n\\nHello, Login\\n\\nHello, Login\\n\\nLog-inor Sign-Up\\n\\nMy Account\\n\\nMy Profile\\n\\nMy Portfolio\\n\\nMy Watchlist\\n\\nMy Alerts\\n\\nMy Messages\\n\\nPrice Alerts\\n\\nMy Profile\\n\\nMy PRO\\n\\nMy Portfolio\\n\\nMy Watchlist\\n\\nMy Alerts\\n\\nMy Messages\\n\\nPrice Alerts\\n\\nLogout\\n\\nLoans up to ₹50 LAKHS\\n\\nFixed Deposits\\n\\nCredit CardsLifetime Free\\n\\nCredit Score\\n\\nChat with Us\\n\\nDownload App\\n\\nFollow us on:\\n\\nNetwork 18\\n\\nGo Ad-Free\\n\\nMy Alerts\\n\\n>->Moneycontrol/MC_News/MC_News_Internal_728x90|~|Moneycontrol/MC_News/MC_News_Internal_300x600_4|~|Moneycontrol/MC_ROS/MC_ROS_Slider_2x2|~|Moneycontrol/MC_News/MC_News_Internal_728x90_3|~|Moneycontrol/MC_News/MC_News_Internal_Native_RHS_320x100|~|Moneycontrol_Mobile_WAP/MC_WAP_News/MC_WAP_News_Internal_300x250_Middle_5|~|Moneycontrol_Mobile_WAP/MC_WAP_ROS/MC_WAP_ROS_Audio_1x1|~|Moneycontrol_Mobile_WAP/MC_WAP_News/MC_WAP_News_Internal_Masthead_300x250|~|MC_ENG_DESKTOP/MC_ENG_EDITORS/MC_ENG_EDITOR_AL/MC_ENG_ROS_EDIT_AL_ATF_728\\n\\nMoneycontrol\\n\\nGo PRO@₹1/dayPRO\\n\\nMoneycontrol PRO\\n\\nAdvertisement\\n\\nRemove Ad\\n\\nHomeEditors picks\\n\\n\\n\\n\\n\\nEditor’s Picks\\n\\nNewsletter\\n\\nSubscribe to our newsletter to find the best of Moneycontrol in one place, specially curated for you every evening.\\n\\nSubscribe\\n\\nDelhi most hardworking city, Haryana most leisurely: Stats ministry data\\n\\nDelhi most hardworking city, Haryana most leisurely: Stats ministry data\\n\\nAn average Indian spent more time on culture, leisure, mass media in 2024 than five years ago; some areas like Delhi have less leisure time.\\n\\nAdvertisement\\n\\nRemove Ad\\n\\nYet another MNC listing! Apollo Global picks 4 bankers, kicks off Tenneco's India IPO eyeing up to $2.5-bn valuation\\n\\nYet another MNC listing! Apollo Global picks 4 bankers, kicks off Tenneco's India IPO eyeing up to $2.5-bn valuation\\n\\nFlipkart’s super.money looking to raise $60-100 million at unicorn valuation\\n\\nFlipkart’s super.money looking to raise $60-100 million at unicorn valuation\\n\\nIndia’s PMS managers brace for Trump tariffs—here’s where they’re investing\\n\\nIndia’s PMS managers brace for Trump tariffs—here’s where they’re investing\\n\\nVenkat Jasti’s billion-dollar gamble: Can Suven Life crack the CNS drug puzzle?\\n\\nVenkat Jasti’s billion-dollar gamble: Can Suven Life crack the CNS drug puzzle?\\n\\nAdvertisement\\n\\nRemove Ad\\n\\nNearly half of last year's IPOs below issue price as market correction wipes out gains\\n\\nNearly half of last year's IPOs below issue price as market correction wipes out gains\\n\\nHow America plans to rewire the global economy—and who will pay the price\\n\\nHow America plans to rewire the global economy—and who will pay the price\\n\\nTrump tariffs won’t impact India, barring some sectors and stocks, says Prashant Jain\\n\\nTrump tariffs won’t impact India, barring some sectors and stocks, says Prashant Jain\\n\\nWhy Malta’s Golden Visa is gaining traction as a gateway to Europe\\n\\nWhy Malta’s Golden Visa is gaining traction as a gateway to Europe\\n\\nRBI blocks $3.3B deal, Zomato cuts 600 jobs, car prices rise & Trump’s 2030 hint| MC Editor's Picks\\n\\nRBI blocks $3.3B deal, Zomato cuts 600 jobs, car prices rise & Trump’s 2030 hint| MC Editor's Picks\\n\\nFrom Maruti to Mahindra, cars get costlier from April 1: Details of price hike and dealer discounts\\n\\nFrom Maruti to Mahindra, cars get costlier from April 1: Details of price hike and dealer discounts\\n\\nIndia's economy ends financial year on strong note: Check how top metrics performed\\n\\nIndia's economy ends financial year on strong note: Check how top metrics performed\\n\\nWhat international visitors should know about entering the US under Trump’s border crackdown\\n\\nWhat international visitors should know about entering the US under Trump’s border crackdown\\n\\nAdvertisement\\n\\nRemove Ad\\n\\n$500 billion wealth hit will outweigh benefits from tax breaks, curbing consumption: Prashant Jain\\n\\n$500 billion wealth hit will outweigh benefits from tax breaks, curbing consumption: Prashant Jain\\n\\nSP Group hits a speed bump on Asia’s largest private credit deal\\n\\nSP Group hits a speed bump on Asia’s largest private credit deal\\n\\nZomato lets go of 600 customer support employees amid food delivery slowdown, automation push\\n\\nZomato lets go of 600 customer support employees amid food delivery slowdown, automation push\\n\\nSeven in 10 mid- and small-cap stocks overvalued; pace of rapid fall over, says Prashant Jain\\n\\nSeven in 10 mid- and small-cap stocks overvalued; pace of rapid fall over, says Prashant Jain\\n\\nIce cream maker Vadilal's shares surge 13% as promoter family settles tussle, recasts board to separate ownership\\n\\nIce cream maker Vadilal's shares surge 13% as promoter family settles tussle, recasts board to separate ownership\\n\\nMarket correction pushes 20 BSE-listed firms out of Rs 1 lakh crore club\\n\\nMarket correction pushes 20 BSE-listed firms out of Rs 1 lakh crore club\\n\\nTrump fuels third-term speculation: A look at legal hurdles and what experts\\xa0have\\xa0to\\xa0say\\n\\nTrump fuels third-term speculation: A look at legal hurdles and what experts have to say\\n\\nPromoters of ice-cream maker Vadilal Industries settle spat; to rejig firm's management\\n\\nPromoters of ice-cream maker Vadilal Industries settle spat; to rejig firm's management\\n\\nAdvertisement\\n\\nRemove Ad\\n\\nIFSC GIFT City sees aircraft and engine leasing rise 31% on year in 2024, better times may be ahead\\n\\nIFSC GIFT City sees aircraft and engine leasing rise 31% on year in 2024, better times may be ahead\\n\\nMC Poll| RBI likely to cut repo rate by 25 bps in April policy\\n\\nMC Poll| RBI likely to cut repo rate by 25 bps in April policy\\n\\nIndusInd Bank issue is of internal compliance lapse; not indicative of systemic risk to the sector: Govt official\\n\\nIndusInd Bank issue is of internal compliance lapse; not indicative of systemic risk to the sector: Govt official\\n\\nWill Salman Khan's Sikandar boost box-office sales or will it be another dull Eid?\\n\\nWill Salman Khan's Sikandar boost box-office sales or will it be another dull Eid?\\n\\nHere's why smartphone exports may weather the Trump tariff storm\\n\\nHere's why smartphone exports may weather the Trump tariff storm\\n\\nTrump’s April 2 ‘massive tariffs’ loom, key stocks to watch\\n\\nTrump’s April 2 ‘massive tariffs’ loom, key stocks to watch\\n\\nChart of the Day: Sectors most at risk from Trump's reciprocal tariffs on India\\n\\nChart of the Day: Sectors most at risk from Trump's reciprocal tariffs on India\\n\\nFIIs turn net buyers of equities in March, first time since December\\n\\nFIIs turn net buyers of equities in March, first time since December\\n\\nRope in a private banker: RBI may have told IndusInd Bank board on CEO replacement\\n\\nRope in a private banker: RBI may have told IndusInd Bank board on CEO replacement\\n\\nPwC’s initial findings in IndusInd Bank might have necessitated forensic audit\\n\\nPwC’s initial findings in IndusInd Bank might have necessitated forensic audit\\n\\nIndian firms race to forge China ties ahead of Rs 25,000 crore electronics component incentive scheme rollout\\n\\nIndian firms race to forge China ties ahead of Rs 25,000 crore electronics component incentive scheme rollout\\n\\nGovernment expects minimal impact of Trump's reciprocal tariffs, higher auto, steel levies\\n\\nGovernment expects minimal impact of Trump's reciprocal tariffs, higher auto, steel levies\\n\\nTrump's 25% auto tariff: Will Indian carmakers, ancillary companies face a speed bump? Tata Motors likely to bear maximum impact\\n\\nTrump's 25% auto tariff: Will Indian carmakers, ancillary companies face a speed bump? Tata Motors likely to bear maximum impact\\n\\nUnicorn alert! B2B startup Jumbotail nears $120 million funding round at $1 billion valuation\\n\\nUnicorn alert! B2B startup Jumbotail nears $120 million funding round at $1 billion valuation\\n\\nTrump's Auto Tariffs: These Indian companies will feel the heat. Should you avoid them?\\n\\nTrump's Auto Tariffs: These Indian companies will feel the heat. Should you avoid them?\\n\\nIndia shines on foreign investors' radar this week with $1.4 billion of inflow, highest across Asian markets\\n\\nIndia shines on foreign investors' radar this week with $1.4 billion of inflow, highest across Asian markets\\n\\nInfosys terminates more trainees from Mysuru campus; offers alternative career path\\n\\nInfosys terminates more trainees from Mysuru campus; offers alternative career path\\n\\nKunal Kamra row: From vandalism to show cancellations, comedy venues caught in the crossfire\\n\\nKunal Kamra row: From vandalism to show cancellations, comedy venues caught in the crossfire\\n\\nKKR launches block deal worth around $200 mn in JB Chemicals with upsize option\\n\\nKKR launches block deal worth around $200 mn in JB Chemicals with upsize option\\n\\nFPIs double down on debt - Rs 40,000 crore and counting\\n\\nFPIs double down on debt - Rs 40,000 crore and counting\\n\\nIndia would need over 1,600 parliamentarians if size of a constituency is limited to 1 million people: MC Analysis\\n\\nIndia would need over 1,600 parliamentarians if size of a constituency is limited to 1 million people: MC Analysis\\n\\nBig relief for brokers in works; SEBI working on 'one event, one penalty' mechanism\\n\\nBig relief for brokers in works; SEBI working on 'one event, one penalty' mechanism\\n\\nForgotten bluechips will be the next big winners: Nippon India’s Sailesh Raj Bhan\\n\\nForgotten bluechips will be the next big winners: Nippon India’s Sailesh Raj Bhan\\n\\nZerodha has no plans to go public, does not require additional capital: Nithin Kamath\\n\\nZerodha has no plans to go public, does not require additional capital: Nithin Kamath\\n\\nIndia’s largest small-cap fund manager says mid- and small-caps still overvalued, will continue\\xa0to\\xa0correct\\n\\nIndia’s largest small-cap fund manager says mid- and small-caps still overvalued, will continue to correct\\n\\nOverseas investments by Indian firms grow 40% in FY25 to $36 billion amid Trump tariff storm\\n\\nOverseas investments by Indian firms grow 40% in FY25 to $36 billion amid Trump tariff storm\\n\\nMarch records sharpest retail sell-off since Dec 2023; net selling at Rs 10,500 crore\\n\\nMarch records sharpest retail sell-off since Dec 2023; net selling at Rs 10,500 crore\\n\\nChina’s military industrial complex has quality issues. Self-reliance is some way off\\n\\nChina’s military industrial complex has quality issues. Self-reliance is some way off\\n\\nDelhi Budget: Expenditure to grow 44% to Rs 1 lakh crore\\xa0in FY26, fiscal deficit to see a nine-fold rise\\n\\nDelhi Budget: Expenditure to grow 44% to Rs 1 lakh crore in FY26, fiscal deficit to see a nine-fold rise\\n\\nCentre cuts import duty on parts needed to make EV batteries, phones\\n\\nCentre cuts import duty on parts needed to make EV batteries, phones\\n\\nView More\\n\\nAdvertisement\\n\\nRemove Ad\\n\\nEditor’s Picks Newsletter\\n\\nView Past Editor’s Picks\\n\\nApril 02, 2025\\n\\nMoneycontrol cuts through the clutter and brings you the best of our exclusive stories, market-moving coverage and must-read perspectives in this specially curated Newsletter.\\n\\nDear reader,\\n\\nWith US President Donald Trump’s reciprocal tariffs expected to kick in later tonight, we start today with a piece on how India’s PMS managers are bracing for Trump’s tariffs and where they are investing. They are playing it safe and some are going big on healthcare, consumer electronics, and banking stocks, reports Khushi Keswani. Indian exports to USA amounted to $77.5 billion last year while US imports were worth $40.7 billion. Within this, which are the key stocks investors should now watch carefully? Find out in Khushi’s second piece where she lists key stocks, industry by industry. Also read N. N. Mahalakakshmi’s story on veteran investor Prashant Jain who believes that Trump’s tariffs won’t rattle India’s markets, at least not significantly. For the bigger picture, check out Manas Chakravarty’s long-view piece on how the new tariffs war will radically overhaul the global economic order and change the game for everyone, especially China.\\n\\nMost people retire by 75, but not Suven Life Sciences chairman and MD Venkat Jasti, who is making his boldest bet yet, staking his fortunes on a pipeline of central nervous system drugs, which are notoriously difficult to develop. Viswanath Pilla reports that Jasti sold his Suven Pharmaceuticals to Advent International for Rs 6,313 crore in 2022 and invested Rs 500 crore into Suven Life Sciences, which is working on at least six experimental treatments for Alzheimer’s, narcolepsy and depression.\\n\\nForeign investors remain eager to tap India’s IPO market. Apollo Global Management’s portfolio firm, Tenneco Inc., is the latest to join the fray. The auto parts maker’s Indian arm has shortlisted four investment banks for an IPO, eyeing a valuation of up to $2.5 billion, reports Ashwin Mohan. The company, which has 19 manufacturing facilities and more than 12,000 employees in India, plans to raise around $400 million.\\n\\nLast year’s IPO party is now giving way to a nasty hangover. A Moneycontrol analysis shows that nearly half of the companies that debuted in the market have seen their gains wiped out. As many as 34 of 74 companies that listed in FY25 are now trading at below their issue price. Some, like Godavari Biorefineries, declined more than 58 percent from their issue price. Only a handful, such as KRN Heat Exchanger & Refrigeration, have managed to buck the trend.\\n\\nIn the fintech space, Flipkart’s fintech app Super.money is eyeing a $60-100 million funding round at a unicorn valuation, reports Anand J. This move is part of Flipkart’s larger plan to build a comprehensive fintech platform, offering services such as secured credit cards, personal loans, and buy-now-pay-later options. With Super.money emerging as the fifth largest UPI app in India, the latest funding round could unlock value for Flipkart ahead of its proposed IPO.\\n\\nIf you’re based out of Delhi, chances are you’re putting in the longest work hours in the country. The latest Time Use Survey by the Ministry of Statistics and Programme Implementation finds that Delhiites spend nearly 9.5 hours a day on work-related activities - about two hours more than the national average. Ishaan Gera reports that those in Haryana enjoy the most leisure time and, surprisingly - or maybe not - also boast the highest per capita income.\\n\\nAnd finally, in our special golden visa series, take a look at Malta, a top choice for Indian millionaires seeking a gateway to Europe. As Abhinav Kaul outlines in this piece, the programme offers European Union residency, a favourable tax structure, and investment opportunities. With a relatively low minimum investment requirement and no mandatory stay obligation, the Mediterranean island is giving other European countries a run for their money.\\n\\nRegards, Nalin Mehta Managing Editor Moneycontrol If you'd like Editor's Picks delivered straight to your inbox, subscribe now! Subscribe to Moneycontrol Pro to unlock exclusive features\\n\\nPlease send thoughts and feedback to editor@moneycontrol.com.\\n\\nFollow us:\\n\\nTerms & Conditions | Privacy Policy\\n\\nTop Categories\\n\\n\\n\\nMarkets\\n\\nCutting-edge stock market insights from our experts.\\n\\nView More\\n\\n\\n\\nCompanies\\n\\nDeep dives into companies with exclusive news and expert analysis.\\n\\nView More\\n\\n\\n\\nPF\\n\\nEmpowering personal finance decisions with exclusive news and expert analysis.\\n\\nView More\\n\\n\\n\\nTech & Startups\\n\\nStay ahead with exclusive tech and startup news and expert analysis.\\n\\nView More\\n\\n\\n\\nBanking\\n\\nUncover the latest banking trends with exclusive news and expert analysis.\\n\\nView More\\n\\n\\n\\nPolicy\\n\\nExpert analysis and exclusive news on key policy developments.\\n\\nView More\\n\\n\\n\\nPolitics\\n\\nExclusive political news and insightful expert analysis.\\n\\nView More\\n\\nMarkets\\n\\nView More\\n\\nYet another MNC listing! Apollo Global picks 4 bankers, kicks off Tenneco's India IPO eyeing up to $2.5-bn valuation\\n\\nYet another MNC listing! Apollo Global picks 4 bankers, kicks off Tenneco's India IPO eyeing up to $2.5-bn valuation\\n\\nIndia’s PMS managers brace for Trump tariffs—here’s where they’re investing\\n\\nNearly half of last year's IPOs below issue price as market correction wipes out gains\\n\\nTrump tariffs won’t impact India, barring some sectors and stocks, says Prashant Jain\\n\\nCompanies\\n\\nView More\\n\\nVenkat Jasti’s billion-dollar gamble: Can Suven Life crack the CNS drug puzzle?\\n\\nVenkat Jasti’s billion-dollar gamble: Can Suven Life crack the CNS drug puzzle?\\n\\nIce cream maker Vadilal's shares surge 13% as promoter family settles tussle, recasts board to separate ownership\\n\\nIndian firms race to forge China ties ahead of Rs 25,000 crore electronics component incentive scheme rollout\\n\\nTrump's Auto Tariffs: These Indian companies will feel the heat. Should you avoid them?\\n\\nPF\\n\\nView More\\n\\nWhy Malta’s Golden Visa is gaining traction as a gateway to Europe\\n\\nWhy Malta’s Golden Visa is gaining traction as a gateway to Europe\\n\\nWhy Canada’s investor visa ranks among the top 5 globally\\n\\nEducation loans for studying abroad: who offers the cheapest interest rates?\\n\\nNet equity inflow fell by 26% to Rs 29,303 crore in February amid market selloff, shows AMFI data\\n\\nTech & Startups\\n\\nView More\\n\\nFlipkart’s super.money looking to raise $60-100 million at unicorn valuation\\n\\nFlipkart’s super.money looking to raise $60-100 million at unicorn valuation\\n\\nZomato lets go of 600 customer support employees amid food delivery slowdown, automation push\\n\\nUnicorn alert! B2B startup Jumbotail nears $120 million funding round at $1 billion valuation\\n\\nInfosys terminates more trainees from Mysuru campus; offers alternative career path\\n\\nBanking\\n\\nView More\\n\\nMC Poll| RBI likely to cut repo rate by 25 bps in April policy\\n\\nMC Poll| RBI likely to cut repo rate by 25 bps in April policy\\n\\nRope in a private banker: RBI may have told IndusInd Bank board on CEO replacement\\n\\nPwC’s initial findings in IndusInd Bank might have necessitated forensic audit\\n\\nIndusInd Bank likely to tap Korn Ferry, Egon Zehnder to shortlist candidates for top jobs\\n\\nPolicy\\n\\nView More\\n\\nChina’s military industrial complex has quality issues. Self-reliance is some way off\\n\\nChina’s military industrial complex has quality issues. Self-reliance is some way off\\n\\nNPCIL to add 1,400 MW nuclear power capacity this year, says CMD Bhuwan Chandra Pathak\\n\\nTrump’s policies could make the EU a contested geopolitical space\\n\\nModi’s US visit can help India secure its long-term strategic goals\\n\\nPolitics\\n\\nView More\\n\\nIndia would need over 1,600 parliamentarians if size of a constituency is limited to 1 million people: MC Analysis\\n\\nIndia would need over 1,600 parliamentarians if size of a constituency is limited to 1 million people: MC Analysis\\n\\nIndia deported more Nigerians than Bangladeshis in 2024\\n\\nSamsung’s persistent labour trouble in TN points to DMK’s weak grip on its coalition partners\\n\\nTrump’s policies could make the EU a contested geopolitical space\\n\\nAdvisory Alert:\\n\\nmoneycontrol\\n\\nFollow Us On:\\n\\nFacebook\\n\\ntwitter\\n\\ninstagram\\n\\nlinkedin\\n\\ntelegram\\n\\nyoutube\\n\\nStocks: A B C D E F G H I J K L M N O P Q R S T U V W X Y Z Others\\n\\nTrending Topics\\n\\nSensex Today Trump Tariffs News Live Reciprocal Tariffs List Trump tariff on India Trump on PM Modi Trump Tariff on Automobiles Trump Tariff Exemption IPL Points Table 2025 Pashu Parichar Result IPL 2025\\n\\nNews\\n\\nBusiness Markets Stocks India News City News Economy Mutual Funds Personal Finance IPO News Startups\\n\\nMarkets\\n\\nHome Currencies Commodities Pre-Market IPO Global Market Bonds\\n\\nPersonal Finance\\n\\nHome Loans up to 50 Lakhs Credit Cards Lifetime Free Finance TrackerNew Fixed DepositsNew Fixed Deposit Comparison Fixed Income\\n\\nMutual Funds\\n\\nHome MC 30 Top Ranked Funds ETFs Mutual Fund Screener\\n\\nTools\\n\\nIncome Tax Calculator EMI Calculator Retirement Planning Gratuity Calculator\\n\\nCommunity\\n\\nStock Markets\\n\\nNetwork 18 Sites\\n\\nNews18 Firstpost CNBC TV18 News18 Hindi Cricketnext Overdrive Topper Learning\\n\\nQuick Links\\n\\nAbout Us Contact Us Advisory Alert Advertise with Us SupportDisclaimer Privacy Policy Cookie Policy Terms & Conditions Financial Terms (Glossary) Sitemap Investors\\n\\nDownload MC Apps:\\n\\n\\n\\n\\n\\n\\n\\nCopyright © Network18 Media & Investments Limited. All rights reserved. Reproduction of news articles, photos, videos or any other content in whole or in part in any form or medium without express written permission of moneycontrol.com is prohibited.\\n\\nYou got 30 Day’s Trial of\\n\\nMoneycontrol Pro\\n\\nMoneycontrol Pro\\n\\nGrab it Now\\n\\nAd-Free Experience\\n\\nTop Articles from Financial Times\\n\\nTop Articles from Financial Times\\n\\nActionable Insights\\n\\nMC Research\\n\\nEconomic Calendar\\n\\n& Many More\\n\\n& Many More\\n\\nYou are already a Moneycontrol Pro user.\")"
      ]
     },
     "execution_count": 32,
     "metadata": {},
     "output_type": "execute_result"
    }
   ],
   "source": [
    "(data[0])"
   ]
  },
  {
   "cell_type": "markdown",
   "id": "11ac0d28-2275-4e84-a190-2362a84864c2",
   "metadata": {},
   "source": [
    "# Creating Splits Means creating Chunks"
   ]
  },
  {
   "cell_type": "markdown",
   "id": "ac24510f-652f-4405-8aef-a7c4999694b5",
   "metadata": {},
   "source": [
    "1) creating splits\n",
    "2) merge the splits before sending to api \n",
    "3) overlap the chunks to preserve the context of the articles"
   ]
  },
  {
   "cell_type": "code",
   "execution_count": 34,
   "id": "37b59e7a-dbeb-4e5d-b3dd-f2d1a3615452",
   "metadata": {},
   "outputs": [],
   "source": [
    "text = \"\"\"Interstellar is a 2014 epic science fiction film co-written, directed, and produced by Christopher Nolan. \n",
    "It stars Matthew McConaughey, Anne Hathaway, Jessica Chastain, Bill Irwin, Ellen Burstyn, Matt Damon, and Michael Caine. \n",
    "Set in a dystopian future where humanity is embroiled in a catastrophic blight and famine, the film follows a group of astronauts who travel through a wormhole near Saturn in search of a new home for humankind.\n",
    "\n",
    "Brothers Christopher and Jonathan Nolan wrote the screenplay, which had its origins in a script Jonathan developed in 2007 and was originally set to be directed by Steven Spielberg. \n",
    "Kip Thorne, a Caltech theoretical physicist and 2017 Nobel laureate in Physics,[4] was an executive producer, acted as a scientific consultant, and wrote a tie-in book, The Science of Interstellar. \n",
    "Cinematographer Hoyte van Hoytema shot it on 35 mm movie film in the Panavision anamorphic format and IMAX 70 mm. Principal photography began in late 2013 and took place in Alberta, Iceland, and Los Angeles. \n",
    "Interstellar uses extensive practical and miniature effects, and the company Double Negative created additional digital effects.\n",
    "\n",
    "Interstellar premiered in Los Angeles on October 26, 2014. In the United States, it was first released on film stock, expanding to venues using digital projectors. The film received generally positive reviews from critics and grossed over $677 million worldwide ($715 million after subsequent re-releases), making it the tenth-highest-grossing film of 2014. \n",
    "It has been praised by astronomers for its scientific accuracy and portrayal of theoretical astrophysics.[5][6][7] Interstellar was nominated for five awards at the 87th Academy Awards, winning Best Visual Effects, and received numerous other accolades.\"\"\""
   ]
  },
  {
   "cell_type": "code",
   "execution_count": 35,
   "id": "7ce34a52-8927-4580-a5ef-1620a20a07a3",
   "metadata": {},
   "outputs": [
    {
     "data": {
      "text/plain": [
       "1774"
      ]
     },
     "execution_count": 35,
     "metadata": {},
     "output_type": "execute_result"
    }
   ],
   "source": [
    "len(text)"
   ]
  },
  {
   "cell_type": "code",
   "execution_count": 36,
   "id": "e6c1d011-1154-4569-8383-4d8e12af327b",
   "metadata": {},
   "outputs": [],
   "source": [
    "words = text.split(\" \")"
   ]
  },
  {
   "cell_type": "code",
   "execution_count": 38,
   "id": "0903fdde-1830-42b9-87dd-a147a5dbee09",
   "metadata": {},
   "outputs": [
    {
     "data": {
      "text/plain": [
       "264"
      ]
     },
     "execution_count": 38,
     "metadata": {},
     "output_type": "execute_result"
    }
   ],
   "source": [
    "len(words)"
   ]
  },
  {
   "cell_type": "code",
   "execution_count": 39,
   "id": "36816780-bd64-4c34-baf9-162c05366b9c",
   "metadata": {},
   "outputs": [
    {
     "name": "stderr",
     "output_type": "stream",
     "text": [
      "WARNING:langchain_text_splitters.base:Created a chunk of size 210, which is longer than the specified 200\n",
      "WARNING:langchain_text_splitters.base:Created a chunk of size 208, which is longer than the specified 200\n",
      "WARNING:langchain_text_splitters.base:Created a chunk of size 358, which is longer than the specified 200\n"
     ]
    },
    {
     "data": {
      "text/plain": [
       "9"
      ]
     },
     "execution_count": 39,
     "metadata": {},
     "output_type": "execute_result"
    }
   ],
   "source": [
    "from langchain.text_splitter import CharacterTextSplitter\n",
    "\n",
    "splitter = CharacterTextSplitter(\n",
    "    separator='\\n',\n",
    "    chunk_size=200,\n",
    "    chunk_overlap=0\n",
    ")\n",
    "\n",
    "chunks = splitter.split_text(text)\n",
    "len(chunks)"
   ]
  },
  {
   "cell_type": "code",
   "execution_count": 40,
   "id": "0c8c38d9-01f0-4388-9eda-2a5fc00767eb",
   "metadata": {},
   "outputs": [
    {
     "name": "stdout",
     "output_type": "stream",
     "text": [
      "105\n",
      "120\n",
      "210\n",
      "181\n",
      "197\n",
      "207\n",
      "128\n",
      "357\n",
      "253\n"
     ]
    }
   ],
   "source": [
    "\n",
    "for chunk in chunks:\n",
    "    print(len(chunk))"
   ]
  },
  {
   "cell_type": "markdown",
   "id": "60fb4e8b-0a4d-4c0a-8677-bca85745ae26",
   "metadata": {},
   "source": [
    "\n",
    "As you can see, all though we gave 200 as a chunk size since the split was based on \\n, it ended up creating chunks that are bigger than size 200.\n",
    "\n",
    "Another class from Langchain can be used to recursively split the text based on a list of separators. This class is RecursiveTextSplitter. Let's see how it works"
   ]
  },
  {
   "cell_type": "markdown",
   "id": "727c819e-0a2c-4f1f-8e23-c6976705dc38",
   "metadata": {},
   "source": [
    "##  RecursiveTextSplitter"
   ]
  },
  {
   "cell_type": "code",
   "execution_count": 41,
   "id": "ea118370-a9f1-4417-8a84-3c511606b3cd",
   "metadata": {},
   "outputs": [
    {
     "data": {
      "text/plain": [
       "'Interstellar is a 2014 epic science fiction film co-written, directed, and produced by Christopher Nolan. \\nIt stars Matthew McConaughey, Anne Hathaway, Jessica Chastain, Bill Irwin, Ellen Burstyn, Matt Damon, and Michael Caine. \\nSet in a dystopian future where humanity is embroiled in a catastrophic blight and famine, the film follows a group of astronauts who travel through a wormhole near Saturn in search of a new home for humankind.\\n\\nBrothers Christopher and Jonathan Nolan wrote the screenplay, which had its origins in a script Jonathan developed in 2007 and was originally set to be directed by Steven Spielberg. \\nKip Thorne, a Caltech theoretical physicist and 2017 Nobel laureate in Physics,[4] was an executive producer, acted as a scientific consultant, and wrote a tie-in book, The Science of Interstellar. \\nCinematographer Hoyte van Hoytema shot it on 35 mm movie film in the Panavision anamorphic format and IMAX 70 mm. Principal photography began in late 2013 and took place in Alberta, Iceland, and Los Angeles. \\nInterstellar uses extensive practical and miniature effects, and the company Double Negative created additional digital effects.\\n\\nInterstellar premiered in Los Angeles on October 26, 2014. In the United States, it was first released on film stock, expanding to venues using digital projectors. The film received generally positive reviews from critics and grossed over $677 million worldwide ($715 million after subsequent re-releases), making it the tenth-highest-grossing film of 2014. \\nIt has been praised by astronomers for its scientific accuracy and portrayal of theoretical astrophysics.[5][6][7] Interstellar was nominated for five awards at the 87th Academy Awards, winning Best Visual Effects, and received numerous other accolades.'"
      ]
     },
     "execution_count": 41,
     "metadata": {},
     "output_type": "execute_result"
    }
   ],
   "source": [
    "text"
   ]
  },
  {
   "cell_type": "code",
   "execution_count": 42,
   "id": "e1ca555a-eeaa-43ff-9a84-8127ef70e34a",
   "metadata": {},
   "outputs": [],
   "source": [
    "\n",
    "from langchain.text_splitter import RecursiveCharacterTextSplitter\n",
    "\n",
    "r_splitter = RecursiveCharacterTextSplitter(\n",
    "    separators = [\"\\n\\n\", \"\\n\", \" \"],  # List of separators based on requirement (defaults to [\"\\n\\n\", \"\\n\", \" \"])\n",
    "    chunk_size = 200,  # size of each chunk created\n",
    "    chunk_overlap  = 0,  # size of  overlap between chunks in order to maintain the context\n",
    "    length_function = len  # Function to calculate size, currently we are using \"len\" which denotes length of string however you can pass any token counter)\n",
    ")"
   ]
  },
  {
   "cell_type": "code",
   "execution_count": 43,
   "id": "6b9da22f-7ff9-4617-91fc-67452b8662a9",
   "metadata": {},
   "outputs": [
    {
     "name": "stdout",
     "output_type": "stream",
     "text": [
      "105\n",
      "120\n",
      "199\n",
      "10\n",
      "181\n",
      "197\n",
      "198\n",
      "8\n",
      "128\n",
      "191\n",
      "165\n",
      "198\n",
      "54\n"
     ]
    }
   ],
   "source": [
    "chunks = r_splitter.split_text(text)\n",
    "\n",
    "for chunk in chunks:\n",
    "    print(len(chunk))"
   ]
  }
 ],
 "metadata": {
  "kernelspec": {
   "display_name": "Python (base)",
   "language": "python",
   "name": "base"
  },
  "language_info": {
   "codemirror_mode": {
    "name": "ipython",
    "version": 3
   },
   "file_extension": ".py",
   "mimetype": "text/x-python",
   "name": "python",
   "nbconvert_exporter": "python",
   "pygments_lexer": "ipython3",
   "version": "3.11.7"
  }
 },
 "nbformat": 4,
 "nbformat_minor": 5
}
